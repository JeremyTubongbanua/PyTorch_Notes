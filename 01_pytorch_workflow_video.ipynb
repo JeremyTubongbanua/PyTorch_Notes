{
  "nbformat": 4,
  "nbformat_minor": 0,
  "metadata": {
    "colab": {
      "provenance": [],
      "gpuType": "T4"
    },
    "kernelspec": {
      "name": "python3",
      "display_name": "Python 3"
    },
    "language_info": {
      "name": "python"
    },
    "accelerator": "GPU"
  },
  "cells": [
    {
      "cell_type": "markdown",
      "source": [
        "# PyTorch workflow\n",
        "\n",
        "- https://www.learnpytorch.io/01_pytorch_workflow/"
      ],
      "metadata": {
        "id": "K4ilTKjB-5hM"
      }
    },
    {
      "cell_type": "code",
      "source": [
        "import torch\n",
        "from torch import nn ## nn contains building blocks\n",
        "\n",
        "torch.__version__"
      ],
      "metadata": {
        "colab": {
          "base_uri": "https://localhost:8080/",
          "height": 35
        },
        "id": "JDU51G8o_Fg-",
        "outputId": "0a687925-6769-4e8e-fc74-b4d9a0906b3b"
      },
      "execution_count": null,
      "outputs": [
        {
          "output_type": "execute_result",
          "data": {
            "text/plain": [
              "'2.4.1+cu121'"
            ],
            "application/vnd.google.colaboratory.intrinsic+json": {
              "type": "string"
            }
          },
          "metadata": {},
          "execution_count": 51
        }
      ]
    },
    {
      "cell_type": "code",
      "source": [
        "# use linear regression formula to make a straight line with known parameters\n",
        "\n",
        "# Crete known parameters\n",
        "weight = 0.7 # b\n",
        "bias = 0.3 # a\n",
        "\n",
        "start = 0\n",
        "end = 1\n",
        "step = 0.02\n",
        "\n",
        "X = torch.arange(start, end, step).unsqueeze(dim=1)\n",
        "y = weight * X + bias\n",
        "\n",
        "X[:10], y[:10], len(X), len(y)"
      ],
      "metadata": {
        "colab": {
          "base_uri": "https://localhost:8080/"
        },
        "id": "okwpEvwKEN8t",
        "outputId": "55d45ca4-6d74-494c-e3ec-bdf55f1e3adf"
      },
      "execution_count": null,
      "outputs": [
        {
          "output_type": "execute_result",
          "data": {
            "text/plain": [
              "(tensor([[0.0000],\n",
              "         [0.0200],\n",
              "         [0.0400],\n",
              "         [0.0600],\n",
              "         [0.0800],\n",
              "         [0.1000],\n",
              "         [0.1200],\n",
              "         [0.1400],\n",
              "         [0.1600],\n",
              "         [0.1800]]),\n",
              " tensor([[0.3000],\n",
              "         [0.3140],\n",
              "         [0.3280],\n",
              "         [0.3420],\n",
              "         [0.3560],\n",
              "         [0.3700],\n",
              "         [0.3840],\n",
              "         [0.3980],\n",
              "         [0.4120],\n",
              "         [0.4260]]),\n",
              " 50,\n",
              " 50)"
            ]
          },
          "metadata": {},
          "execution_count": 52
        }
      ]
    },
    {
      "cell_type": "code",
      "source": [
        "### Splitting data into training and test sets\n",
        "train_split_index = int(0.8*len(X))\n",
        "X_train, y_train = X[:train_split_index], y[:train_split_index]\n",
        "X_test, y_test = X[train_split_index:], y[train_split_index:]\n",
        "\n",
        "len(X_train), len(y_train), len(X_test), len(y_test)"
      ],
      "metadata": {
        "colab": {
          "base_uri": "https://localhost:8080/"
        },
        "id": "-QzwgpMpFSDA",
        "outputId": "4e53dc51-fc3a-4b2a-eae0-b10b6655cd75"
      },
      "execution_count": null,
      "outputs": [
        {
          "output_type": "execute_result",
          "data": {
            "text/plain": [
              "(40, 40, 10, 10)"
            ]
          },
          "metadata": {},
          "execution_count": 53
        }
      ]
    },
    {
      "cell_type": "code",
      "source": [
        "from matplotlib import pyplot as plt\n",
        "def plot_predictions(train_data=X_train, train_labels=y_train, test_data=X_test, test_labels=y_test, predictions=None):\n",
        "  \"\"\"\n",
        "  Plots training data, test data and compares predictions\n",
        "  \"\"\"\n",
        "  plt.figure(figsize=(10, 7))\n",
        "\n",
        "  # Plot training data ni blue\n",
        "  plt.scatter(train_data, train_labels, c=\"b\", s=4, label=\"Training data\")\n",
        "\n",
        "  plt.scatter(test_data, test_labels, c=\"g\", s=8, label=\"Testing data\")\n",
        "\n",
        "  if predictions is not None:\n",
        "    plt.scatter(test_data, predictions, c=\"r\", s=4, label=\"Predictions\")\n",
        "\n",
        "plot_predictions(X_train, y_train, X_test, y_test)"
      ],
      "metadata": {
        "colab": {
          "base_uri": "https://localhost:8080/",
          "height": 459
        },
        "id": "bApwR_SPJXic",
        "outputId": "bd6184f0-fb39-4588-f512-4920da4e99a9"
      },
      "execution_count": null,
      "outputs": [
        {
          "output_type": "display_data",
          "data": {
            "text/plain": [
              "<Figure size 1000x700 with 1 Axes>"
            ],
            "image/png": "[encoded data removed]"
          },
          "metadata": {}
        }
      ]
    },
    {
      "cell_type": "code",
      "source": [
        "from torch import nn\n",
        "\n",
        "# Create linear regression model class\n",
        "\n",
        "class LinearRegressionModel(nn.Module):\n",
        "  def __init__(self):\n",
        "    super().__init__()\n",
        "    self.weights = nn.Parameter(torch.rand(1, # size\n",
        "                                           requires_grad=True,\n",
        "                                           dtype=torch.float))\n",
        "    self.bias = nn.Parameter(torch.randn(\n",
        "        1, # size\n",
        "        requires_grad=True, # auto grad implements gradient descent\n",
        "        dtype=torch.float\n",
        "    ))\n",
        "\n",
        "  def forward(self, x) -> torch.Tensor: # define forward computation in the model, overrides in the nn.Module class\n",
        "    # any subclass of nn.Module needs to override the forward method\n",
        "    return self.weights*x + self.bias\n"
      ],
      "metadata": {
        "id": "zS_D3RgHLc6c"
      },
      "execution_count": null,
      "outputs": []
    },
    {
      "cell_type": "markdown",
      "source": [
        "* torch.nn - building blocks for ocmputational graphs (a nn can be considered a computational graph)\n",
        "* torch.nn.Parameter - what parameters should our model try and learn, PyTorch layer from torch.nn will set this for us\n",
        "* torch.nn.Module - base class for all neural network modules, if you sub class it, you should override forward()\n",
        "* torch.optim - where optimizers in PyTorch live, they will help with gradient descent. An optimizer starts with random values then adjust weights and bias that better represent our data.\n",
        "* def forward() - this method defines what happens in the forward computation"
      ],
      "metadata": {
        "id": "if04vUoaxcMs"
      }
    },
    {
      "cell_type": "markdown",
      "source": [
        "* torch.utils.data.Dataset\n",
        "* torch.utils.data.DataLoader"
      ],
      "metadata": {
        "id": "ux7WgfkeylB-"
      }
    },
    {
      "cell_type": "markdown",
      "source": [
        "### CHecking contents of our PyTorch model\n",
        "\n",
        "Now that we've created a model, let's see what's inside\n",
        "\n",
        "check using `.parameters()`"
      ],
      "metadata": {
        "id": "X7MXDW0iyuN_"
      }
    },
    {
      "cell_type": "code",
      "source": [
        "# Create a random seed\n",
        "torch.manual_seed(42)\n",
        "\n",
        "model_0 = LinearRegressionModel()\n",
        "list(model_0.parameters())"
      ],
      "metadata": {
        "colab": {
          "base_uri": "https://localhost:8080/"
        },
        "id": "2Jjc7fHwyw4H",
        "outputId": "bbef4599-ea1e-4d30-d5d2-faad029543e5"
      },
      "execution_count": null,
      "outputs": [
        {
          "output_type": "execute_result",
          "data": {
            "text/plain": [
              "[Parameter containing:\n",
              " tensor([0.8823], requires_grad=True),\n",
              " Parameter containing:\n",
              " tensor([-0.6382], requires_grad=True)]"
            ]
          },
          "metadata": {},
          "execution_count": 56
        }
      ]
    },
    {
      "cell_type": "code",
      "source": [
        "# List named paramters\n",
        "model_0.state_dict()"
      ],
      "metadata": {
        "colab": {
          "base_uri": "https://localhost:8080/"
        },
        "id": "vQgzmw_xzbDI",
        "outputId": "c5581d9c-aade-4757-f6f9-7706695d56ae"
      },
      "execution_count": null,
      "outputs": [
        {
          "output_type": "execute_result",
          "data": {
            "text/plain": [
              "OrderedDict([('weights', tensor([0.8823])), ('bias', tensor([-0.6382]))])"
            ]
          },
          "metadata": {},
          "execution_count": 57
        }
      ]
    },
    {
      "cell_type": "code",
      "source": [
        "weight, bias"
      ],
      "metadata": {
        "colab": {
          "base_uri": "https://localhost:8080/"
        },
        "id": "OUUsq0y8zsfR",
        "outputId": "4de3a4f6-fe60-40ad-c684-77a835338a2e"
      },
      "execution_count": null,
      "outputs": [
        {
          "output_type": "execute_result",
          "data": {
            "text/plain": [
              "(0.7, 0.3)"
            ]
          },
          "metadata": {},
          "execution_count": 58
        }
      ]
    },
    {
      "cell_type": "code",
      "source": [
        "# Make prediction using torch.inference_mode()\n",
        "# To check model's predictive power, let's see how it predicts y_test absed on X_test.\n",
        "\n",
        "with torch.inference_mode(): # turns off gradient tracking\n",
        "  y_predictions = model_0(X_test)\n",
        "\n",
        "X_test, y_test, y_predictions"
      ],
      "metadata": {
        "colab": {
          "base_uri": "https://localhost:8080/"
        },
        "id": "4ghCRgHK0S4o",
        "outputId": "08011510-d9aa-4d32-ee3d-740446aaf2c0"
      },
      "execution_count": null,
      "outputs": [
        {
          "output_type": "execute_result",
          "data": {
            "text/plain": [
              "(tensor([[0.8000],\n",
              "         [0.8200],\n",
              "         [0.8400],\n",
              "         [0.8600],\n",
              "         [0.8800],\n",
              "         [0.9000],\n",
              "         [0.9200],\n",
              "         [0.9400],\n",
              "         [0.9600],\n",
              "         [0.9800]]),\n",
              " tensor([[0.8600],\n",
              "         [0.8740],\n",
              "         [0.8880],\n",
              "         [0.9020],\n",
              "         [0.9160],\n",
              "         [0.9300],\n",
              "         [0.9440],\n",
              "         [0.9580],\n",
              "         [0.9720],\n",
              "         [0.9860]]),\n",
              " tensor([[0.0677],\n",
              "         [0.0853],\n",
              "         [0.1030],\n",
              "         [0.1206],\n",
              "         [0.1382],\n",
              "         [0.1559],\n",
              "         [0.1735],\n",
              "         [0.1912],\n",
              "         [0.2088],\n",
              "         [0.2265]]))"
            ]
          },
          "metadata": {},
          "execution_count": 59
        }
      ]
    },
    {
      "cell_type": "code",
      "source": [
        "plot_predictions(predictions=y_predictions)"
      ],
      "metadata": {
        "colab": {
          "base_uri": "https://localhost:8080/",
          "height": 459
        },
        "id": "MyGjgUDk0xLn",
        "outputId": "de52caa5-1c6a-4251-baa3-02c9992a4ab5"
      },
      "execution_count": null,
      "outputs": [
        {
          "output_type": "display_data",
          "data": {
            "text/plain": [
              "<Figure size 1000x700 with 1 Axes>"
            ],
            "image/png": "[encoded data removed]"
          },
          "metadata": {}
        }
      ]
    },
    {
      "cell_type": "markdown",
      "source": [
        "* loss functions = cost function = criterion\n",
        "* loss function is a function to measure how wrong your model's predictions are to ideal outputs\n",
        "* L1 loss (mean absolute error) and MSE loss (mean squared error) used for regression\n",
        "\n",
        "* optimizer - takes account of loss of model and adjusts the model's parameters (e.g. weight and biases)\n"
      ],
      "metadata": {
        "id": "K1wctu6q2zm8"
      }
    },
    {
      "cell_type": "code",
      "source": [
        "list(model_0.parameters())"
      ],
      "metadata": {
        "colab": {
          "base_uri": "https://localhost:8080/"
        },
        "id": "yghg5r9E3MkW",
        "outputId": "58dec2a3-10b2-4c3d-afb9-9df5d4ff961f"
      },
      "execution_count": null,
      "outputs": [
        {
          "output_type": "execute_result",
          "data": {
            "text/plain": [
              "[Parameter containing:\n",
              " tensor([0.8823], requires_grad=True),\n",
              " Parameter containing:\n",
              " tensor([-0.6382], requires_grad=True)]"
            ]
          },
          "metadata": {},
          "execution_count": 61
        }
      ]
    },
    {
      "cell_type": "code",
      "source": [
        "# Set up a loss function\n",
        "loss_fn = nn.L1Loss()\n",
        "# measures how wrong model is"
      ],
      "metadata": {
        "id": "1_Cw0yRJ4Ev0"
      },
      "execution_count": null,
      "outputs": []
    },
    {
      "cell_type": "code",
      "source": [
        "# Set up an optimizer\n",
        "optimizer = torch.optim.SGD(  # stochastic gradient descent\n",
        "    params=model_0.parameters(), # the things that the optimizer is going to change\n",
        "    lr=0.01) # learning rate (Default is 0.1 for SGD), it is a hyper parameter (something that we set, parameters are something that the NN changes)"
      ],
      "metadata": {
        "id": "m2vK20Il4PXx"
      },
      "execution_count": null,
      "outputs": []
    },
    {
      "cell_type": "markdown",
      "source": [
        "###  Build a training loop and a testing loop\n",
        "\n",
        "#### For the Training Loop\n",
        "0. Loop through the data\n",
        "1. Forward pass (this involves data moving through model's `forward()` functions) - also called forward propagation\n",
        "2. Calculate the loss (compare forward pass predictions to ground truth labels)\n",
        "3. Optimizer zero gradient\n",
        "4. Loss backward (backward propagataion) - move backwards through the NN to calculate the gradients of each of the paramters of our model with the respect to the loss\n",
        "5. Optimizer step - use optimizer to adjust model's parameters to try and improve the loss\n",
        "\n",
        "#### For the Testing Loop\n"
      ],
      "metadata": {
        "id": "UKEjFMVC5VXq"
      }
    },
    {
      "cell_type": "code",
      "source": [
        "torch.manual_seed(42)\n",
        "\n",
        "# epoch is one loop through the data\n",
        "epochs = 1000\n",
        "\n",
        "# 0. Loop through the data\n",
        "for epoch in range(epochs):\n",
        "  # Set the model to training model\n",
        "  model_0.train() # sets all require gradients to require gradients\n",
        "\n",
        "  # 1. Fowrad pass\n",
        "\n",
        "  # print(X_train)\n",
        "  # print(y_train)\n",
        "  y_preds = model_0(X_train)\n",
        "  # print(y_preds)\n",
        "\n",
        "  # 2. Calculate loss\n",
        "  loss = loss_fn(y_preds, y_train)\n",
        "\n",
        "  # 3. optimizer zero grad\n",
        "  optimizer.zero_grad()\n",
        "\n",
        "  # 4. Perform backpropagation on oss with respect to parameters of the model\n",
        "  loss.backward()\n",
        "\n",
        "  # 5. Step optimizer (perform gradient descent)\n",
        "  optimizer.step()\n",
        "\n",
        "  model_0.eval() # turns off settings that are unneeded for evaluation/testing\n",
        "  with torch.inference_mode():\n",
        "    test_pred = model_0(X_test)\n",
        "\n",
        "    test_loss = loss_fn(test_pred, y_test)\n",
        "    print(model_0.state_dict())"
      ],
      "metadata": {
        "colab": {
          "base_uri": "https://localhost:8080/"
        },
        "id": "SZuDP4ty6OF2",
        "outputId": "11a9fbec-f114-4327-d337-d7e8f03addf1"
      },
      "execution_count": null,
      "outputs": [
        {
          "output_type": "stream",
          "name": "stdout",
          "text": [
            "OrderedDict([('weights', tensor([0.8862])), ('bias', tensor([-0.6282]))])\n",
            "OrderedDict([('weights', tensor([0.8901])), ('bias', tensor([-0.6182]))])\n",
            "OrderedDict([('weights', tensor([0.8940])), ('bias', tensor([-0.6082]))])\n",
            "OrderedDict([('weights', tensor([0.8979])), ('bias', tensor([-0.5982]))])\n",
            "OrderedDict([('weights', tensor([0.9018])), ('bias', tensor([-0.5882]))])\n",
            "OrderedDict([('weights', tensor([0.9057])), ('bias', tensor([-0.5782]))])\n",
            "OrderedDict([('weights', tensor([0.9096])), ('bias', tensor([-0.5682]))])\n",
            "OrderedDict([('weights', tensor([0.9135])), ('bias', tensor([-0.5582]))])\n",
            "OrderedDict([('weights', tensor([0.9174])), ('bias', tensor([-0.5482]))])\n",
            "OrderedDict([('weights', tensor([0.9213])), ('bias', tensor([-0.5382]))])\n",
            "OrderedDict([('weights', tensor([0.9252])), ('bias', tensor([-0.5282]))])\n",
            "OrderedDict([('weights', tensor([0.9291])), ('bias', tensor([-0.5182]))])\n",
            "OrderedDict([('weights', tensor([0.9330])), ('bias', tensor([-0.5082]))])\n",
            "OrderedDict([('weights', tensor([0.9369])), ('bias', tensor([-0.4982]))])\n",
            "OrderedDict([('weights', tensor([0.9408])), ('bias', tensor([-0.4882]))])\n",
            "OrderedDict([('weights', tensor([0.9447])), ('bias', tensor([-0.4782]))])\n",
            "OrderedDict([('weights', tensor([0.9486])), ('bias', tensor([-0.4682]))])\n",
            "OrderedDict([('weights', tensor([0.9525])), ('bias', tensor([-0.4582]))])\n",
            "OrderedDict([('weights', tensor([0.9564])), ('bias', tensor([-0.4482]))])\n",
            "OrderedDict([('weights', tensor([0.9603])), ('bias', tensor([-0.4382]))])\n",
            "OrderedDict([('weights', tensor([0.9642])), ('bias', tensor([-0.4282]))])\n",
            "OrderedDict([('weights', tensor([0.9681])), ('bias', tensor([-0.4182]))])\n",
            "OrderedDict([('weights', tensor([0.9720])), ('bias', tensor([-0.4082]))])\n",
            "OrderedDict([('weights', tensor([0.9759])), ('bias', tensor([-0.3982]))])\n",
            "OrderedDict([('weights', tensor([0.9798])), ('bias', tensor([-0.3882]))])\n",
            "OrderedDict([('weights', tensor([0.9837])), ('bias', tensor([-0.3782]))])\n",
            "OrderedDict([('weights', tensor([0.9876])), ('bias', tensor([-0.3682]))])\n",
            "OrderedDict([('weights', tensor([0.9915])), ('bias', tensor([-0.3582]))])\n",
            "OrderedDict([('weights', tensor([0.9954])), ('bias', tensor([-0.3482]))])\n",
            "OrderedDict([('weights', tensor([0.9993])), ('bias', tensor([-0.3382]))])\n",
            "OrderedDict([('weights', tensor([1.0032])), ('bias', tensor([-0.3282]))])\n",
            "OrderedDict([('weights', tensor([1.0071])), ('bias', tensor([-0.3182]))])\n",
            "OrderedDict([('weights', tensor([1.0110])), ('bias', tensor([-0.3082]))])\n",
            "OrderedDict([('weights', tensor([1.0149])), ('bias', tensor([-0.2982]))])\n",
            "OrderedDict([('weights', tensor([1.0188])), ('bias', tensor([-0.2882]))])\n",
            "OrderedDict([('weights', tensor([1.0227])), ('bias', tensor([-0.2782]))])\n",
            "OrderedDict([('weights', tensor([1.0266])), ('bias', tensor([-0.2682]))])\n",
            "OrderedDict([('weights', tensor([1.0305])), ('bias', tensor([-0.2582]))])\n",
            "OrderedDict([('weights', tensor([1.0344])), ('bias', tensor([-0.2482]))])\n",
            "OrderedDict([('weights', tensor([1.0383])), ('bias', tensor([-0.2382]))])\n",
            "OrderedDict([('weights', tensor([1.0422])), ('bias', tensor([-0.2282]))])\n",
            "OrderedDict([('weights', tensor([1.0461])), ('bias', tensor([-0.2182]))])\n",
            "OrderedDict([('weights', tensor([1.0500])), ('bias', tensor([-0.2082]))])\n",
            "OrderedDict([('weights', tensor([1.0539])), ('bias', tensor([-0.1982]))])\n",
            "OrderedDict([('weights', tensor([1.0578])), ('bias', tensor([-0.1882]))])\n",
            "OrderedDict([('weights', tensor([1.0617])), ('bias', tensor([-0.1782]))])\n",
            "OrderedDict([('weights', tensor([1.0656])), ('bias', tensor([-0.1682]))])\n",
            "OrderedDict([('weights', tensor([1.0695])), ('bias', tensor([-0.1582]))])\n",
            "OrderedDict([('weights', tensor([1.0734])), ('bias', tensor([-0.1482]))])\n",
            "OrderedDict([('weights', tensor([1.0773])), ('bias', tensor([-0.1382]))])\n",
            "OrderedDict([('weights', tensor([1.0812])), ('bias', tensor([-0.1282]))])\n",
            "OrderedDict([('weights', tensor([1.0851])), ('bias', tensor([-0.1182]))])\n",
            "OrderedDict([('weights', tensor([1.0890])), ('bias', tensor([-0.1082]))])\n",
            "OrderedDict([('weights', tensor([1.0929])), ('bias', tensor([-0.0982]))])\n",
            "OrderedDict([('weights', tensor([1.0968])), ('bias', tensor([-0.0882]))])\n",
            "OrderedDict([('weights', tensor([1.1007])), ('bias', tensor([-0.0782]))])\n",
            "OrderedDict([('weights', tensor([1.1046])), ('bias', tensor([-0.0682]))])\n",
            "OrderedDict([('weights', tensor([1.1085])), ('bias', tensor([-0.0582]))])\n",
            "OrderedDict([('weights', tensor([1.1124])), ('bias', tensor([-0.0482]))])\n",
            "OrderedDict([('weights', tensor([1.1163])), ('bias', tensor([-0.0382]))])\n",
            "OrderedDict([('weights', tensor([1.1202])), ('bias', tensor([-0.0282]))])\n",
            "OrderedDict([('weights', tensor([1.1241])), ('bias', tensor([-0.0182]))])\n",
            "OrderedDict([('weights', tensor([1.1272])), ('bias', tensor([-0.0092]))])\n",
            "OrderedDict([('weights', tensor([1.1300])), ('bias', tensor([-0.0007]))])\n",
            "OrderedDict([('weights', tensor([1.1320])), ('bias', tensor([0.0068]))])\n",
            "OrderedDict([('weights', tensor([1.1337])), ('bias', tensor([0.0138]))])\n",
            "OrderedDict([('weights', tensor([1.1351])), ('bias', tensor([0.0203]))])\n",
            "OrderedDict([('weights', tensor([1.1365])), ('bias', tensor([0.0268]))])\n",
            "OrderedDict([('weights', tensor([1.1375])), ('bias', tensor([0.0328]))])\n",
            "OrderedDict([('weights', tensor([1.1383])), ('bias', tensor([0.0383]))])\n",
            "OrderedDict([('weights', tensor([1.1387])), ('bias', tensor([0.0433]))])\n",
            "OrderedDict([('weights', tensor([1.1392])), ('bias', tensor([0.0483]))])\n",
            "OrderedDict([('weights', tensor([1.1394])), ('bias', tensor([0.0528]))])\n",
            "OrderedDict([('weights', tensor([1.1395])), ('bias', tensor([0.0573]))])\n",
            "OrderedDict([('weights', tensor([1.1394])), ('bias', tensor([0.0613]))])\n",
            "OrderedDict([('weights', tensor([1.1393])), ('bias', tensor([0.0653]))])\n",
            "OrderedDict([('weights', tensor([1.1389])), ('bias', tensor([0.0688]))])\n",
            "OrderedDict([('weights', tensor([1.1385])), ('bias', tensor([0.0723]))])\n",
            "OrderedDict([('weights', tensor([1.1378])), ('bias', tensor([0.0753]))])\n",
            "OrderedDict([('weights', tensor([1.1372])), ('bias', tensor([0.0783]))])\n",
            "OrderedDict([('weights', tensor([1.1365])), ('bias', tensor([0.0813]))])\n",
            "OrderedDict([('weights', tensor([1.1359])), ('bias', tensor([0.0843]))])\n",
            "OrderedDict([('weights', tensor([1.1350])), ('bias', tensor([0.0868]))])\n",
            "OrderedDict([('weights', tensor([1.1341])), ('bias', tensor([0.0893]))])\n",
            "OrderedDict([('weights', tensor([1.1332])), ('bias', tensor([0.0918]))])\n",
            "OrderedDict([('weights', tensor([1.1323])), ('bias', tensor([0.0943]))])\n",
            "OrderedDict([('weights', tensor([1.1312])), ('bias', tensor([0.0963]))])\n",
            "OrderedDict([('weights', tensor([1.1300])), ('bias', tensor([0.0983]))])\n",
            "OrderedDict([('weights', tensor([1.1289])), ('bias', tensor([0.1003]))])\n",
            "OrderedDict([('weights', tensor([1.1277])), ('bias', tensor([0.1023]))])\n",
            "OrderedDict([('weights', tensor([1.1266])), ('bias', tensor([0.1043]))])\n",
            "OrderedDict([('weights', tensor([1.1252])), ('bias', tensor([0.1058]))])\n",
            "OrderedDict([('weights', tensor([1.1239])), ('bias', tensor([0.1073]))])\n",
            "OrderedDict([('weights', tensor([1.1225])), ('bias', tensor([0.1088]))])\n",
            "OrderedDict([('weights', tensor([1.1211])), ('bias', tensor([0.1103]))])\n",
            "OrderedDict([('weights', tensor([1.1197])), ('bias', tensor([0.1118]))])\n",
            "OrderedDict([('weights', tensor([1.1184])), ('bias', tensor([0.1133]))])\n",
            "OrderedDict([('weights', tensor([1.1170])), ('bias', tensor([0.1148]))])\n",
            "OrderedDict([('weights', tensor([1.1156])), ('bias', tensor([0.1163]))])\n",
            "OrderedDict([('weights', tensor([1.1143])), ('bias', tensor([0.1178]))])\n",
            "OrderedDict([('weights', tensor([1.1127])), ('bias', tensor([0.1188]))])\n",
            "OrderedDict([('weights', tensor([1.1111])), ('bias', tensor([0.1198]))])\n",
            "OrderedDict([('weights', tensor([1.1095])), ('bias', tensor([0.1208]))])\n",
            "OrderedDict([('weights', tensor([1.1079])), ('bias', tensor([0.1218]))])\n",
            "OrderedDict([('weights', tensor([1.1063])), ('bias', tensor([0.1228]))])\n",
            "OrderedDict([('weights', tensor([1.1047])), ('bias', tensor([0.1238]))])\n",
            "OrderedDict([('weights', tensor([1.1031])), ('bias', tensor([0.1248]))])\n",
            "OrderedDict([('weights', tensor([1.1015])), ('bias', tensor([0.1258]))])\n",
            "OrderedDict([('weights', tensor([1.1000])), ('bias', tensor([0.1268]))])\n",
            "OrderedDict([('weights', tensor([1.0984])), ('bias', tensor([0.1278]))])\n",
            "OrderedDict([('weights', tensor([1.0968])), ('bias', tensor([0.1288]))])\n",
            "OrderedDict([('weights', tensor([1.0952])), ('bias', tensor([0.1298]))])\n",
            "OrderedDict([('weights', tensor([1.0936])), ('bias', tensor([0.1308]))])\n",
            "OrderedDict([('weights', tensor([1.0920])), ('bias', tensor([0.1318]))])\n",
            "OrderedDict([('weights', tensor([1.0904])), ('bias', tensor([0.1328]))])\n",
            "OrderedDict([('weights', tensor([1.0888])), ('bias', tensor([0.1338]))])\n",
            "OrderedDict([('weights', tensor([1.0872])), ('bias', tensor([0.1348]))])\n",
            "OrderedDict([('weights', tensor([1.0856])), ('bias', tensor([0.1358]))])\n",
            "OrderedDict([('weights', tensor([1.0841])), ('bias', tensor([0.1368]))])\n",
            "OrderedDict([('weights', tensor([1.0825])), ('bias', tensor([0.1378]))])\n",
            "OrderedDict([('weights', tensor([1.0809])), ('bias', tensor([0.1388]))])\n",
            "OrderedDict([('weights', tensor([1.0793])), ('bias', tensor([0.1398]))])\n",
            "OrderedDict([('weights', tensor([1.0777])), ('bias', tensor([0.1408]))])\n",
            "OrderedDict([('weights', tensor([1.0761])), ('bias', tensor([0.1418]))])\n",
            "OrderedDict([('weights', tensor([1.0745])), ('bias', tensor([0.1428]))])\n",
            "OrderedDict([('weights', tensor([1.0727])), ('bias', tensor([0.1433]))])\n",
            "OrderedDict([('weights', tensor([1.0711])), ('bias', tensor([0.1443]))])\n",
            "OrderedDict([('weights', tensor([1.0693])), ('bias', tensor([0.1448]))])\n",
            "OrderedDict([('weights', tensor([1.0677])), ('bias', tensor([0.1458]))])\n",
            "OrderedDict([('weights', tensor([1.0659])), ('bias', tensor([0.1463]))])\n",
            "OrderedDict([('weights', tensor([1.0641])), ('bias', tensor([0.1468]))])\n",
            "OrderedDict([('weights', tensor([1.0625])), ('bias', tensor([0.1478]))])\n",
            "OrderedDict([('weights', tensor([1.0607])), ('bias', tensor([0.1483]))])\n",
            "OrderedDict([('weights', tensor([1.0592])), ('bias', tensor([0.1493]))])\n",
            "OrderedDict([('weights', tensor([1.0574])), ('bias', tensor([0.1498]))])\n",
            "OrderedDict([('weights', tensor([1.0558])), ('bias', tensor([0.1508]))])\n",
            "OrderedDict([('weights', tensor([1.0540])), ('bias', tensor([0.1513]))])\n",
            "OrderedDict([('weights', tensor([1.0522])), ('bias', tensor([0.1518]))])\n",
            "OrderedDict([('weights', tensor([1.0506])), ('bias', tensor([0.1528]))])\n",
            "OrderedDict([('weights', tensor([1.0488])), ('bias', tensor([0.1533]))])\n",
            "OrderedDict([('weights', tensor([1.0472])), ('bias', tensor([0.1543]))])\n",
            "OrderedDict([('weights', tensor([1.0454])), ('bias', tensor([0.1548]))])\n",
            "OrderedDict([('weights', tensor([1.0438])), ('bias', tensor([0.1558]))])\n",
            "OrderedDict([('weights', tensor([1.0420])), ('bias', tensor([0.1563]))])\n",
            "OrderedDict([('weights', tensor([1.0404])), ('bias', tensor([0.1573]))])\n",
            "OrderedDict([('weights', tensor([1.0386])), ('bias', tensor([0.1578]))])\n",
            "OrderedDict([('weights', tensor([1.0368])), ('bias', tensor([0.1583]))])\n",
            "OrderedDict([('weights', tensor([1.0352])), ('bias', tensor([0.1593]))])\n",
            "OrderedDict([('weights', tensor([1.0334])), ('bias', tensor([0.1598]))])\n",
            "OrderedDict([('weights', tensor([1.0318])), ('bias', tensor([0.1608]))])\n",
            "OrderedDict([('weights', tensor([1.0300])), ('bias', tensor([0.1613]))])\n",
            "OrderedDict([('weights', tensor([1.0284])), ('bias', tensor([0.1623]))])\n",
            "OrderedDict([('weights', tensor([1.0266])), ('bias', tensor([0.1628]))])\n",
            "OrderedDict([('weights', tensor([1.0248])), ('bias', tensor([0.1633]))])\n",
            "OrderedDict([('weights', tensor([1.0232])), ('bias', tensor([0.1643]))])\n",
            "OrderedDict([('weights', tensor([1.0214])), ('bias', tensor([0.1648]))])\n",
            "OrderedDict([('weights', tensor([1.0199])), ('bias', tensor([0.1658]))])\n",
            "OrderedDict([('weights', tensor([1.0181])), ('bias', tensor([0.1663]))])\n",
            "OrderedDict([('weights', tensor([1.0165])), ('bias', tensor([0.1673]))])\n",
            "OrderedDict([('weights', tensor([1.0147])), ('bias', tensor([0.1678]))])\n",
            "OrderedDict([('weights', tensor([1.0129])), ('bias', tensor([0.1683]))])\n",
            "OrderedDict([('weights', tensor([1.0113])), ('bias', tensor([0.1693]))])\n",
            "OrderedDict([('weights', tensor([1.0095])), ('bias', tensor([0.1698]))])\n",
            "OrderedDict([('weights', tensor([1.0079])), ('bias', tensor([0.1708]))])\n",
            "OrderedDict([('weights', tensor([1.0061])), ('bias', tensor([0.1713]))])\n",
            "OrderedDict([('weights', tensor([1.0045])), ('bias', tensor([0.1723]))])\n",
            "OrderedDict([('weights', tensor([1.0027])), ('bias', tensor([0.1728]))])\n",
            "OrderedDict([('weights', tensor([1.0011])), ('bias', tensor([0.1738]))])\n",
            "OrderedDict([('weights', tensor([0.9993])), ('bias', tensor([0.1743]))])\n",
            "OrderedDict([('weights', tensor([0.9975])), ('bias', tensor([0.1748]))])\n",
            "OrderedDict([('weights', tensor([0.9959])), ('bias', tensor([0.1758]))])\n",
            "OrderedDict([('weights', tensor([0.9941])), ('bias', tensor([0.1763]))])\n",
            "OrderedDict([('weights', tensor([0.9925])), ('bias', tensor([0.1773]))])\n",
            "OrderedDict([('weights', tensor([0.9907])), ('bias', tensor([0.1778]))])\n",
            "OrderedDict([('weights', tensor([0.9891])), ('bias', tensor([0.1788]))])\n",
            "OrderedDict([('weights', tensor([0.9873])), ('bias', tensor([0.1793]))])\n",
            "OrderedDict([('weights', tensor([0.9855])), ('bias', tensor([0.1798]))])\n",
            "OrderedDict([('weights', tensor([0.9839])), ('bias', tensor([0.1808]))])\n",
            "OrderedDict([('weights', tensor([0.9821])), ('bias', tensor([0.1813]))])\n",
            "OrderedDict([('weights', tensor([0.9806])), ('bias', tensor([0.1823]))])\n",
            "OrderedDict([('weights', tensor([0.9788])), ('bias', tensor([0.1828]))])\n",
            "OrderedDict([('weights', tensor([0.9772])), ('bias', tensor([0.1838]))])\n",
            "OrderedDict([('weights', tensor([0.9754])), ('bias', tensor([0.1843]))])\n",
            "OrderedDict([('weights', tensor([0.9738])), ('bias', tensor([0.1853]))])\n",
            "OrderedDict([('weights', tensor([0.9720])), ('bias', tensor([0.1858]))])\n",
            "OrderedDict([('weights', tensor([0.9702])), ('bias', tensor([0.1863]))])\n",
            "OrderedDict([('weights', tensor([0.9686])), ('bias', tensor([0.1873]))])\n",
            "OrderedDict([('weights', tensor([0.9668])), ('bias', tensor([0.1878]))])\n",
            "OrderedDict([('weights', tensor([0.9652])), ('bias', tensor([0.1888]))])\n",
            "OrderedDict([('weights', tensor([0.9634])), ('bias', tensor([0.1893]))])\n",
            "OrderedDict([('weights', tensor([0.9618])), ('bias', tensor([0.1903]))])\n",
            "OrderedDict([('weights', tensor([0.9600])), ('bias', tensor([0.1908]))])\n",
            "OrderedDict([('weights', tensor([0.9582])), ('bias', tensor([0.1913]))])\n",
            "OrderedDict([('weights', tensor([0.9566])), ('bias', tensor([0.1923]))])\n",
            "OrderedDict([('weights', tensor([0.9548])), ('bias', tensor([0.1928]))])\n",
            "OrderedDict([('weights', tensor([0.9532])), ('bias', tensor([0.1938]))])\n",
            "OrderedDict([('weights', tensor([0.9514])), ('bias', tensor([0.1943]))])\n",
            "OrderedDict([('weights', tensor([0.9498])), ('bias', tensor([0.1953]))])\n",
            "OrderedDict([('weights', tensor([0.9480])), ('bias', tensor([0.1958]))])\n",
            "OrderedDict([('weights', tensor([0.9462])), ('bias', tensor([0.1963]))])\n",
            "OrderedDict([('weights', tensor([0.9446])), ('bias', tensor([0.1973]))])\n",
            "OrderedDict([('weights', tensor([0.9428])), ('bias', tensor([0.1978]))])\n",
            "OrderedDict([('weights', tensor([0.9413])), ('bias', tensor([0.1988]))])\n",
            "OrderedDict([('weights', tensor([0.9395])), ('bias', tensor([0.1993]))])\n",
            "OrderedDict([('weights', tensor([0.9379])), ('bias', tensor([0.2003]))])\n",
            "OrderedDict([('weights', tensor([0.9361])), ('bias', tensor([0.2008]))])\n",
            "OrderedDict([('weights', tensor([0.9345])), ('bias', tensor([0.2018]))])\n",
            "OrderedDict([('weights', tensor([0.9327])), ('bias', tensor([0.2023]))])\n",
            "OrderedDict([('weights', tensor([0.9309])), ('bias', tensor([0.2028]))])\n",
            "OrderedDict([('weights', tensor([0.9293])), ('bias', tensor([0.2038]))])\n",
            "OrderedDict([('weights', tensor([0.9275])), ('bias', tensor([0.2043]))])\n",
            "OrderedDict([('weights', tensor([0.9259])), ('bias', tensor([0.2053]))])\n",
            "OrderedDict([('weights', tensor([0.9241])), ('bias', tensor([0.2058]))])\n",
            "OrderedDict([('weights', tensor([0.9225])), ('bias', tensor([0.2068]))])\n",
            "OrderedDict([('weights', tensor([0.9207])), ('bias', tensor([0.2073]))])\n",
            "OrderedDict([('weights', tensor([0.9189])), ('bias', tensor([0.2078]))])\n",
            "OrderedDict([('weights', tensor([0.9173])), ('bias', tensor([0.2088]))])\n",
            "OrderedDict([('weights', tensor([0.9155])), ('bias', tensor([0.2093]))])\n",
            "OrderedDict([('weights', tensor([0.9139])), ('bias', tensor([0.2103]))])\n",
            "OrderedDict([('weights', tensor([0.9121])), ('bias', tensor([0.2108]))])\n",
            "OrderedDict([('weights', tensor([0.9105])), ('bias', tensor([0.2118]))])\n",
            "OrderedDict([('weights', tensor([0.9087])), ('bias', tensor([0.2123]))])\n",
            "OrderedDict([('weights', tensor([0.9069])), ('bias', tensor([0.2128]))])\n",
            "OrderedDict([('weights', tensor([0.9053])), ('bias', tensor([0.2138]))])\n",
            "OrderedDict([('weights', tensor([0.9035])), ('bias', tensor([0.2143]))])\n",
            "OrderedDict([('weights', tensor([0.9020])), ('bias', tensor([0.2153]))])\n",
            "OrderedDict([('weights', tensor([0.9002])), ('bias', tensor([0.2158]))])\n",
            "OrderedDict([('weights', tensor([0.8986])), ('bias', tensor([0.2168]))])\n",
            "OrderedDict([('weights', tensor([0.8968])), ('bias', tensor([0.2173]))])\n",
            "OrderedDict([('weights', tensor([0.8952])), ('bias', tensor([0.2183]))])\n",
            "OrderedDict([('weights', tensor([0.8934])), ('bias', tensor([0.2188]))])\n",
            "OrderedDict([('weights', tensor([0.8916])), ('bias', tensor([0.2193]))])\n",
            "OrderedDict([('weights', tensor([0.8900])), ('bias', tensor([0.2203]))])\n",
            "OrderedDict([('weights', tensor([0.8882])), ('bias', tensor([0.2208]))])\n",
            "OrderedDict([('weights', tensor([0.8866])), ('bias', tensor([0.2218]))])\n",
            "OrderedDict([('weights', tensor([0.8848])), ('bias', tensor([0.2223]))])\n",
            "OrderedDict([('weights', tensor([0.8832])), ('bias', tensor([0.2233]))])\n",
            "OrderedDict([('weights', tensor([0.8814])), ('bias', tensor([0.2238]))])\n",
            "OrderedDict([('weights', tensor([0.8796])), ('bias', tensor([0.2243]))])\n",
            "OrderedDict([('weights', tensor([0.8780])), ('bias', tensor([0.2253]))])\n",
            "OrderedDict([('weights', tensor([0.8762])), ('bias', tensor([0.2258]))])\n",
            "OrderedDict([('weights', tensor([0.8746])), ('bias', tensor([0.2268]))])\n",
            "OrderedDict([('weights', tensor([0.8728])), ('bias', tensor([0.2273]))])\n",
            "OrderedDict([('weights', tensor([0.8712])), ('bias', tensor([0.2283]))])\n",
            "OrderedDict([('weights', tensor([0.8694])), ('bias', tensor([0.2288]))])\n",
            "OrderedDict([('weights', tensor([0.8676])), ('bias', tensor([0.2293]))])\n",
            "OrderedDict([('weights', tensor([0.8660])), ('bias', tensor([0.2303]))])\n",
            "OrderedDict([('weights', tensor([0.8642])), ('bias', tensor([0.2308]))])\n",
            "OrderedDict([('weights', tensor([0.8627])), ('bias', tensor([0.2318]))])\n",
            "OrderedDict([('weights', tensor([0.8609])), ('bias', tensor([0.2323]))])\n",
            "OrderedDict([('weights', tensor([0.8593])), ('bias', tensor([0.2333]))])\n",
            "OrderedDict([('weights', tensor([0.8575])), ('bias', tensor([0.2338]))])\n",
            "OrderedDict([('weights', tensor([0.8559])), ('bias', tensor([0.2348]))])\n",
            "OrderedDict([('weights', tensor([0.8541])), ('bias', tensor([0.2353]))])\n",
            "OrderedDict([('weights', tensor([0.8523])), ('bias', tensor([0.2358]))])\n",
            "OrderedDict([('weights', tensor([0.8507])), ('bias', tensor([0.2368]))])\n",
            "OrderedDict([('weights', tensor([0.8489])), ('bias', tensor([0.2373]))])\n",
            "OrderedDict([('weights', tensor([0.8473])), ('bias', tensor([0.2383]))])\n",
            "OrderedDict([('weights', tensor([0.8455])), ('bias', tensor([0.2388]))])\n",
            "OrderedDict([('weights', tensor([0.8439])), ('bias', tensor([0.2398]))])\n",
            "OrderedDict([('weights', tensor([0.8421])), ('bias', tensor([0.2403]))])\n",
            "OrderedDict([('weights', tensor([0.8403])), ('bias', tensor([0.2408]))])\n",
            "OrderedDict([('weights', tensor([0.8387])), ('bias', tensor([0.2418]))])\n",
            "OrderedDict([('weights', tensor([0.8369])), ('bias', tensor([0.2423]))])\n",
            "OrderedDict([('weights', tensor([0.8353])), ('bias', tensor([0.2433]))])\n",
            "OrderedDict([('weights', tensor([0.8335])), ('bias', tensor([0.2438]))])\n",
            "OrderedDict([('weights', tensor([0.8319])), ('bias', tensor([0.2448]))])\n",
            "OrderedDict([('weights', tensor([0.8301])), ('bias', tensor([0.2453]))])\n",
            "OrderedDict([('weights', tensor([0.8283])), ('bias', tensor([0.2458]))])\n",
            "OrderedDict([('weights', tensor([0.8267])), ('bias', tensor([0.2468]))])\n",
            "OrderedDict([('weights', tensor([0.8249])), ('bias', tensor([0.2473]))])\n",
            "OrderedDict([('weights', tensor([0.8234])), ('bias', tensor([0.2483]))])\n",
            "OrderedDict([('weights', tensor([0.8216])), ('bias', tensor([0.2488]))])\n",
            "OrderedDict([('weights', tensor([0.8200])), ('bias', tensor([0.2498]))])\n",
            "OrderedDict([('weights', tensor([0.8182])), ('bias', tensor([0.2503]))])\n",
            "OrderedDict([('weights', tensor([0.8166])), ('bias', tensor([0.2513]))])\n",
            "OrderedDict([('weights', tensor([0.8148])), ('bias', tensor([0.2518]))])\n",
            "OrderedDict([('weights', tensor([0.8130])), ('bias', tensor([0.2523]))])\n",
            "OrderedDict([('weights', tensor([0.8114])), ('bias', tensor([0.2533]))])\n",
            "OrderedDict([('weights', tensor([0.8096])), ('bias', tensor([0.2538]))])\n",
            "OrderedDict([('weights', tensor([0.8080])), ('bias', tensor([0.2548]))])\n",
            "OrderedDict([('weights', tensor([0.8062])), ('bias', tensor([0.2553]))])\n",
            "OrderedDict([('weights', tensor([0.8046])), ('bias', tensor([0.2563]))])\n",
            "OrderedDict([('weights', tensor([0.8028])), ('bias', tensor([0.2568]))])\n",
            "OrderedDict([('weights', tensor([0.8010])), ('bias', tensor([0.2573]))])\n",
            "OrderedDict([('weights', tensor([0.7994])), ('bias', tensor([0.2583]))])\n",
            "OrderedDict([('weights', tensor([0.7976])), ('bias', tensor([0.2588]))])\n",
            "OrderedDict([('weights', tensor([0.7960])), ('bias', tensor([0.2598]))])\n",
            "OrderedDict([('weights', tensor([0.7942])), ('bias', tensor([0.2603]))])\n",
            "OrderedDict([('weights', tensor([0.7926])), ('bias', tensor([0.2613]))])\n",
            "OrderedDict([('weights', tensor([0.7908])), ('bias', tensor([0.2618]))])\n",
            "OrderedDict([('weights', tensor([0.7892])), ('bias', tensor([0.2628]))])\n",
            "OrderedDict([('weights', tensor([0.7874])), ('bias', tensor([0.2633]))])\n",
            "OrderedDict([('weights', tensor([0.7856])), ('bias', tensor([0.2638]))])\n",
            "OrderedDict([('weights', tensor([0.7841])), ('bias', tensor([0.2648]))])\n",
            "OrderedDict([('weights', tensor([0.7823])), ('bias', tensor([0.2653]))])\n",
            "OrderedDict([('weights', tensor([0.7807])), ('bias', tensor([0.2663]))])\n",
            "OrderedDict([('weights', tensor([0.7789])), ('bias', tensor([0.2668]))])\n",
            "OrderedDict([('weights', tensor([0.7773])), ('bias', tensor([0.2678]))])\n",
            "OrderedDict([('weights', tensor([0.7755])), ('bias', tensor([0.2683]))])\n",
            "OrderedDict([('weights', tensor([0.7737])), ('bias', tensor([0.2688]))])\n",
            "OrderedDict([('weights', tensor([0.7721])), ('bias', tensor([0.2698]))])\n",
            "OrderedDict([('weights', tensor([0.7703])), ('bias', tensor([0.2703]))])\n",
            "OrderedDict([('weights', tensor([0.7687])), ('bias', tensor([0.2713]))])\n",
            "OrderedDict([('weights', tensor([0.7669])), ('bias', tensor([0.2718]))])\n",
            "OrderedDict([('weights', tensor([0.7653])), ('bias', tensor([0.2728]))])\n",
            "OrderedDict([('weights', tensor([0.7635])), ('bias', tensor([0.2733]))])\n",
            "OrderedDict([('weights', tensor([0.7617])), ('bias', tensor([0.2738]))])\n",
            "OrderedDict([('weights', tensor([0.7601])), ('bias', tensor([0.2748]))])\n",
            "OrderedDict([('weights', tensor([0.7583])), ('bias', tensor([0.2753]))])\n",
            "OrderedDict([('weights', tensor([0.7567])), ('bias', tensor([0.2763]))])\n",
            "OrderedDict([('weights', tensor([0.7549])), ('bias', tensor([0.2768]))])\n",
            "OrderedDict([('weights', tensor([0.7533])), ('bias', tensor([0.2778]))])\n",
            "OrderedDict([('weights', tensor([0.7515])), ('bias', tensor([0.2783]))])\n",
            "OrderedDict([('weights', tensor([0.7499])), ('bias', tensor([0.2793]))])\n",
            "OrderedDict([('weights', tensor([0.7481])), ('bias', tensor([0.2798]))])\n",
            "OrderedDict([('weights', tensor([0.7463])), ('bias', tensor([0.2803]))])\n",
            "OrderedDict([('weights', tensor([0.7448])), ('bias', tensor([0.2813]))])\n",
            "OrderedDict([('weights', tensor([0.7430])), ('bias', tensor([0.2818]))])\n",
            "OrderedDict([('weights', tensor([0.7414])), ('bias', tensor([0.2828]))])\n",
            "OrderedDict([('weights', tensor([0.7396])), ('bias', tensor([0.2833]))])\n",
            "OrderedDict([('weights', tensor([0.7380])), ('bias', tensor([0.2843]))])\n",
            "OrderedDict([('weights', tensor([0.7362])), ('bias', tensor([0.2848]))])\n",
            "OrderedDict([('weights', tensor([0.7344])), ('bias', tensor([0.2853]))])\n",
            "OrderedDict([('weights', tensor([0.7328])), ('bias', tensor([0.2863]))])\n",
            "OrderedDict([('weights', tensor([0.7310])), ('bias', tensor([0.2868]))])\n",
            "OrderedDict([('weights', tensor([0.7294])), ('bias', tensor([0.2878]))])\n",
            "OrderedDict([('weights', tensor([0.7276])), ('bias', tensor([0.2883]))])\n",
            "OrderedDict([('weights', tensor([0.7260])), ('bias', tensor([0.2893]))])\n",
            "OrderedDict([('weights', tensor([0.7242])), ('bias', tensor([0.2898]))])\n",
            "OrderedDict([('weights', tensor([0.7224])), ('bias', tensor([0.2903]))])\n",
            "OrderedDict([('weights', tensor([0.7208])), ('bias', tensor([0.2913]))])\n",
            "OrderedDict([('weights', tensor([0.7190])), ('bias', tensor([0.2918]))])\n",
            "OrderedDict([('weights', tensor([0.7174])), ('bias', tensor([0.2928]))])\n",
            "OrderedDict([('weights', tensor([0.7156])), ('bias', tensor([0.2933]))])\n",
            "OrderedDict([('weights', tensor([0.7140])), ('bias', tensor([0.2943]))])\n",
            "OrderedDict([('weights', tensor([0.7122])), ('bias', tensor([0.2948]))])\n",
            "OrderedDict([('weights', tensor([0.7106])), ('bias', tensor([0.2958]))])\n",
            "OrderedDict([('weights', tensor([0.7086])), ('bias', tensor([0.2958]))])\n",
            "OrderedDict([('weights', tensor([0.7077])), ('bias', tensor([0.2983]))])\n",
            "OrderedDict([('weights', tensor([0.7044])), ('bias', tensor([0.2938]))])\n",
            "OrderedDict([('weights', tensor([0.7083])), ('bias', tensor([0.3038]))])\n",
            "OrderedDict([('weights', tensor([0.7044])), ('bias', tensor([0.2938]))])\n",
            "OrderedDict([('weights', tensor([0.7083])), ('bias', tensor([0.3038]))])\n",
            "OrderedDict([('weights', tensor([0.7044])), ('bias', tensor([0.2938]))])\n",
            "OrderedDict([('weights', tensor([0.7083])), ('bias', tensor([0.3038]))])\n",
            "OrderedDict([('weights', tensor([0.7044])), ('bias', tensor([0.2938]))])\n",
            "OrderedDict([('weights', tensor([0.7083])), ('bias', tensor([0.3038]))])\n",
            "OrderedDict([('weights', tensor([0.7044])), ('bias', tensor([0.2938]))])\n",
            "OrderedDict([('weights', tensor([0.7083])), ('bias', tensor([0.3038]))])\n",
            "OrderedDict([('weights', tensor([0.7044])), ('bias', tensor([0.2938]))])\n",
            "OrderedDict([('weights', tensor([0.7083])), ('bias', tensor([0.3038]))])\n",
            "OrderedDict([('weights', tensor([0.7044])), ('bias', tensor([0.2938]))])\n",
            "OrderedDict([('weights', tensor([0.7083])), ('bias', tensor([0.3038]))])\n",
            "OrderedDict([('weights', tensor([0.7044])), ('bias', tensor([0.2938]))])\n",
            "OrderedDict([('weights', tensor([0.7083])), ('bias', tensor([0.3038]))])\n",
            "OrderedDict([('weights', tensor([0.7044])), ('bias', tensor([0.2938]))])\n",
            "OrderedDict([('weights', tensor([0.7083])), ('bias', tensor([0.3038]))])\n",
            "OrderedDict([('weights', tensor([0.7044])), ('bias', tensor([0.2938]))])\n",
            "OrderedDict([('weights', tensor([0.7083])), ('bias', tensor([0.3038]))])\n",
            "OrderedDict([('weights', tensor([0.7044])), ('bias', tensor([0.2938]))])\n",
            "OrderedDict([('weights', tensor([0.7083])), ('bias', tensor([0.3038]))])\n",
            "OrderedDict([('weights', tensor([0.7044])), ('bias', tensor([0.2938]))])\n",
            "OrderedDict([('weights', tensor([0.7083])), ('bias', tensor([0.3038]))])\n",
            "OrderedDict([('weights', tensor([0.7044])), ('bias', tensor([0.2938]))])\n",
            "OrderedDict([('weights', tensor([0.7083])), ('bias', tensor([0.3038]))])\n",
            "OrderedDict([('weights', tensor([0.7044])), ('bias', tensor([0.2938]))])\n",
            "OrderedDict([('weights', tensor([0.7083])), ('bias', tensor([0.3038]))])\n",
            "OrderedDict([('weights', tensor([0.7044])), ('bias', tensor([0.2938]))])\n",
            "OrderedDict([('weights', tensor([0.7083])), ('bias', tensor([0.3038]))])\n",
            "OrderedDict([('weights', tensor([0.7044])), ('bias', tensor([0.2938]))])\n",
            "OrderedDict([('weights', tensor([0.7083])), ('bias', tensor([0.3038]))])\n",
            "OrderedDict([('weights', tensor([0.7044])), ('bias', tensor([0.2938]))])\n",
            "OrderedDict([('weights', tensor([0.7083])), ('bias', tensor([0.3038]))])\n",
            "OrderedDict([('weights', tensor([0.7044])), ('bias', tensor([0.2938]))])\n",
            "OrderedDict([('weights', tensor([0.7083])), ('bias', tensor([0.3038]))])\n",
            "OrderedDict([('weights', tensor([0.7044])), ('bias', tensor([0.2938]))])\n",
            "OrderedDict([('weights', tensor([0.7083])), ('bias', tensor([0.3038]))])\n",
            "OrderedDict([('weights', tensor([0.7044])), ('bias', tensor([0.2938]))])\n",
            "OrderedDict([('weights', tensor([0.7083])), ('bias', tensor([0.3038]))])\n",
            "OrderedDict([('weights', tensor([0.7044])), ('bias', tensor([0.2938]))])\n",
            "OrderedDict([('weights', tensor([0.7083])), ('bias', tensor([0.3038]))])\n",
            "OrderedDict([('weights', tensor([0.7044])), ('bias', tensor([0.2938]))])\n",
            "OrderedDict([('weights', tensor([0.7083])), ('bias', tensor([0.3038]))])\n",
            "OrderedDict([('weights', tensor([0.7044])), ('bias', tensor([0.2938]))])\n",
            "OrderedDict([('weights', tensor([0.7083])), ('bias', tensor([0.3038]))])\n",
            "OrderedDict([('weights', tensor([0.7044])), ('bias', tensor([0.2938]))])\n",
            "OrderedDict([('weights', tensor([0.7083])), ('bias', tensor([0.3038]))])\n",
            "OrderedDict([('weights', tensor([0.7044])), ('bias', tensor([0.2938]))])\n",
            "OrderedDict([('weights', tensor([0.7083])), ('bias', tensor([0.3038]))])\n",
            "OrderedDict([('weights', tensor([0.7044])), ('bias', tensor([0.2938]))])\n",
            "OrderedDict([('weights', tensor([0.7083])), ('bias', tensor([0.3038]))])\n",
            "OrderedDict([('weights', tensor([0.7044])), ('bias', tensor([0.2938]))])\n",
            "OrderedDict([('weights', tensor([0.7083])), ('bias', tensor([0.3038]))])\n",
            "OrderedDict([('weights', tensor([0.7044])), ('bias', tensor([0.2938]))])\n",
            "OrderedDict([('weights', tensor([0.7083])), ('bias', tensor([0.3038]))])\n",
            "OrderedDict([('weights', tensor([0.7044])), ('bias', tensor([0.2938]))])\n",
            "OrderedDict([('weights', tensor([0.7083])), ('bias', tensor([0.3038]))])\n",
            "OrderedDict([('weights', tensor([0.7044])), ('bias', tensor([0.2938]))])\n",
            "OrderedDict([('weights', tensor([0.7083])), ('bias', tensor([0.3038]))])\n",
            "OrderedDict([('weights', tensor([0.7044])), ('bias', tensor([0.2938]))])\n",
            "OrderedDict([('weights', tensor([0.7083])), ('bias', tensor([0.3038]))])\n",
            "OrderedDict([('weights', tensor([0.7044])), ('bias', tensor([0.2938]))])\n",
            "OrderedDict([('weights', tensor([0.7083])), ('bias', tensor([0.3038]))])\n",
            "OrderedDict([('weights', tensor([0.7044])), ('bias', tensor([0.2938]))])\n",
            "OrderedDict([('weights', tensor([0.7083])), ('bias', tensor([0.3038]))])\n",
            "OrderedDict([('weights', tensor([0.7044])), ('bias', tensor([0.2938]))])\n",
            "OrderedDict([('weights', tensor([0.7083])), ('bias', tensor([0.3038]))])\n",
            "OrderedDict([('weights', tensor([0.7044])), ('bias', tensor([0.2938]))])\n",
            "OrderedDict([('weights', tensor([0.7083])), ('bias', tensor([0.3038]))])\n",
            "OrderedDict([('weights', tensor([0.7044])), ('bias', tensor([0.2938]))])\n",
            "OrderedDict([('weights', tensor([0.7083])), ('bias', tensor([0.3038]))])\n",
            "OrderedDict([('weights', tensor([0.7044])), ('bias', tensor([0.2938]))])\n",
            "OrderedDict([('weights', tensor([0.7083])), ('bias', tensor([0.3038]))])\n",
            "OrderedDict([('weights', tensor([0.7044])), ('bias', tensor([0.2938]))])\n",
            "OrderedDict([('weights', tensor([0.7083])), ('bias', tensor([0.3038]))])\n",
            "OrderedDict([('weights', tensor([0.7044])), ('bias', tensor([0.2938]))])\n",
            "OrderedDict([('weights', tensor([0.7083])), ('bias', tensor([0.3038]))])\n",
            "OrderedDict([('weights', tensor([0.7044])), ('bias', tensor([0.2938]))])\n",
            "OrderedDict([('weights', tensor([0.7083])), ('bias', tensor([0.3038]))])\n",
            "OrderedDict([('weights', tensor([0.7044])), ('bias', tensor([0.2938]))])\n",
            "OrderedDict([('weights', tensor([0.7083])), ('bias', tensor([0.3038]))])\n",
            "OrderedDict([('weights', tensor([0.7044])), ('bias', tensor([0.2938]))])\n",
            "OrderedDict([('weights', tensor([0.7083])), ('bias', tensor([0.3038]))])\n",
            "OrderedDict([('weights', tensor([0.7044])), ('bias', tensor([0.2938]))])\n",
            "OrderedDict([('weights', tensor([0.7083])), ('bias', tensor([0.3038]))])\n",
            "OrderedDict([('weights', tensor([0.7044])), ('bias', tensor([0.2938]))])\n",
            "OrderedDict([('weights', tensor([0.7083])), ('bias', tensor([0.3038]))])\n",
            "OrderedDict([('weights', tensor([0.7044])), ('bias', tensor([0.2938]))])\n",
            "OrderedDict([('weights', tensor([0.7083])), ('bias', tensor([0.3038]))])\n",
            "OrderedDict([('weights', tensor([0.7044])), ('bias', tensor([0.2938]))])\n",
            "OrderedDict([('weights', tensor([0.7083])), ('bias', tensor([0.3038]))])\n",
            "OrderedDict([('weights', tensor([0.7044])), ('bias', tensor([0.2938]))])\n",
            "OrderedDict([('weights', tensor([0.7083])), ('bias', tensor([0.3038]))])\n",
            "OrderedDict([('weights', tensor([0.7044])), ('bias', tensor([0.2938]))])\n",
            "OrderedDict([('weights', tensor([0.7083])), ('bias', tensor([0.3038]))])\n",
            "OrderedDict([('weights', tensor([0.7044])), ('bias', tensor([0.2938]))])\n",
            "OrderedDict([('weights', tensor([0.7083])), ('bias', tensor([0.3038]))])\n",
            "OrderedDict([('weights', tensor([0.7044])), ('bias', tensor([0.2938]))])\n",
            "OrderedDict([('weights', tensor([0.7083])), ('bias', tensor([0.3038]))])\n",
            "OrderedDict([('weights', tensor([0.7044])), ('bias', tensor([0.2938]))])\n",
            "OrderedDict([('weights', tensor([0.7083])), ('bias', tensor([0.3038]))])\n",
            "OrderedDict([('weights', tensor([0.7044])), ('bias', tensor([0.2938]))])\n",
            "OrderedDict([('weights', tensor([0.7083])), ('bias', tensor([0.3038]))])\n",
            "OrderedDict([('weights', tensor([0.7044])), ('bias', tensor([0.2938]))])\n",
            "OrderedDict([('weights', tensor([0.7083])), ('bias', tensor([0.3038]))])\n",
            "OrderedDict([('weights', tensor([0.7044])), ('bias', tensor([0.2938]))])\n",
            "OrderedDict([('weights', tensor([0.7083])), ('bias', tensor([0.3038]))])\n",
            "OrderedDict([('weights', tensor([0.7044])), ('bias', tensor([0.2938]))])\n",
            "OrderedDict([('weights', tensor([0.7083])), ('bias', tensor([0.3038]))])\n",
            "OrderedDict([('weights', tensor([0.7044])), ('bias', tensor([0.2938]))])\n",
            "OrderedDict([('weights', tensor([0.7083])), ('bias', tensor([0.3038]))])\n",
            "OrderedDict([('weights', tensor([0.7044])), ('bias', tensor([0.2938]))])\n",
            "OrderedDict([('weights', tensor([0.7083])), ('bias', tensor([0.3038]))])\n",
            "OrderedDict([('weights', tensor([0.7044])), ('bias', tensor([0.2938]))])\n",
            "OrderedDict([('weights', tensor([0.7083])), ('bias', tensor([0.3038]))])\n",
            "OrderedDict([('weights', tensor([0.7044])), ('bias', tensor([0.2938]))])\n",
            "OrderedDict([('weights', tensor([0.7083])), ('bias', tensor([0.3038]))])\n",
            "OrderedDict([('weights', tensor([0.7044])), ('bias', tensor([0.2938]))])\n",
            "OrderedDict([('weights', tensor([0.7083])), ('bias', tensor([0.3038]))])\n",
            "OrderedDict([('weights', tensor([0.7044])), ('bias', tensor([0.2938]))])\n",
            "OrderedDict([('weights', tensor([0.7083])), ('bias', tensor([0.3038]))])\n",
            "OrderedDict([('weights', tensor([0.7044])), ('bias', tensor([0.2938]))])\n",
            "OrderedDict([('weights', tensor([0.7083])), ('bias', tensor([0.3038]))])\n",
            "OrderedDict([('weights', tensor([0.7044])), ('bias', tensor([0.2938]))])\n",
            "OrderedDict([('weights', tensor([0.7083])), ('bias', tensor([0.3038]))])\n",
            "OrderedDict([('weights', tensor([0.7044])), ('bias', tensor([0.2938]))])\n",
            "OrderedDict([('weights', tensor([0.7083])), ('bias', tensor([0.3038]))])\n",
            "OrderedDict([('weights', tensor([0.7044])), ('bias', tensor([0.2938]))])\n",
            "OrderedDict([('weights', tensor([0.7083])), ('bias', tensor([0.3038]))])\n",
            "OrderedDict([('weights', tensor([0.7044])), ('bias', tensor([0.2938]))])\n",
            "OrderedDict([('weights', tensor([0.7083])), ('bias', tensor([0.3038]))])\n",
            "OrderedDict([('weights', tensor([0.7044])), ('bias', tensor([0.2938]))])\n",
            "OrderedDict([('weights', tensor([0.7083])), ('bias', tensor([0.3038]))])\n",
            "OrderedDict([('weights', tensor([0.7044])), ('bias', tensor([0.2938]))])\n",
            "OrderedDict([('weights', tensor([0.7083])), ('bias', tensor([0.3038]))])\n",
            "OrderedDict([('weights', tensor([0.7044])), ('bias', tensor([0.2938]))])\n",
            "OrderedDict([('weights', tensor([0.7083])), ('bias', tensor([0.3038]))])\n",
            "OrderedDict([('weights', tensor([0.7044])), ('bias', tensor([0.2938]))])\n",
            "OrderedDict([('weights', tensor([0.7083])), ('bias', tensor([0.3038]))])\n",
            "OrderedDict([('weights', tensor([0.7044])), ('bias', tensor([0.2938]))])\n",
            "OrderedDict([('weights', tensor([0.7083])), ('bias', tensor([0.3038]))])\n",
            "OrderedDict([('weights', tensor([0.7044])), ('bias', tensor([0.2938]))])\n",
            "OrderedDict([('weights', tensor([0.7083])), ('bias', tensor([0.3038]))])\n",
            "OrderedDict([('weights', tensor([0.7044])), ('bias', tensor([0.2938]))])\n",
            "OrderedDict([('weights', tensor([0.7083])), ('bias', tensor([0.3038]))])\n",
            "OrderedDict([('weights', tensor([0.7044])), ('bias', tensor([0.2938]))])\n",
            "OrderedDict([('weights', tensor([0.7083])), ('bias', tensor([0.3038]))])\n",
            "OrderedDict([('weights', tensor([0.7044])), ('bias', tensor([0.2938]))])\n",
            "OrderedDict([('weights', tensor([0.7083])), ('bias', tensor([0.3038]))])\n",
            "OrderedDict([('weights', tensor([0.7044])), ('bias', tensor([0.2938]))])\n",
            "OrderedDict([('weights', tensor([0.7083])), ('bias', tensor([0.3038]))])\n",
            "OrderedDict([('weights', tensor([0.7044])), ('bias', tensor([0.2938]))])\n",
            "OrderedDict([('weights', tensor([0.7083])), ('bias', tensor([0.3038]))])\n",
            "OrderedDict([('weights', tensor([0.7044])), ('bias', tensor([0.2938]))])\n",
            "OrderedDict([('weights', tensor([0.7083])), ('bias', tensor([0.3038]))])\n",
            "OrderedDict([('weights', tensor([0.7044])), ('bias', tensor([0.2938]))])\n",
            "OrderedDict([('weights', tensor([0.7083])), ('bias', tensor([0.3038]))])\n",
            "OrderedDict([('weights', tensor([0.7044])), ('bias', tensor([0.2938]))])\n",
            "OrderedDict([('weights', tensor([0.7083])), ('bias', tensor([0.3038]))])\n",
            "OrderedDict([('weights', tensor([0.7044])), ('bias', tensor([0.2938]))])\n",
            "OrderedDict([('weights', tensor([0.7083])), ('bias', tensor([0.3038]))])\n",
            "OrderedDict([('weights', tensor([0.7044])), ('bias', tensor([0.2938]))])\n",
            "OrderedDict([('weights', tensor([0.7083])), ('bias', tensor([0.3038]))])\n",
            "OrderedDict([('weights', tensor([0.7044])), ('bias', tensor([0.2938]))])\n",
            "OrderedDict([('weights', tensor([0.7083])), ('bias', tensor([0.3038]))])\n",
            "OrderedDict([('weights', tensor([0.7044])), ('bias', tensor([0.2938]))])\n",
            "OrderedDict([('weights', tensor([0.7083])), ('bias', tensor([0.3038]))])\n",
            "OrderedDict([('weights', tensor([0.7044])), ('bias', tensor([0.2938]))])\n",
            "OrderedDict([('weights', tensor([0.7083])), ('bias', tensor([0.3038]))])\n",
            "OrderedDict([('weights', tensor([0.7044])), ('bias', tensor([0.2938]))])\n",
            "OrderedDict([('weights', tensor([0.7083])), ('bias', tensor([0.3038]))])\n",
            "OrderedDict([('weights', tensor([0.7044])), ('bias', tensor([0.2938]))])\n",
            "OrderedDict([('weights', tensor([0.7083])), ('bias', tensor([0.3038]))])\n",
            "OrderedDict([('weights', tensor([0.7044])), ('bias', tensor([0.2938]))])\n",
            "OrderedDict([('weights', tensor([0.7083])), ('bias', tensor([0.3038]))])\n",
            "OrderedDict([('weights', tensor([0.7044])), ('bias', tensor([0.2938]))])\n",
            "OrderedDict([('weights', tensor([0.7083])), ('bias', tensor([0.3038]))])\n",
            "OrderedDict([('weights', tensor([0.7044])), ('bias', tensor([0.2938]))])\n",
            "OrderedDict([('weights', tensor([0.7083])), ('bias', tensor([0.3038]))])\n",
            "OrderedDict([('weights', tensor([0.7044])), ('bias', tensor([0.2938]))])\n",
            "OrderedDict([('weights', tensor([0.7083])), ('bias', tensor([0.3038]))])\n",
            "OrderedDict([('weights', tensor([0.7044])), ('bias', tensor([0.2938]))])\n",
            "OrderedDict([('weights', tensor([0.7083])), ('bias', tensor([0.3038]))])\n",
            "OrderedDict([('weights', tensor([0.7044])), ('bias', tensor([0.2938]))])\n",
            "OrderedDict([('weights', tensor([0.7083])), ('bias', tensor([0.3038]))])\n",
            "OrderedDict([('weights', tensor([0.7044])), ('bias', tensor([0.2938]))])\n",
            "OrderedDict([('weights', tensor([0.7083])), ('bias', tensor([0.3038]))])\n",
            "OrderedDict([('weights', tensor([0.7044])), ('bias', tensor([0.2938]))])\n",
            "OrderedDict([('weights', tensor([0.7083])), ('bias', tensor([0.3038]))])\n",
            "OrderedDict([('weights', tensor([0.7044])), ('bias', tensor([0.2938]))])\n",
            "OrderedDict([('weights', tensor([0.7083])), ('bias', tensor([0.3038]))])\n",
            "OrderedDict([('weights', tensor([0.7044])), ('bias', tensor([0.2938]))])\n",
            "OrderedDict([('weights', tensor([0.7083])), ('bias', tensor([0.3038]))])\n",
            "OrderedDict([('weights', tensor([0.7044])), ('bias', tensor([0.2938]))])\n",
            "OrderedDict([('weights', tensor([0.7083])), ('bias', tensor([0.3038]))])\n",
            "OrderedDict([('weights', tensor([0.7044])), ('bias', tensor([0.2938]))])\n",
            "OrderedDict([('weights', tensor([0.7083])), ('bias', tensor([0.3038]))])\n",
            "OrderedDict([('weights', tensor([0.7044])), ('bias', tensor([0.2938]))])\n",
            "OrderedDict([('weights', tensor([0.7083])), ('bias', tensor([0.3038]))])\n",
            "OrderedDict([('weights', tensor([0.7044])), ('bias', tensor([0.2938]))])\n",
            "OrderedDict([('weights', tensor([0.7083])), ('bias', tensor([0.3038]))])\n",
            "OrderedDict([('weights', tensor([0.7044])), ('bias', tensor([0.2938]))])\n",
            "OrderedDict([('weights', tensor([0.7083])), ('bias', tensor([0.3038]))])\n",
            "OrderedDict([('weights', tensor([0.7044])), ('bias', tensor([0.2938]))])\n",
            "OrderedDict([('weights', tensor([0.7083])), ('bias', tensor([0.3038]))])\n",
            "OrderedDict([('weights', tensor([0.7044])), ('bias', tensor([0.2938]))])\n",
            "OrderedDict([('weights', tensor([0.7083])), ('bias', tensor([0.3038]))])\n",
            "OrderedDict([('weights', tensor([0.7044])), ('bias', tensor([0.2938]))])\n",
            "OrderedDict([('weights', tensor([0.7083])), ('bias', tensor([0.3038]))])\n",
            "OrderedDict([('weights', tensor([0.7044])), ('bias', tensor([0.2938]))])\n",
            "OrderedDict([('weights', tensor([0.7083])), ('bias', tensor([0.3038]))])\n",
            "OrderedDict([('weights', tensor([0.7044])), ('bias', tensor([0.2938]))])\n",
            "OrderedDict([('weights', tensor([0.7083])), ('bias', tensor([0.3038]))])\n",
            "OrderedDict([('weights', tensor([0.7044])), ('bias', tensor([0.2938]))])\n",
            "OrderedDict([('weights', tensor([0.7083])), ('bias', tensor([0.3038]))])\n",
            "OrderedDict([('weights', tensor([0.7044])), ('bias', tensor([0.2938]))])\n",
            "OrderedDict([('weights', tensor([0.7083])), ('bias', tensor([0.3038]))])\n",
            "OrderedDict([('weights', tensor([0.7044])), ('bias', tensor([0.2938]))])\n",
            "OrderedDict([('weights', tensor([0.7083])), ('bias', tensor([0.3038]))])\n",
            "OrderedDict([('weights', tensor([0.7044])), ('bias', tensor([0.2938]))])\n",
            "OrderedDict([('weights', tensor([0.7083])), ('bias', tensor([0.3038]))])\n",
            "OrderedDict([('weights', tensor([0.7044])), ('bias', tensor([0.2938]))])\n",
            "OrderedDict([('weights', tensor([0.7083])), ('bias', tensor([0.3038]))])\n",
            "OrderedDict([('weights', tensor([0.7044])), ('bias', tensor([0.2938]))])\n",
            "OrderedDict([('weights', tensor([0.7083])), ('bias', tensor([0.3038]))])\n",
            "OrderedDict([('weights', tensor([0.7044])), ('bias', tensor([0.2938]))])\n",
            "OrderedDict([('weights', tensor([0.7083])), ('bias', tensor([0.3038]))])\n",
            "OrderedDict([('weights', tensor([0.7044])), ('bias', tensor([0.2938]))])\n",
            "OrderedDict([('weights', tensor([0.7083])), ('bias', tensor([0.3038]))])\n",
            "OrderedDict([('weights', tensor([0.7044])), ('bias', tensor([0.2938]))])\n",
            "OrderedDict([('weights', tensor([0.7083])), ('bias', tensor([0.3038]))])\n",
            "OrderedDict([('weights', tensor([0.7044])), ('bias', tensor([0.2938]))])\n",
            "OrderedDict([('weights', tensor([0.7083])), ('bias', tensor([0.3038]))])\n",
            "OrderedDict([('weights', tensor([0.7044])), ('bias', tensor([0.2938]))])\n",
            "OrderedDict([('weights', tensor([0.7083])), ('bias', tensor([0.3038]))])\n",
            "OrderedDict([('weights', tensor([0.7044])), ('bias', tensor([0.2938]))])\n",
            "OrderedDict([('weights', tensor([0.7083])), ('bias', tensor([0.3038]))])\n",
            "OrderedDict([('weights', tensor([0.7044])), ('bias', tensor([0.2938]))])\n",
            "OrderedDict([('weights', tensor([0.7083])), ('bias', tensor([0.3038]))])\n",
            "OrderedDict([('weights', tensor([0.7044])), ('bias', tensor([0.2938]))])\n",
            "OrderedDict([('weights', tensor([0.7083])), ('bias', tensor([0.3038]))])\n",
            "OrderedDict([('weights', tensor([0.7044])), ('bias', tensor([0.2938]))])\n",
            "OrderedDict([('weights', tensor([0.7083])), ('bias', tensor([0.3038]))])\n",
            "OrderedDict([('weights', tensor([0.7044])), ('bias', tensor([0.2938]))])\n",
            "OrderedDict([('weights', tensor([0.7083])), ('bias', tensor([0.3038]))])\n",
            "OrderedDict([('weights', tensor([0.7044])), ('bias', tensor([0.2938]))])\n",
            "OrderedDict([('weights', tensor([0.7083])), ('bias', tensor([0.3038]))])\n",
            "OrderedDict([('weights', tensor([0.7044])), ('bias', tensor([0.2938]))])\n",
            "OrderedDict([('weights', tensor([0.7083])), ('bias', tensor([0.3038]))])\n",
            "OrderedDict([('weights', tensor([0.7044])), ('bias', tensor([0.2938]))])\n",
            "OrderedDict([('weights', tensor([0.7083])), ('bias', tensor([0.3038]))])\n",
            "OrderedDict([('weights', tensor([0.7044])), ('bias', tensor([0.2938]))])\n",
            "OrderedDict([('weights', tensor([0.7083])), ('bias', tensor([0.3038]))])\n",
            "OrderedDict([('weights', tensor([0.7044])), ('bias', tensor([0.2938]))])\n",
            "OrderedDict([('weights', tensor([0.7083])), ('bias', tensor([0.3038]))])\n",
            "OrderedDict([('weights', tensor([0.7044])), ('bias', tensor([0.2938]))])\n",
            "OrderedDict([('weights', tensor([0.7083])), ('bias', tensor([0.3038]))])\n",
            "OrderedDict([('weights', tensor([0.7044])), ('bias', tensor([0.2938]))])\n",
            "OrderedDict([('weights', tensor([0.7083])), ('bias', tensor([0.3038]))])\n",
            "OrderedDict([('weights', tensor([0.7044])), ('bias', tensor([0.2938]))])\n",
            "OrderedDict([('weights', tensor([0.7083])), ('bias', tensor([0.3038]))])\n",
            "OrderedDict([('weights', tensor([0.7044])), ('bias', tensor([0.2938]))])\n",
            "OrderedDict([('weights', tensor([0.7083])), ('bias', tensor([0.3038]))])\n",
            "OrderedDict([('weights', tensor([0.7044])), ('bias', tensor([0.2938]))])\n",
            "OrderedDict([('weights', tensor([0.7083])), ('bias', tensor([0.3038]))])\n",
            "OrderedDict([('weights', tensor([0.7044])), ('bias', tensor([0.2938]))])\n",
            "OrderedDict([('weights', tensor([0.7083])), ('bias', tensor([0.3038]))])\n",
            "OrderedDict([('weights', tensor([0.7044])), ('bias', tensor([0.2938]))])\n",
            "OrderedDict([('weights', tensor([0.7083])), ('bias', tensor([0.3038]))])\n",
            "OrderedDict([('weights', tensor([0.7044])), ('bias', tensor([0.2938]))])\n",
            "OrderedDict([('weights', tensor([0.7083])), ('bias', tensor([0.3038]))])\n",
            "OrderedDict([('weights', tensor([0.7044])), ('bias', tensor([0.2938]))])\n",
            "OrderedDict([('weights', tensor([0.7083])), ('bias', tensor([0.3038]))])\n",
            "OrderedDict([('weights', tensor([0.7044])), ('bias', tensor([0.2938]))])\n",
            "OrderedDict([('weights', tensor([0.7083])), ('bias', tensor([0.3038]))])\n",
            "OrderedDict([('weights', tensor([0.7044])), ('bias', tensor([0.2938]))])\n",
            "OrderedDict([('weights', tensor([0.7083])), ('bias', tensor([0.3038]))])\n",
            "OrderedDict([('weights', tensor([0.7044])), ('bias', tensor([0.2938]))])\n",
            "OrderedDict([('weights', tensor([0.7083])), ('bias', tensor([0.3038]))])\n",
            "OrderedDict([('weights', tensor([0.7044])), ('bias', tensor([0.2938]))])\n",
            "OrderedDict([('weights', tensor([0.7083])), ('bias', tensor([0.3038]))])\n",
            "OrderedDict([('weights', tensor([0.7044])), ('bias', tensor([0.2938]))])\n",
            "OrderedDict([('weights', tensor([0.7083])), ('bias', tensor([0.3038]))])\n",
            "OrderedDict([('weights', tensor([0.7044])), ('bias', tensor([0.2938]))])\n",
            "OrderedDict([('weights', tensor([0.7083])), ('bias', tensor([0.3038]))])\n",
            "OrderedDict([('weights', tensor([0.7044])), ('bias', tensor([0.2938]))])\n",
            "OrderedDict([('weights', tensor([0.7083])), ('bias', tensor([0.3038]))])\n",
            "OrderedDict([('weights', tensor([0.7044])), ('bias', tensor([0.2938]))])\n",
            "OrderedDict([('weights', tensor([0.7083])), ('bias', tensor([0.3038]))])\n",
            "OrderedDict([('weights', tensor([0.7044])), ('bias', tensor([0.2938]))])\n",
            "OrderedDict([('weights', tensor([0.7083])), ('bias', tensor([0.3038]))])\n",
            "OrderedDict([('weights', tensor([0.7044])), ('bias', tensor([0.2938]))])\n",
            "OrderedDict([('weights', tensor([0.7083])), ('bias', tensor([0.3038]))])\n",
            "OrderedDict([('weights', tensor([0.7044])), ('bias', tensor([0.2938]))])\n",
            "OrderedDict([('weights', tensor([0.7083])), ('bias', tensor([0.3038]))])\n",
            "OrderedDict([('weights', tensor([0.7044])), ('bias', tensor([0.2938]))])\n",
            "OrderedDict([('weights', tensor([0.7083])), ('bias', tensor([0.3038]))])\n",
            "OrderedDict([('weights', tensor([0.7044])), ('bias', tensor([0.2938]))])\n",
            "OrderedDict([('weights', tensor([0.7083])), ('bias', tensor([0.3038]))])\n",
            "OrderedDict([('weights', tensor([0.7044])), ('bias', tensor([0.2938]))])\n",
            "OrderedDict([('weights', tensor([0.7083])), ('bias', tensor([0.3038]))])\n",
            "OrderedDict([('weights', tensor([0.7044])), ('bias', tensor([0.2938]))])\n",
            "OrderedDict([('weights', tensor([0.7083])), ('bias', tensor([0.3038]))])\n",
            "OrderedDict([('weights', tensor([0.7044])), ('bias', tensor([0.2938]))])\n",
            "OrderedDict([('weights', tensor([0.7083])), ('bias', tensor([0.3038]))])\n",
            "OrderedDict([('weights', tensor([0.7044])), ('bias', tensor([0.2938]))])\n",
            "OrderedDict([('weights', tensor([0.7083])), ('bias', tensor([0.3038]))])\n",
            "OrderedDict([('weights', tensor([0.7044])), ('bias', tensor([0.2938]))])\n",
            "OrderedDict([('weights', tensor([0.7083])), ('bias', tensor([0.3038]))])\n",
            "OrderedDict([('weights', tensor([0.7044])), ('bias', tensor([0.2938]))])\n",
            "OrderedDict([('weights', tensor([0.7083])), ('bias', tensor([0.3038]))])\n",
            "OrderedDict([('weights', tensor([0.7044])), ('bias', tensor([0.2938]))])\n",
            "OrderedDict([('weights', tensor([0.7083])), ('bias', tensor([0.3038]))])\n",
            "OrderedDict([('weights', tensor([0.7044])), ('bias', tensor([0.2938]))])\n",
            "OrderedDict([('weights', tensor([0.7083])), ('bias', tensor([0.3038]))])\n",
            "OrderedDict([('weights', tensor([0.7044])), ('bias', tensor([0.2938]))])\n",
            "OrderedDict([('weights', tensor([0.7083])), ('bias', tensor([0.3038]))])\n",
            "OrderedDict([('weights', tensor([0.7044])), ('bias', tensor([0.2938]))])\n",
            "OrderedDict([('weights', tensor([0.7083])), ('bias', tensor([0.3038]))])\n",
            "OrderedDict([('weights', tensor([0.7044])), ('bias', tensor([0.2938]))])\n",
            "OrderedDict([('weights', tensor([0.7083])), ('bias', tensor([0.3038]))])\n",
            "OrderedDict([('weights', tensor([0.7044])), ('bias', tensor([0.2938]))])\n",
            "OrderedDict([('weights', tensor([0.7083])), ('bias', tensor([0.3038]))])\n",
            "OrderedDict([('weights', tensor([0.7044])), ('bias', tensor([0.2938]))])\n",
            "OrderedDict([('weights', tensor([0.7083])), ('bias', tensor([0.3038]))])\n",
            "OrderedDict([('weights', tensor([0.7044])), ('bias', tensor([0.2938]))])\n",
            "OrderedDict([('weights', tensor([0.7083])), ('bias', tensor([0.3038]))])\n",
            "OrderedDict([('weights', tensor([0.7044])), ('bias', tensor([0.2938]))])\n",
            "OrderedDict([('weights', tensor([0.7083])), ('bias', tensor([0.3038]))])\n",
            "OrderedDict([('weights', tensor([0.7044])), ('bias', tensor([0.2938]))])\n",
            "OrderedDict([('weights', tensor([0.7083])), ('bias', tensor([0.3038]))])\n",
            "OrderedDict([('weights', tensor([0.7044])), ('bias', tensor([0.2938]))])\n",
            "OrderedDict([('weights', tensor([0.7083])), ('bias', tensor([0.3038]))])\n",
            "OrderedDict([('weights', tensor([0.7044])), ('bias', tensor([0.2938]))])\n",
            "OrderedDict([('weights', tensor([0.7083])), ('bias', tensor([0.3038]))])\n",
            "OrderedDict([('weights', tensor([0.7044])), ('bias', tensor([0.2938]))])\n",
            "OrderedDict([('weights', tensor([0.7083])), ('bias', tensor([0.3038]))])\n",
            "OrderedDict([('weights', tensor([0.7044])), ('bias', tensor([0.2938]))])\n",
            "OrderedDict([('weights', tensor([0.7083])), ('bias', tensor([0.3038]))])\n",
            "OrderedDict([('weights', tensor([0.7044])), ('bias', tensor([0.2938]))])\n",
            "OrderedDict([('weights', tensor([0.7083])), ('bias', tensor([0.3038]))])\n",
            "OrderedDict([('weights', tensor([0.7044])), ('bias', tensor([0.2938]))])\n",
            "OrderedDict([('weights', tensor([0.7083])), ('bias', tensor([0.3038]))])\n",
            "OrderedDict([('weights', tensor([0.7044])), ('bias', tensor([0.2938]))])\n",
            "OrderedDict([('weights', tensor([0.7083])), ('bias', tensor([0.3038]))])\n",
            "OrderedDict([('weights', tensor([0.7044])), ('bias', tensor([0.2938]))])\n",
            "OrderedDict([('weights', tensor([0.7083])), ('bias', tensor([0.3038]))])\n",
            "OrderedDict([('weights', tensor([0.7044])), ('bias', tensor([0.2938]))])\n",
            "OrderedDict([('weights', tensor([0.7083])), ('bias', tensor([0.3038]))])\n",
            "OrderedDict([('weights', tensor([0.7044])), ('bias', tensor([0.2938]))])\n",
            "OrderedDict([('weights', tensor([0.7083])), ('bias', tensor([0.3038]))])\n",
            "OrderedDict([('weights', tensor([0.7044])), ('bias', tensor([0.2938]))])\n",
            "OrderedDict([('weights', tensor([0.7083])), ('bias', tensor([0.3038]))])\n",
            "OrderedDict([('weights', tensor([0.7044])), ('bias', tensor([0.2938]))])\n",
            "OrderedDict([('weights', tensor([0.7083])), ('bias', tensor([0.3038]))])\n",
            "OrderedDict([('weights', tensor([0.7044])), ('bias', tensor([0.2938]))])\n",
            "OrderedDict([('weights', tensor([0.7083])), ('bias', tensor([0.3038]))])\n",
            "OrderedDict([('weights', tensor([0.7044])), ('bias', tensor([0.2938]))])\n",
            "OrderedDict([('weights', tensor([0.7083])), ('bias', tensor([0.3038]))])\n",
            "OrderedDict([('weights', tensor([0.7044])), ('bias', tensor([0.2938]))])\n",
            "OrderedDict([('weights', tensor([0.7083])), ('bias', tensor([0.3038]))])\n",
            "OrderedDict([('weights', tensor([0.7044])), ('bias', tensor([0.2938]))])\n",
            "OrderedDict([('weights', tensor([0.7083])), ('bias', tensor([0.3038]))])\n",
            "OrderedDict([('weights', tensor([0.7044])), ('bias', tensor([0.2938]))])\n",
            "OrderedDict([('weights', tensor([0.7083])), ('bias', tensor([0.3038]))])\n",
            "OrderedDict([('weights', tensor([0.7044])), ('bias', tensor([0.2938]))])\n",
            "OrderedDict([('weights', tensor([0.7083])), ('bias', tensor([0.3038]))])\n",
            "OrderedDict([('weights', tensor([0.7044])), ('bias', tensor([0.2938]))])\n",
            "OrderedDict([('weights', tensor([0.7083])), ('bias', tensor([0.3038]))])\n",
            "OrderedDict([('weights', tensor([0.7044])), ('bias', tensor([0.2938]))])\n",
            "OrderedDict([('weights', tensor([0.7083])), ('bias', tensor([0.3038]))])\n",
            "OrderedDict([('weights', tensor([0.7044])), ('bias', tensor([0.2938]))])\n",
            "OrderedDict([('weights', tensor([0.7083])), ('bias', tensor([0.3038]))])\n",
            "OrderedDict([('weights', tensor([0.7044])), ('bias', tensor([0.2938]))])\n",
            "OrderedDict([('weights', tensor([0.7083])), ('bias', tensor([0.3038]))])\n",
            "OrderedDict([('weights', tensor([0.7044])), ('bias', tensor([0.2938]))])\n",
            "OrderedDict([('weights', tensor([0.7083])), ('bias', tensor([0.3038]))])\n",
            "OrderedDict([('weights', tensor([0.7044])), ('bias', tensor([0.2938]))])\n",
            "OrderedDict([('weights', tensor([0.7083])), ('bias', tensor([0.3038]))])\n",
            "OrderedDict([('weights', tensor([0.7044])), ('bias', tensor([0.2938]))])\n",
            "OrderedDict([('weights', tensor([0.7083])), ('bias', tensor([0.3038]))])\n",
            "OrderedDict([('weights', tensor([0.7044])), ('bias', tensor([0.2938]))])\n",
            "OrderedDict([('weights', tensor([0.7083])), ('bias', tensor([0.3038]))])\n",
            "OrderedDict([('weights', tensor([0.7044])), ('bias', tensor([0.2938]))])\n",
            "OrderedDict([('weights', tensor([0.7083])), ('bias', tensor([0.3038]))])\n",
            "OrderedDict([('weights', tensor([0.7044])), ('bias', tensor([0.2938]))])\n",
            "OrderedDict([('weights', tensor([0.7083])), ('bias', tensor([0.3038]))])\n",
            "OrderedDict([('weights', tensor([0.7044])), ('bias', tensor([0.2938]))])\n",
            "OrderedDict([('weights', tensor([0.7083])), ('bias', tensor([0.3038]))])\n",
            "OrderedDict([('weights', tensor([0.7044])), ('bias', tensor([0.2938]))])\n",
            "OrderedDict([('weights', tensor([0.7083])), ('bias', tensor([0.3038]))])\n",
            "OrderedDict([('weights', tensor([0.7044])), ('bias', tensor([0.2938]))])\n",
            "OrderedDict([('weights', tensor([0.7083])), ('bias', tensor([0.3038]))])\n",
            "OrderedDict([('weights', tensor([0.7044])), ('bias', tensor([0.2938]))])\n",
            "OrderedDict([('weights', tensor([0.7083])), ('bias', tensor([0.3038]))])\n",
            "OrderedDict([('weights', tensor([0.7044])), ('bias', tensor([0.2938]))])\n",
            "OrderedDict([('weights', tensor([0.7083])), ('bias', tensor([0.3038]))])\n",
            "OrderedDict([('weights', tensor([0.7044])), ('bias', tensor([0.2938]))])\n",
            "OrderedDict([('weights', tensor([0.7083])), ('bias', tensor([0.3038]))])\n",
            "OrderedDict([('weights', tensor([0.7044])), ('bias', tensor([0.2938]))])\n",
            "OrderedDict([('weights', tensor([0.7083])), ('bias', tensor([0.3038]))])\n",
            "OrderedDict([('weights', tensor([0.7044])), ('bias', tensor([0.2938]))])\n",
            "OrderedDict([('weights', tensor([0.7083])), ('bias', tensor([0.3038]))])\n",
            "OrderedDict([('weights', tensor([0.7044])), ('bias', tensor([0.2938]))])\n",
            "OrderedDict([('weights', tensor([0.7083])), ('bias', tensor([0.3038]))])\n",
            "OrderedDict([('weights', tensor([0.7044])), ('bias', tensor([0.2938]))])\n",
            "OrderedDict([('weights', tensor([0.7083])), ('bias', tensor([0.3038]))])\n",
            "OrderedDict([('weights', tensor([0.7044])), ('bias', tensor([0.2938]))])\n",
            "OrderedDict([('weights', tensor([0.7083])), ('bias', tensor([0.3038]))])\n",
            "OrderedDict([('weights', tensor([0.7044])), ('bias', tensor([0.2938]))])\n",
            "OrderedDict([('weights', tensor([0.7083])), ('bias', tensor([0.3038]))])\n",
            "OrderedDict([('weights', tensor([0.7044])), ('bias', tensor([0.2938]))])\n",
            "OrderedDict([('weights', tensor([0.7083])), ('bias', tensor([0.3038]))])\n",
            "OrderedDict([('weights', tensor([0.7044])), ('bias', tensor([0.2938]))])\n",
            "OrderedDict([('weights', tensor([0.7083])), ('bias', tensor([0.3038]))])\n",
            "OrderedDict([('weights', tensor([0.7044])), ('bias', tensor([0.2938]))])\n",
            "OrderedDict([('weights', tensor([0.7083])), ('bias', tensor([0.3038]))])\n",
            "OrderedDict([('weights', tensor([0.7044])), ('bias', tensor([0.2938]))])\n",
            "OrderedDict([('weights', tensor([0.7083])), ('bias', tensor([0.3038]))])\n",
            "OrderedDict([('weights', tensor([0.7044])), ('bias', tensor([0.2938]))])\n",
            "OrderedDict([('weights', tensor([0.7083])), ('bias', tensor([0.3038]))])\n",
            "OrderedDict([('weights', tensor([0.7044])), ('bias', tensor([0.2938]))])\n",
            "OrderedDict([('weights', tensor([0.7083])), ('bias', tensor([0.3038]))])\n",
            "OrderedDict([('weights', tensor([0.7044])), ('bias', tensor([0.2938]))])\n",
            "OrderedDict([('weights', tensor([0.7083])), ('bias', tensor([0.3038]))])\n",
            "OrderedDict([('weights', tensor([0.7044])), ('bias', tensor([0.2938]))])\n",
            "OrderedDict([('weights', tensor([0.7083])), ('bias', tensor([0.3038]))])\n",
            "OrderedDict([('weights', tensor([0.7044])), ('bias', tensor([0.2938]))])\n",
            "OrderedDict([('weights', tensor([0.7083])), ('bias', tensor([0.3038]))])\n",
            "OrderedDict([('weights', tensor([0.7044])), ('bias', tensor([0.2938]))])\n",
            "OrderedDict([('weights', tensor([0.7083])), ('bias', tensor([0.3038]))])\n",
            "OrderedDict([('weights', tensor([0.7044])), ('bias', tensor([0.2938]))])\n",
            "OrderedDict([('weights', tensor([0.7083])), ('bias', tensor([0.3038]))])\n",
            "OrderedDict([('weights', tensor([0.7044])), ('bias', tensor([0.2938]))])\n",
            "OrderedDict([('weights', tensor([0.7083])), ('bias', tensor([0.3038]))])\n",
            "OrderedDict([('weights', tensor([0.7044])), ('bias', tensor([0.2938]))])\n",
            "OrderedDict([('weights', tensor([0.7083])), ('bias', tensor([0.3038]))])\n",
            "OrderedDict([('weights', tensor([0.7044])), ('bias', tensor([0.2938]))])\n",
            "OrderedDict([('weights', tensor([0.7083])), ('bias', tensor([0.3038]))])\n",
            "OrderedDict([('weights', tensor([0.7044])), ('bias', tensor([0.2938]))])\n",
            "OrderedDict([('weights', tensor([0.7083])), ('bias', tensor([0.3038]))])\n",
            "OrderedDict([('weights', tensor([0.7044])), ('bias', tensor([0.2938]))])\n",
            "OrderedDict([('weights', tensor([0.7083])), ('bias', tensor([0.3038]))])\n",
            "OrderedDict([('weights', tensor([0.7044])), ('bias', tensor([0.2938]))])\n",
            "OrderedDict([('weights', tensor([0.7083])), ('bias', tensor([0.3038]))])\n",
            "OrderedDict([('weights', tensor([0.7044])), ('bias', tensor([0.2938]))])\n",
            "OrderedDict([('weights', tensor([0.7083])), ('bias', tensor([0.3038]))])\n",
            "OrderedDict([('weights', tensor([0.7044])), ('bias', tensor([0.2938]))])\n",
            "OrderedDict([('weights', tensor([0.7083])), ('bias', tensor([0.3038]))])\n",
            "OrderedDict([('weights', tensor([0.7044])), ('bias', tensor([0.2938]))])\n",
            "OrderedDict([('weights', tensor([0.7083])), ('bias', tensor([0.3038]))])\n",
            "OrderedDict([('weights', tensor([0.7044])), ('bias', tensor([0.2938]))])\n",
            "OrderedDict([('weights', tensor([0.7083])), ('bias', tensor([0.3038]))])\n",
            "OrderedDict([('weights', tensor([0.7044])), ('bias', tensor([0.2938]))])\n",
            "OrderedDict([('weights', tensor([0.7083])), ('bias', tensor([0.3038]))])\n",
            "OrderedDict([('weights', tensor([0.7044])), ('bias', tensor([0.2938]))])\n",
            "OrderedDict([('weights', tensor([0.7083])), ('bias', tensor([0.3038]))])\n",
            "OrderedDict([('weights', tensor([0.7044])), ('bias', tensor([0.2938]))])\n",
            "OrderedDict([('weights', tensor([0.7083])), ('bias', tensor([0.3038]))])\n",
            "OrderedDict([('weights', tensor([0.7044])), ('bias', tensor([0.2938]))])\n",
            "OrderedDict([('weights', tensor([0.7083])), ('bias', tensor([0.3038]))])\n",
            "OrderedDict([('weights', tensor([0.7044])), ('bias', tensor([0.2938]))])\n",
            "OrderedDict([('weights', tensor([0.7083])), ('bias', tensor([0.3038]))])\n",
            "OrderedDict([('weights', tensor([0.7044])), ('bias', tensor([0.2938]))])\n",
            "OrderedDict([('weights', tensor([0.7083])), ('bias', tensor([0.3038]))])\n",
            "OrderedDict([('weights', tensor([0.7044])), ('bias', tensor([0.2938]))])\n",
            "OrderedDict([('weights', tensor([0.7083])), ('bias', tensor([0.3038]))])\n",
            "OrderedDict([('weights', tensor([0.7044])), ('bias', tensor([0.2938]))])\n",
            "OrderedDict([('weights', tensor([0.7083])), ('bias', tensor([0.3038]))])\n",
            "OrderedDict([('weights', tensor([0.7044])), ('bias', tensor([0.2938]))])\n",
            "OrderedDict([('weights', tensor([0.7083])), ('bias', tensor([0.3038]))])\n",
            "OrderedDict([('weights', tensor([0.7044])), ('bias', tensor([0.2938]))])\n",
            "OrderedDict([('weights', tensor([0.7083])), ('bias', tensor([0.3038]))])\n",
            "OrderedDict([('weights', tensor([0.7044])), ('bias', tensor([0.2938]))])\n",
            "OrderedDict([('weights', tensor([0.7083])), ('bias', tensor([0.3038]))])\n",
            "OrderedDict([('weights', tensor([0.7044])), ('bias', tensor([0.2938]))])\n",
            "OrderedDict([('weights', tensor([0.7083])), ('bias', tensor([0.3038]))])\n",
            "OrderedDict([('weights', tensor([0.7044])), ('bias', tensor([0.2938]))])\n",
            "OrderedDict([('weights', tensor([0.7083])), ('bias', tensor([0.3038]))])\n",
            "OrderedDict([('weights', tensor([0.7044])), ('bias', tensor([0.2938]))])\n",
            "OrderedDict([('weights', tensor([0.7083])), ('bias', tensor([0.3038]))])\n",
            "OrderedDict([('weights', tensor([0.7044])), ('bias', tensor([0.2938]))])\n",
            "OrderedDict([('weights', tensor([0.7083])), ('bias', tensor([0.3038]))])\n",
            "OrderedDict([('weights', tensor([0.7044])), ('bias', tensor([0.2938]))])\n",
            "OrderedDict([('weights', tensor([0.7083])), ('bias', tensor([0.3038]))])\n",
            "OrderedDict([('weights', tensor([0.7044])), ('bias', tensor([0.2938]))])\n",
            "OrderedDict([('weights', tensor([0.7083])), ('bias', tensor([0.3038]))])\n",
            "OrderedDict([('weights', tensor([0.7044])), ('bias', tensor([0.2938]))])\n",
            "OrderedDict([('weights', tensor([0.7083])), ('bias', tensor([0.3038]))])\n",
            "OrderedDict([('weights', tensor([0.7044])), ('bias', tensor([0.2938]))])\n",
            "OrderedDict([('weights', tensor([0.7083])), ('bias', tensor([0.3038]))])\n",
            "OrderedDict([('weights', tensor([0.7044])), ('bias', tensor([0.2938]))])\n",
            "OrderedDict([('weights', tensor([0.7083])), ('bias', tensor([0.3038]))])\n",
            "OrderedDict([('weights', tensor([0.7044])), ('bias', tensor([0.2938]))])\n",
            "OrderedDict([('weights', tensor([0.7083])), ('bias', tensor([0.3038]))])\n",
            "OrderedDict([('weights', tensor([0.7044])), ('bias', tensor([0.2938]))])\n",
            "OrderedDict([('weights', tensor([0.7083])), ('bias', tensor([0.3038]))])\n",
            "OrderedDict([('weights', tensor([0.7044])), ('bias', tensor([0.2938]))])\n",
            "OrderedDict([('weights', tensor([0.7083])), ('bias', tensor([0.3038]))])\n",
            "OrderedDict([('weights', tensor([0.7044])), ('bias', tensor([0.2938]))])\n",
            "OrderedDict([('weights', tensor([0.7083])), ('bias', tensor([0.3038]))])\n",
            "OrderedDict([('weights', tensor([0.7044])), ('bias', tensor([0.2938]))])\n",
            "OrderedDict([('weights', tensor([0.7083])), ('bias', tensor([0.3038]))])\n",
            "OrderedDict([('weights', tensor([0.7044])), ('bias', tensor([0.2938]))])\n",
            "OrderedDict([('weights', tensor([0.7083])), ('bias', tensor([0.3038]))])\n",
            "OrderedDict([('weights', tensor([0.7044])), ('bias', tensor([0.2938]))])\n",
            "OrderedDict([('weights', tensor([0.7083])), ('bias', tensor([0.3038]))])\n",
            "OrderedDict([('weights', tensor([0.7044])), ('bias', tensor([0.2938]))])\n",
            "OrderedDict([('weights', tensor([0.7083])), ('bias', tensor([0.3038]))])\n",
            "OrderedDict([('weights', tensor([0.7044])), ('bias', tensor([0.2938]))])\n",
            "OrderedDict([('weights', tensor([0.7083])), ('bias', tensor([0.3038]))])\n",
            "OrderedDict([('weights', tensor([0.7044])), ('bias', tensor([0.2938]))])\n",
            "OrderedDict([('weights', tensor([0.7083])), ('bias', tensor([0.3038]))])\n",
            "OrderedDict([('weights', tensor([0.7044])), ('bias', tensor([0.2938]))])\n",
            "OrderedDict([('weights', tensor([0.7083])), ('bias', tensor([0.3038]))])\n",
            "OrderedDict([('weights', tensor([0.7044])), ('bias', tensor([0.2938]))])\n",
            "OrderedDict([('weights', tensor([0.7083])), ('bias', tensor([0.3038]))])\n",
            "OrderedDict([('weights', tensor([0.7044])), ('bias', tensor([0.2938]))])\n",
            "OrderedDict([('weights', tensor([0.7083])), ('bias', tensor([0.3038]))])\n",
            "OrderedDict([('weights', tensor([0.7044])), ('bias', tensor([0.2938]))])\n",
            "OrderedDict([('weights', tensor([0.7083])), ('bias', tensor([0.3038]))])\n",
            "OrderedDict([('weights', tensor([0.7044])), ('bias', tensor([0.2938]))])\n",
            "OrderedDict([('weights', tensor([0.7083])), ('bias', tensor([0.3038]))])\n",
            "OrderedDict([('weights', tensor([0.7044])), ('bias', tensor([0.2938]))])\n",
            "OrderedDict([('weights', tensor([0.7083])), ('bias', tensor([0.3038]))])\n",
            "OrderedDict([('weights', tensor([0.7044])), ('bias', tensor([0.2938]))])\n",
            "OrderedDict([('weights', tensor([0.7083])), ('bias', tensor([0.3038]))])\n",
            "OrderedDict([('weights', tensor([0.7044])), ('bias', tensor([0.2938]))])\n",
            "OrderedDict([('weights', tensor([0.7083])), ('bias', tensor([0.3038]))])\n",
            "OrderedDict([('weights', tensor([0.7044])), ('bias', tensor([0.2938]))])\n",
            "OrderedDict([('weights', tensor([0.7083])), ('bias', tensor([0.3038]))])\n",
            "OrderedDict([('weights', tensor([0.7044])), ('bias', tensor([0.2938]))])\n",
            "OrderedDict([('weights', tensor([0.7083])), ('bias', tensor([0.3038]))])\n",
            "OrderedDict([('weights', tensor([0.7044])), ('bias', tensor([0.2938]))])\n",
            "OrderedDict([('weights', tensor([0.7083])), ('bias', tensor([0.3038]))])\n",
            "OrderedDict([('weights', tensor([0.7044])), ('bias', tensor([0.2938]))])\n",
            "OrderedDict([('weights', tensor([0.7083])), ('bias', tensor([0.3038]))])\n",
            "OrderedDict([('weights', tensor([0.7044])), ('bias', tensor([0.2938]))])\n",
            "OrderedDict([('weights', tensor([0.7083])), ('bias', tensor([0.3038]))])\n",
            "OrderedDict([('weights', tensor([0.7044])), ('bias', tensor([0.2938]))])\n",
            "OrderedDict([('weights', tensor([0.7083])), ('bias', tensor([0.3038]))])\n",
            "OrderedDict([('weights', tensor([0.7044])), ('bias', tensor([0.2938]))])\n",
            "OrderedDict([('weights', tensor([0.7083])), ('bias', tensor([0.3038]))])\n",
            "OrderedDict([('weights', tensor([0.7044])), ('bias', tensor([0.2938]))])\n",
            "OrderedDict([('weights', tensor([0.7083])), ('bias', tensor([0.3038]))])\n",
            "OrderedDict([('weights', tensor([0.7044])), ('bias', tensor([0.2938]))])\n",
            "OrderedDict([('weights', tensor([0.7083])), ('bias', tensor([0.3038]))])\n",
            "OrderedDict([('weights', tensor([0.7044])), ('bias', tensor([0.2938]))])\n",
            "OrderedDict([('weights', tensor([0.7083])), ('bias', tensor([0.3038]))])\n",
            "OrderedDict([('weights', tensor([0.7044])), ('bias', tensor([0.2938]))])\n",
            "OrderedDict([('weights', tensor([0.7083])), ('bias', tensor([0.3038]))])\n",
            "OrderedDict([('weights', tensor([0.7044])), ('bias', tensor([0.2938]))])\n",
            "OrderedDict([('weights', tensor([0.7083])), ('bias', tensor([0.3038]))])\n",
            "OrderedDict([('weights', tensor([0.7044])), ('bias', tensor([0.2938]))])\n",
            "OrderedDict([('weights', tensor([0.7083])), ('bias', tensor([0.3038]))])\n",
            "OrderedDict([('weights', tensor([0.7044])), ('bias', tensor([0.2938]))])\n",
            "OrderedDict([('weights', tensor([0.7083])), ('bias', tensor([0.3038]))])\n",
            "OrderedDict([('weights', tensor([0.7044])), ('bias', tensor([0.2938]))])\n",
            "OrderedDict([('weights', tensor([0.7083])), ('bias', tensor([0.3038]))])\n",
            "OrderedDict([('weights', tensor([0.7044])), ('bias', tensor([0.2938]))])\n",
            "OrderedDict([('weights', tensor([0.7083])), ('bias', tensor([0.3038]))])\n",
            "OrderedDict([('weights', tensor([0.7044])), ('bias', tensor([0.2938]))])\n",
            "OrderedDict([('weights', tensor([0.7083])), ('bias', tensor([0.3038]))])\n",
            "OrderedDict([('weights', tensor([0.7044])), ('bias', tensor([0.2938]))])\n",
            "OrderedDict([('weights', tensor([0.7083])), ('bias', tensor([0.3038]))])\n",
            "OrderedDict([('weights', tensor([0.7044])), ('bias', tensor([0.2938]))])\n",
            "OrderedDict([('weights', tensor([0.7083])), ('bias', tensor([0.3038]))])\n",
            "OrderedDict([('weights', tensor([0.7044])), ('bias', tensor([0.2938]))])\n",
            "OrderedDict([('weights', tensor([0.7083])), ('bias', tensor([0.3038]))])\n",
            "OrderedDict([('weights', tensor([0.7044])), ('bias', tensor([0.2938]))])\n",
            "OrderedDict([('weights', tensor([0.7083])), ('bias', tensor([0.3038]))])\n",
            "OrderedDict([('weights', tensor([0.7044])), ('bias', tensor([0.2938]))])\n",
            "OrderedDict([('weights', tensor([0.7083])), ('bias', tensor([0.3038]))])\n",
            "OrderedDict([('weights', tensor([0.7044])), ('bias', tensor([0.2938]))])\n",
            "OrderedDict([('weights', tensor([0.7083])), ('bias', tensor([0.3038]))])\n",
            "OrderedDict([('weights', tensor([0.7044])), ('bias', tensor([0.2938]))])\n",
            "OrderedDict([('weights', tensor([0.7083])), ('bias', tensor([0.3038]))])\n",
            "OrderedDict([('weights', tensor([0.7044])), ('bias', tensor([0.2938]))])\n",
            "OrderedDict([('weights', tensor([0.7083])), ('bias', tensor([0.3038]))])\n",
            "OrderedDict([('weights', tensor([0.7044])), ('bias', tensor([0.2938]))])\n",
            "OrderedDict([('weights', tensor([0.7083])), ('bias', tensor([0.3038]))])\n",
            "OrderedDict([('weights', tensor([0.7044])), ('bias', tensor([0.2938]))])\n",
            "OrderedDict([('weights', tensor([0.7083])), ('bias', tensor([0.3038]))])\n",
            "OrderedDict([('weights', tensor([0.7044])), ('bias', tensor([0.2938]))])\n",
            "OrderedDict([('weights', tensor([0.7083])), ('bias', tensor([0.3038]))])\n",
            "OrderedDict([('weights', tensor([0.7044])), ('bias', tensor([0.2938]))])\n",
            "OrderedDict([('weights', tensor([0.7083])), ('bias', tensor([0.3038]))])\n",
            "OrderedDict([('weights', tensor([0.7044])), ('bias', tensor([0.2938]))])\n",
            "OrderedDict([('weights', tensor([0.7083])), ('bias', tensor([0.3038]))])\n",
            "OrderedDict([('weights', tensor([0.7044])), ('bias', tensor([0.2938]))])\n",
            "OrderedDict([('weights', tensor([0.7083])), ('bias', tensor([0.3038]))])\n",
            "OrderedDict([('weights', tensor([0.7044])), ('bias', tensor([0.2938]))])\n",
            "OrderedDict([('weights', tensor([0.7083])), ('bias', tensor([0.3038]))])\n",
            "OrderedDict([('weights', tensor([0.7044])), ('bias', tensor([0.2938]))])\n",
            "OrderedDict([('weights', tensor([0.7083])), ('bias', tensor([0.3038]))])\n",
            "OrderedDict([('weights', tensor([0.7044])), ('bias', tensor([0.2938]))])\n",
            "OrderedDict([('weights', tensor([0.7083])), ('bias', tensor([0.3038]))])\n",
            "OrderedDict([('weights', tensor([0.7044])), ('bias', tensor([0.2938]))])\n",
            "OrderedDict([('weights', tensor([0.7083])), ('bias', tensor([0.3038]))])\n",
            "OrderedDict([('weights', tensor([0.7044])), ('bias', tensor([0.2938]))])\n",
            "OrderedDict([('weights', tensor([0.7083])), ('bias', tensor([0.3038]))])\n",
            "OrderedDict([('weights', tensor([0.7044])), ('bias', tensor([0.2938]))])\n",
            "OrderedDict([('weights', tensor([0.7083])), ('bias', tensor([0.3038]))])\n",
            "OrderedDict([('weights', tensor([0.7044])), ('bias', tensor([0.2938]))])\n",
            "OrderedDict([('weights', tensor([0.7083])), ('bias', tensor([0.3038]))])\n",
            "OrderedDict([('weights', tensor([0.7044])), ('bias', tensor([0.2938]))])\n",
            "OrderedDict([('weights', tensor([0.7083])), ('bias', tensor([0.3038]))])\n",
            "OrderedDict([('weights', tensor([0.7044])), ('bias', tensor([0.2938]))])\n",
            "OrderedDict([('weights', tensor([0.7083])), ('bias', tensor([0.3038]))])\n",
            "OrderedDict([('weights', tensor([0.7044])), ('bias', tensor([0.2938]))])\n",
            "OrderedDict([('weights', tensor([0.7083])), ('bias', tensor([0.3038]))])\n",
            "OrderedDict([('weights', tensor([0.7044])), ('bias', tensor([0.2938]))])\n",
            "OrderedDict([('weights', tensor([0.7083])), ('bias', tensor([0.3038]))])\n",
            "OrderedDict([('weights', tensor([0.7044])), ('bias', tensor([0.2938]))])\n",
            "OrderedDict([('weights', tensor([0.7083])), ('bias', tensor([0.3038]))])\n",
            "OrderedDict([('weights', tensor([0.7044])), ('bias', tensor([0.2938]))])\n",
            "OrderedDict([('weights', tensor([0.7083])), ('bias', tensor([0.3038]))])\n",
            "OrderedDict([('weights', tensor([0.7044])), ('bias', tensor([0.2938]))])\n",
            "OrderedDict([('weights', tensor([0.7083])), ('bias', tensor([0.3038]))])\n",
            "OrderedDict([('weights', tensor([0.7044])), ('bias', tensor([0.2938]))])\n",
            "OrderedDict([('weights', tensor([0.7083])), ('bias', tensor([0.3038]))])\n",
            "OrderedDict([('weights', tensor([0.7044])), ('bias', tensor([0.2938]))])\n",
            "OrderedDict([('weights', tensor([0.7083])), ('bias', tensor([0.3038]))])\n",
            "OrderedDict([('weights', tensor([0.7044])), ('bias', tensor([0.2938]))])\n",
            "OrderedDict([('weights', tensor([0.7083])), ('bias', tensor([0.3038]))])\n",
            "OrderedDict([('weights', tensor([0.7044])), ('bias', tensor([0.2938]))])\n",
            "OrderedDict([('weights', tensor([0.7083])), ('bias', tensor([0.3038]))])\n",
            "OrderedDict([('weights', tensor([0.7044])), ('bias', tensor([0.2938]))])\n",
            "OrderedDict([('weights', tensor([0.7083])), ('bias', tensor([0.3038]))])\n",
            "OrderedDict([('weights', tensor([0.7044])), ('bias', tensor([0.2938]))])\n",
            "OrderedDict([('weights', tensor([0.7083])), ('bias', tensor([0.3038]))])\n",
            "OrderedDict([('weights', tensor([0.7044])), ('bias', tensor([0.2938]))])\n",
            "OrderedDict([('weights', tensor([0.7083])), ('bias', tensor([0.3038]))])\n",
            "OrderedDict([('weights', tensor([0.7044])), ('bias', tensor([0.2938]))])\n",
            "OrderedDict([('weights', tensor([0.7083])), ('bias', tensor([0.3038]))])\n",
            "OrderedDict([('weights', tensor([0.7044])), ('bias', tensor([0.2938]))])\n",
            "OrderedDict([('weights', tensor([0.7083])), ('bias', tensor([0.3038]))])\n",
            "OrderedDict([('weights', tensor([0.7044])), ('bias', tensor([0.2938]))])\n",
            "OrderedDict([('weights', tensor([0.7083])), ('bias', tensor([0.3038]))])\n",
            "OrderedDict([('weights', tensor([0.7044])), ('bias', tensor([0.2938]))])\n",
            "OrderedDict([('weights', tensor([0.7083])), ('bias', tensor([0.3038]))])\n",
            "OrderedDict([('weights', tensor([0.7044])), ('bias', tensor([0.2938]))])\n",
            "OrderedDict([('weights', tensor([0.7083])), ('bias', tensor([0.3038]))])\n",
            "OrderedDict([('weights', tensor([0.7044])), ('bias', tensor([0.2938]))])\n",
            "OrderedDict([('weights', tensor([0.7083])), ('bias', tensor([0.3038]))])\n",
            "OrderedDict([('weights', tensor([0.7044])), ('bias', tensor([0.2938]))])\n",
            "OrderedDict([('weights', tensor([0.7083])), ('bias', tensor([0.3038]))])\n",
            "OrderedDict([('weights', tensor([0.7044])), ('bias', tensor([0.2938]))])\n",
            "OrderedDict([('weights', tensor([0.7083])), ('bias', tensor([0.3038]))])\n",
            "OrderedDict([('weights', tensor([0.7044])), ('bias', tensor([0.2938]))])\n",
            "OrderedDict([('weights', tensor([0.7083])), ('bias', tensor([0.3038]))])\n",
            "OrderedDict([('weights', tensor([0.7044])), ('bias', tensor([0.2938]))])\n",
            "OrderedDict([('weights', tensor([0.7083])), ('bias', tensor([0.3038]))])\n",
            "OrderedDict([('weights', tensor([0.7044])), ('bias', tensor([0.2938]))])\n",
            "OrderedDict([('weights', tensor([0.7083])), ('bias', tensor([0.3038]))])\n",
            "OrderedDict([('weights', tensor([0.7044])), ('bias', tensor([0.2938]))])\n",
            "OrderedDict([('weights', tensor([0.7083])), ('bias', tensor([0.3038]))])\n",
            "OrderedDict([('weights', tensor([0.7044])), ('bias', tensor([0.2938]))])\n",
            "OrderedDict([('weights', tensor([0.7083])), ('bias', tensor([0.3038]))])\n"
          ]
        }
      ]
    },
    {
      "cell_type": "code",
      "source": [
        "model_0.state_dict()"
      ],
      "metadata": {
        "colab": {
          "base_uri": "https://localhost:8080/"
        },
        "id": "kCFbBjzrAk8z",
        "outputId": "e88b03db-c610-43c0-86f8-3ae8c8507d07"
      },
      "execution_count": null,
      "outputs": [
        {
          "output_type": "execute_result",
          "data": {
            "text/plain": [
              "OrderedDict([('weights', tensor([0.7083])), ('bias', tensor([0.3038]))])"
            ]
          },
          "metadata": {},
          "execution_count": 65
        }
      ]
    },
    {
      "cell_type": "code",
      "source": [
        "weight, bias"
      ],
      "metadata": {
        "colab": {
          "base_uri": "https://localhost:8080/"
        },
        "id": "YemY-XCJAoM3",
        "outputId": "b75d571d-e3f5-41b7-d988-7db6ab6c38b3"
      },
      "execution_count": null,
      "outputs": [
        {
          "output_type": "execute_result",
          "data": {
            "text/plain": [
              "(0.7, 0.3)"
            ]
          },
          "metadata": {},
          "execution_count": 66
        }
      ]
    },
    {
      "cell_type": "code",
      "source": [
        "with torch.no_grad():\n",
        "  y_preds = model_0(X_test)\n",
        "\n",
        "  plot_predictions(predictions=y_preds)"
      ],
      "metadata": {
        "colab": {
          "base_uri": "https://localhost:8080/",
          "height": 459
        },
        "id": "fHb8HimdjsPS",
        "outputId": "3d7d8eb4-5cd5-4bcf-f906-50ddf56e9401"
      },
      "execution_count": null,
      "outputs": [
        {
          "output_type": "display_data",
          "data": {
            "text/plain": [
              "<Figure size 1000x700 with 1 Axes>"
            ],
            "image/png": "[encoded data removed]"
          },
          "metadata": {}
        }
      ]
    },
    {
      "cell_type": "code",
      "source": [
        "# Saving a model in PyTorch\n",
        "# 1. torch.save() --> save PyTorch object in Python's pickle format\n",
        "# 3. torch.n.Module.load_State_dict()"
      ],
      "metadata": {
        "id": "kbrYF_rSkGoS"
      },
      "execution_count": null,
      "outputs": []
    },
    {
      "cell_type": "code",
      "source": [
        "model_0.state_dict()"
      ],
      "metadata": {
        "colab": {
          "base_uri": "https://localhost:8080/"
        },
        "id": "jY0oEfTNkSuP",
        "outputId": "cb9c9d3d-5020-4e1f-d309-d1dc0ce4c6e3"
      },
      "execution_count": null,
      "outputs": [
        {
          "output_type": "execute_result",
          "data": {
            "text/plain": [
              "OrderedDict([('weights', tensor([0.7083])), ('bias', tensor([0.3038]))])"
            ]
          },
          "metadata": {},
          "execution_count": 69
        }
      ]
    },
    {
      "cell_type": "code",
      "source": [
        "from pathlib import Path\n",
        "\n",
        "MODEL_PATH = Path(\"models\")\n",
        "MODEL_PATH.mkdir(parents=True, exist_ok=True)\n",
        "\n",
        "MODEL_NAME = \"model_0.pth\"\n",
        "MODEL_SAVE_PATH = MODEL_PATH/MODEL_NAME\n",
        "print(f\"Saving model to {MODEL_SAVE_PATH}\")\n",
        "\n",
        "torch.save(\n",
        "    obj=model_0.state_dict(),\n",
        "    f=MODEL_SAVE_PATH\n",
        ")"
      ],
      "metadata": {
        "colab": {
          "base_uri": "https://localhost:8080/"
        },
        "id": "l9YchQM0kUBz",
        "outputId": "2739ce30-22e0-466a-e036-7729636677b9"
      },
      "execution_count": null,
      "outputs": [
        {
          "output_type": "stream",
          "name": "stdout",
          "text": [
            "Saving model to models/model_0.pth\n"
          ]
        }
      ]
    },
    {
      "cell_type": "code",
      "source": [
        "!cat models/model_0.pth"
      ],
      "metadata": {
        "colab": {
          "base_uri": "https://localhost:8080/"
        },
        "id": "Vjteuciil0VP",
        "outputId": "d2901f4d-2b08-42f7-8cd5-b7e6dc2249e5"
      },
      "execution_count": null,
      "outputs": [
        {
          "output_type": "stream",
          "name": "stdout",
          "text": [
            "PK\u0003\u0004\u0000\u0000\b\b\u0000\u0000\u0000\u0000\u0000\u0000\u0000\u0000\u0000\u0000\u0000\u0000\u0000\u0000\u0000\u0000\u0000\u0000\u0010\u0000\u0012\u0000model_0/data.pklFB\u000e\u0000ZZZZZZZZZZZZZZ�\u0002ccollections\n",
            "OrderedDict\n",
            "q\u0000)Rq\u0001(X\u0007\u0000\u0000\u0000weightsq\u0002ctorch._utils\n",
            "_rebuild_tensor_v2\n",
            "q\u0003((X\u0007\u0000\u0000\u0000storageq\u0004ctorch\n",
            "FloatStorage\n",
            "q\u0005X\u0001\u0000\u0000\u00000q\u0006X\u0003\u0000\u0000\u0000cpuq\u0007K\u0001tq\bQK\u0000K\u0001�q\tK\u0001�q\n",
            "�h\u0000)Rq\u000btq\fRq\rX\u0004\u0000\u0000\u0000biasq\u000eh\u0003((h\u0004h\u0005X\u0001\u0000\u0000\u00001q\u000fh\u0007K\u0001tq\u0010QK\u0000K\u0001�q\u0011K\u0001�q\u0012�h\u0000)Rq\u0013tq\u0014Rq\u0015u}q\u0016X\t\u0000\u0000\u0000_metadataq\u0017h\u0000)Rq\u0018X\u0000\u0000\u0000\u0000q\u0019}q\u001aX\u0007\u0000\u0000\u0000versionq\u001bK\u0001sssb.PK\u0007\b<&�B\u001f\u0001\u0000\u0000\u001f\u0001\u0000\u0000PK\u0003\u0004\u0000\u0000\b\b\u0000\u0000\u0000\u0000\u0000\u0000\u0000\u0000\u0000\u0000\u0000\u0000\u0000\u0000\u0000\u0000\u0000\u0000\u0011\u0000\"\u0000model_0/byteorderFB\u001e\u0000ZZZZZZZZZZZZZZZZZZZZZZZZZZZZZZlittlePK\u0007\b�=�\u0019\u0006\u0000\u0000\u0000\u0006\u0000\u0000\u0000PK\u0003\u0004\u0000\u0000\b\b\u0000\u0000\u0000\u0000\u0000\u0000\u0000\u0000\u0000\u0000\u0000\u0000\u0000\u0000\u0000\u0000\u0000\u0000\u000e\u0000>\u0000model_0/data/0FB:\u0000ZZZZZZZZZZZZZZZZZZZZZZZZZZZZZZZZZZZZZZZZZZZZZZZZZZZZZZZZZZ�R5?PK\u0007\b%�\u00108\u0004\u0000\u0000\u0000\u0004\u0000\u0000\u0000PK\u0003\u0004\u0000\u0000\b\b\u0000\u0000\u0000\u0000\u0000\u0000\u0000\u0000\u0000\u0000\u0000\u0000\u0000\u0000\u0000\u0000\u0000\u0000\u000e\u0000@\u0000model_0/data/1FB<\u0000ZZZZZZZZZZZZZZZZZZZZZZZZZZZZZZZZZZZZZZZZZZZZZZZZZZZZZZZZZZZZ���>PK\u0007\b\u0011=\u0011�\u0004\u0000\u0000\u0000\u0004\u0000\u0000\u0000PK\u0003\u0004\u0000\u0000\b\b\u0000\u0000\u0000\u0000\u0000\u0000\u0000\u0000\u0000\u0000\u0000\u0000\u0000\u0000\u0000\u0000\u0000\u0000\u000f\u0000?\u0000model_0/versionFB;\u0000ZZZZZZZZZZZZZZZZZZZZZZZZZZZZZZZZZZZZZZZZZZZZZZZZZZZZZZZZZZZ3\n",
            "PK\u0007\bўgU\u0002\u0000\u0000\u0000\u0002\u0000\u0000\u0000PK\u0003\u0004\u0000\u0000\b\b\u0000\u0000\u0000\u0000\u0000\u0000\u0000\u0000\u0000\u0000\u0000\u0000\u0000\u0000\u0000\u0000\u0000\u0000\u001e\u00002\u0000model_0/.data/serialization_idFB.\u0000ZZZZZZZZZZZZZZZZZZZZZZZZZZZZZZZZZZZZZZZZZZZZZZ1326306869893853080500068584481843960052PK\u0007\b�V�J(\u0000\u0000\u0000(\u0000\u0000\u0000PK\u0001\u0002\u0000\u0000\u0000\u0000\b\b\u0000\u0000\u0000\u0000\u0000\u0000<&�B\u001f\u0001\u0000\u0000\u001f\u0001\u0000\u0000\u0010\u0000\u0000\u0000\u0000\u0000\u0000\u0000\u0000\u0000\u0000\u0000\u0000\u0000\u0000\u0000\u0000\u0000model_0/data.pklPK\u0001\u0002\u0000\u0000\u0000\u0000\b\b\u0000\u0000\u0000\u0000\u0000\u0000�=�\u0019\u0006\u0000\u0000\u0000\u0006\u0000\u0000\u0000\u0011\u0000\u0000\u0000\u0000\u0000\u0000\u0000\u0000\u0000\u0000\u0000\u0000\u0000o\u0001\u0000\u0000model_0/byteorderPK\u0001\u0002\u0000\u0000\u0000\u0000\b\b\u0000\u0000\u0000\u0000\u0000\u0000%�\u00108\u0004\u0000\u0000\u0000\u0004\u0000\u0000\u0000\u000e\u0000\u0000\u0000\u0000\u0000\u0000\u0000\u0000\u0000\u0000\u0000\u0000\u0000�\u0001\u0000\u0000model_0/data/0PK\u0001\u0002\u0000\u0000\u0000\u0000\b\b\u0000\u0000\u0000\u0000\u0000\u0000\u0011=\u0011�\u0004\u0000\u0000\u0000\u0004\u0000\u0000\u0000\u000e\u0000\u0000\u0000\u0000\u0000\u0000\u0000\u0000\u0000\u0000\u0000\u0000\u0000T\u0002\u0000\u0000model_0/data/1PK\u0001\u0002\u0000\u0000\u0000\u0000\b\b\u0000\u0000\u0000\u0000\u0000\u0000ўgU\u0002\u0000\u0000\u0000\u0002\u0000\u0000\u0000\u000f\u0000\u0000\u0000\u0000\u0000\u0000\u0000\u0000\u0000\u0000\u0000\u0000\u0000�\u0002\u0000\u0000model_0/versionPK\u0001\u0002\u0000\u0000\u0000\u0000\b\b\u0000\u0000\u0000\u0000\u0000\u0000�V�J(\u0000\u0000\u0000(\u0000\u0000\u0000\u001e\u0000\u0000\u0000\u0000\u0000\u0000\u0000\u0000\u0000\u0000\u0000\u0000\u0000R\u0003\u0000\u0000model_0/.data/serialization_idPK\u0006\u0006,\u0000\u0000\u0000\u0000\u0000\u0000\u0000\u001e\u0003-\u0000\u0000\u0000\u0000\u0000\u0000\u0000\u0000\u0000\u0006\u0000\u0000\u0000\u0000\u0000\u0000\u0000\u0006\u0000\u0000\u0000\u0000\u0000\u0000\u0000~\u0001\u0000\u0000\u0000\u0000\u0000\u0000�\u0003\u0000\u0000\u0000\u0000\u0000\u0000PK\u0006\u0007\u0000\u0000\u0000\u0000v\u0005\u0000\u0000\u0000\u0000\u0000\u0000\u0001\u0000\u0000\u0000PK\u0005\u0006\u0000\u0000\u0000\u0000\u0006\u0000\u0006\u0000~\u0001\u0000\u0000�\u0003\u0000\u0000\u0000\u0000"
          ]
        }
      ]
    },
    {
      "cell_type": "code",
      "source": [
        "# Load\n",
        "\n",
        "from pathlib import Path\n",
        "\n",
        "MODEL_PATH = Path(\"models\")\n",
        "MODEL_PATH.mkdir(parents=True, exist_ok=True)\n",
        "\n",
        "MODEL_NAME = \"model_0.pth\"\n",
        "MODEL_SAVE_PATH = MODEL_PATH/MODEL_NAME\n",
        "print(f\"Loading model from {MODEL_SAVE_PATH}\")\n",
        "\n",
        "model_0 = LinearRegressionModel()\n",
        "\n",
        "model_0.load_state_dict(torch.load(\n",
        "    weights_only=True,\n",
        "    f=MODEL_SAVE_PATH,\n",
        "))\n",
        "\n",
        "model_0.state_dict()"
      ],
      "metadata": {
        "colab": {
          "base_uri": "https://localhost:8080/"
        },
        "id": "YP1bOnRel4DE",
        "outputId": "90a9e38f-80b6-4648-e978-b352f929f03f"
      },
      "execution_count": null,
      "outputs": [
        {
          "output_type": "stream",
          "name": "stdout",
          "text": [
            "Loading model from models/model_0.pth\n"
          ]
        },
        {
          "output_type": "execute_result",
          "data": {
            "text/plain": [
              "OrderedDict([('weights', tensor([0.7083])), ('bias', tensor([0.3038]))])"
            ]
          },
          "metadata": {},
          "execution_count": 72
        }
      ]
    },
    {
      "cell_type": "markdown",
      "source": [
        "Putting it al together"
      ],
      "metadata": {
        "id": "7Mfl3ZLvnhta"
      }
    },
    {
      "cell_type": "code",
      "source": [
        "from torch import nn\n",
        "import torch\n",
        "from matplotlib import pyplot as plt\n",
        "\n",
        "device = \"cuda\" if torch.cuda.is_available() else \"cpu\"\n",
        "print(f\"Using device: {device}\")\n"
      ],
      "metadata": {
        "colab": {
          "base_uri": "https://localhost:8080/"
        },
        "id": "rjTDbRojnjnz",
        "outputId": "9372b93f-d3eb-4193-9363-6c313600fd76"
      },
      "execution_count": null,
      "outputs": [
        {
          "output_type": "stream",
          "name": "stdout",
          "text": [
            "Using device: cuda\n"
          ]
        }
      ]
    },
    {
      "cell_type": "code",
      "source": [
        "# 1. Set up data\n",
        "\n",
        "weight = 0.7\n",
        "bias = 0.3\n",
        "\n",
        "# Create X_train, X_test, y_train, y_test\n",
        "start = 0\n",
        "end = 1\n",
        "step = 0.02\n",
        "\n",
        "x = torch.arange(start, end, step)\n",
        "y = 0.7*x + 0.3\n",
        "\n",
        "split_index = int(len(x)*0.70)\n",
        "\n",
        "X_train = x[:split_index] # up to 0.68, inclusive\n",
        "X_test = x[split_index:] # 0.70 and beyond, inclusive\n",
        "\n",
        "y_train = y[:split_index]\n",
        "y_test = y[split_index:]\n",
        "\n",
        "X_train = X_train.unsqueeze(1)\n",
        "X_test = X_test.unsqueeze(1)\n",
        "y_train = y_train.unsqueeze(1)\n",
        "y_test = y_test.unsqueeze(1)\n",
        "\n",
        "X_train = X_train.to(device)\n",
        "X_test = X_test.to(device)\n",
        "y_train = y_train.to(device)\n",
        "y_test = y_test.to(device)\n",
        "\n",
        "X_train[:5], X_test[:5], y_train[:5], y_test[:5]"
      ],
      "metadata": {
        "colab": {
          "base_uri": "https://localhost:8080/"
        },
        "id": "mlP2Jq4DnuVJ",
        "outputId": "35a1efec-da52-40af-fe22-108f6f0985ab"
      },
      "execution_count": null,
      "outputs": [
        {
          "output_type": "execute_result",
          "data": {
            "text/plain": [
              "(tensor([[0.0000],\n",
              "         [0.0200],\n",
              "         [0.0400],\n",
              "         [0.0600],\n",
              "         [0.0800]], device='cuda:0'),\n",
              " tensor([[0.7000],\n",
              "         [0.7200],\n",
              "         [0.7400],\n",
              "         [0.7600],\n",
              "         [0.7800]], device='cuda:0'),\n",
              " tensor([[0.3000],\n",
              "         [0.3140],\n",
              "         [0.3280],\n",
              "         [0.3420],\n",
              "         [0.3560]], device='cuda:0'),\n",
              " tensor([[0.7900],\n",
              "         [0.8040],\n",
              "         [0.8180],\n",
              "         [0.8320],\n",
              "         [0.8460]], device='cuda:0'))"
            ]
          },
          "metadata": {},
          "execution_count": 146
        }
      ]
    },
    {
      "cell_type": "code",
      "source": [
        "# Plot Predictions function\n",
        "def plot_predictions(X_train=X_train, X_test=X_test, y_train=y_train, y_test=y_test, predictions=None):\n",
        "  plt.scatter(X_train, y_train, s=1, c=\"b\")\n",
        "  plt.scatter(X_test, y_test, s=1, c=\"g\")\n",
        "\n",
        "  if predictions is not None:\n",
        "    plt.scatter(X_test, predictions, s=1, c=\"r\")\n"
      ],
      "metadata": {
        "id": "WZTV2Y-knuQe"
      },
      "execution_count": null,
      "outputs": []
    },
    {
      "cell_type": "code",
      "source": [
        "# 2. Build and Pick a Model\n",
        "class LinearRegressionModelV2(nn.Module):\n",
        "  def __init__(self):\n",
        "     super().__init__()\n",
        "\n",
        "     self.linear_layer = nn.Linear(in_features=1, out_features=1)\n",
        "\n",
        "  def forward(self, x: torch.Tensor):\n",
        "    return self.linear_layer(x)"
      ],
      "metadata": {
        "id": "fRx9X2bKo3QP"
      },
      "execution_count": null,
      "outputs": []
    },
    {
      "cell_type": "code",
      "source": [
        "torch.manual_seed(42)\n",
        "model_1 = LinearRegressionModelV2()\n",
        "model_1 = model_1.to(device)\n",
        "model_1.state_dict()"
      ],
      "metadata": {
        "colab": {
          "base_uri": "https://localhost:8080/"
        },
        "id": "2ePy7PEzuHVy",
        "outputId": "df26bfaa-d49d-48f4-8123-487862e46b81"
      },
      "execution_count": null,
      "outputs": [
        {
          "output_type": "execute_result",
          "data": {
            "text/plain": [
              "OrderedDict([('linear_layer.weight', tensor([[0.7645]], device='cuda:0')),\n",
              "             ('linear_layer.bias', tensor([0.8300], device='cuda:0'))])"
            ]
          },
          "metadata": {},
          "execution_count": 159
        }
      ]
    },
    {
      "cell_type": "code",
      "source": [
        "# Loss Function\n",
        "loss_fn = nn.L1Loss() # MAE (mean absolute error)\n",
        "\n",
        "# Optimizer\n",
        "optimizer = torch.optim.SGD(\n",
        "    params=model_1.parameters(),\n",
        "    lr=0.01\n",
        ")"
      ],
      "metadata": {
        "id": "-II5Cyk-uQUV"
      },
      "execution_count": null,
      "outputs": []
    },
    {
      "cell_type": "code",
      "source": [
        "# Training Loop\n",
        "\n",
        "torch.manual_seed(42)\n",
        "\n",
        "epochs = 50\n",
        "\n",
        "for epoch in range(epochs):\n",
        "  # 0. Put in training mode\n",
        "  model_1.train()\n",
        "\n",
        "  # 1. Forward pass\n",
        "  y_pred = model_1(X_train)\n",
        "\n",
        "  # 2. Calculate loss\n",
        "  MAE_loss = loss_fn(y_pred, y_train)\n",
        "\n",
        "  # 3. Optimizer Zero Gradient\n",
        "  optimizer.zero_grad()\n",
        "\n",
        "  # 4. backward proparagation\n",
        "  MAE_loss.backward()\n",
        "\n",
        "  # 5. Optimizer step\n",
        "  optimizer.step()\n",
        "\n",
        "  ### Do a Test\n",
        "  if epoch % 10 == 0:\n",
        "    model_1.eval()\n",
        "    with torch.inference_mode():\n",
        "      test_predictions = model_1(X_test)\n",
        "      test_loss = loss_fn(test_predictions, y_test)\n",
        "      print(f\"Epoch: {epoch} | Loss: {MAE_loss} | Test Loss: {test_loss}\")\n"
      ],
      "metadata": {
        "colab": {
          "base_uri": "https://localhost:8080/"
        },
        "id": "DIK2N5CiugRh",
        "outputId": "615ca13e-e345-42c1-e010-7bec16d3fb0a"
      },
      "execution_count": null,
      "outputs": [
        {
          "output_type": "stream",
          "name": "stdout",
          "text": [
            "Epoch: 0 | Loss: 0.551950991153717 | Test Loss: 0.5713642835617065\n",
            "Epoch: 10 | Loss: 0.44039100408554077 | Test Loss: 0.44280412793159485\n",
            "Epoch: 20 | Loss: 0.3288309872150421 | Test Loss: 0.31424400210380554\n",
            "Epoch: 30 | Loss: 0.21727101504802704 | Test Loss: 0.18568386137485504\n",
            "Epoch: 40 | Loss: 0.10571100562810898 | Test Loss: 0.057123709470033646\n"
          ]
        }
      ]
    },
    {
      "cell_type": "code",
      "source": [
        "### Testing\n",
        "model_1.eval()\n",
        "with torch.inference_mode():\n",
        "  test_pred = model_1(X_test)\n",
        "\n",
        "  test_loss = loss_fn(test_pred, y_test)\n",
        "\n",
        "  # Print out what's happening\n",
        "  if epoch % 10 == 0:\n",
        "    print(f\"Epoch: {epoch} | Loss: {loss} | Test loss: {test_loss}\")\n",
        "\n",
        "  plot_predictions(predictions=test_pred.cpu())"
      ],
      "metadata": {
        "colab": {
          "base_uri": "https://localhost:8080/",
          "height": 430
        },
        "id": "IA9qssn0zj6T",
        "outputId": "e51a4b4d-2e52-40f1-8fd4-6629a0155c53"
      },
      "execution_count": null,
      "outputs": [
        {
          "output_type": "display_data",
          "data": {
            "text/plain": [
              "<Figure size 640x480 with 1 Axes>"
            ],
            "image/png": "[encoded data removed]"
          },
          "metadata": {}
        }
      ]
    },
    {
      "cell_type": "code",
      "source": [],
      "metadata": {
        "colab": {
          "base_uri": "https://localhost:8080/"
        },
        "id": "R84vWBAO08cm",
        "outputId": "05e7d1d7-e78d-4b98-d014-d7e24fe85959"
      },
      "execution_count": null,
      "outputs": [
        {
          "output_type": "execute_result",
          "data": {
            "text/plain": [
              "OrderedDict([('linear_layer.weight', tensor([[0.6936]], device='cuda:0')),\n",
              "             ('linear_layer.bias', tensor([0.3060], device='cuda:0'))])"
            ]
          },
          "metadata": {},
          "execution_count": 157
        }
      ]
    },
    {
      "cell_type": "code",
      "source": [
        "torch.save(obj=model_1.state_dict(), f=MODEL_PATH/\"model_1.pth\")"
      ],
      "metadata": {
        "id": "Clo48FrapZBV"
      },
      "execution_count": null,
      "outputs": []
    },
    {
      "cell_type": "code",
      "source": [
        "model_1.load_state_dict(torch.load(f=MODEL_PATH/\"model_1.pth\"))\n",
        "\n",
        "with torch.inference_mode():\n",
        "  y_preds = model_1(X_test)\n",
        "  plot_predictions(predictions=y_preds.cpu())"
      ],
      "metadata": {
        "colab": {
          "base_uri": "https://localhost:8080/",
          "height": 485
        },
        "id": "9di8jafJ3H5P",
        "outputId": "f77e8db7-2d12-4145-c650-22645b3037d6"
      },
      "execution_count": null,
      "outputs": [
        {
          "output_type": "stream",
          "name": "stderr",
          "text": [
            "<ipython-input-172-6a2deb9fee78>:1: FutureWarning: You are using `torch.load` with `weights_only=False` (the current default value), which uses the default pickle module implicitly. It is possible to construct malicious pickle data which will execute arbitrary code during unpickling (See https://github.com/pytorch/pytorch/blob/main/SECURITY.md#untrusted-models for more details). In a future release, the default value for `weights_only` will be flipped to `True`. This limits the functions that could be executed during unpickling. Arbitrary objects will no longer be allowed to be loaded via this mode unless they are explicitly allowlisted by the user via `torch.serialization.add_safe_globals`. We recommend you start setting `weights_only=True` for any use case where you don't have full control of the loaded file. Please open an issue on GitHub for any issues related to this experimental feature.\n",
            "  model_1.load_state_dict(torch.load(f=MODEL_PATH/\"model_1.pth\"))\n"
          ]
        },
        {
          "output_type": "display_data",
          "data": {
            "text/plain": [
              "<Figure size 640x480 with 1 Axes>"
            ],
            "image/png": "[encoded data removed]"
          },
          "metadata": {}
        }
      ]
    }
  ]
}