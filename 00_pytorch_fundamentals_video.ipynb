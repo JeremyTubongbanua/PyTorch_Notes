{
  "nbformat": 4,
  "nbformat_minor": 0,
  "metadata": {
    "colab": {
      "provenance": [],
      "gpuType": "T4"
    },
    "kernelspec": {
      "name": "python3",
      "display_name": "Python 3"
    },
    "language_info": {
      "name": "python"
    },
    "accelerator": "GPU"
  },
  "cells": [
    {
      "cell_type": "markdown",
      "source": [
        "## 00. Pytorch Fundamentals\n",
        "\n",
        "## Resource Notebook: https://www.learnpytorch.io/00_pytorch_fundamentals/\n"
      ],
      "metadata": {
        "id": "EWJZcBZqeqXd"
      }
    },
    {
      "cell_type": "code",
      "source": [
        "import torch\n",
        "import pandas as pd\n",
        "import numpy as np\n",
        "import matplotlib.pyplot as plt\n",
        "print(torch.__version__)"
      ],
      "metadata": {
        "colab": {
          "base_uri": "https://localhost:8080/"
        },
        "id": "sUvkPPpGf4mN",
        "outputId": "3e0cf74b-bf9d-4783-cf9c-4a2b4a34feef"
      },
      "execution_count": null,
      "outputs": [
        {
          "output_type": "stream",
          "name": "stdout",
          "text": [
            "2.4.1+cu121\n"
          ]
        }
      ]
    },
    {
      "cell_type": "code",
      "source": [
        "# Scalar Tensor\n",
        "\n",
        "scalar = torch.tensor(7)\n",
        "scalar"
      ],
      "metadata": {
        "colab": {
          "base_uri": "https://localhost:8080/"
        },
        "id": "W0XtYcvNf8-C",
        "outputId": "b9e12431-a967-4d8f-c1dd-c455dcb6ac4f"
      },
      "execution_count": null,
      "outputs": [
        {
          "output_type": "execute_result",
          "data": {
            "text/plain": [
              "tensor(7)"
            ]
          },
          "metadata": {},
          "execution_count": 117
        }
      ]
    },
    {
      "cell_type": "code",
      "source": [
        "scalar.ndim"
      ],
      "metadata": {
        "id": "hDk2WwrGgHaF",
        "colab": {
          "base_uri": "https://localhost:8080/"
        },
        "outputId": "6d3f39d7-7f1c-42bf-c437-3a849b74dbba"
      },
      "execution_count": null,
      "outputs": [
        {
          "output_type": "execute_result",
          "data": {
            "text/plain": [
              "0"
            ]
          },
          "metadata": {},
          "execution_count": 118
        }
      ]
    },
    {
      "cell_type": "code",
      "source": [
        "# Get tensor back as Python int\n",
        "scalar.item()"
      ],
      "metadata": {
        "colab": {
          "base_uri": "https://localhost:8080/"
        },
        "id": "zD9SmvtpgZ3q",
        "outputId": "e0e12592-ecfd-4a79-82da-a218c676310e"
      },
      "execution_count": null,
      "outputs": [
        {
          "output_type": "execute_result",
          "data": {
            "text/plain": [
              "7"
            ]
          },
          "metadata": {},
          "execution_count": 119
        }
      ]
    },
    {
      "cell_type": "code",
      "source": [
        "# Vector Tensor\n",
        "\n",
        "## Magnitude and direction\n",
        "vector = torch.tensor([7, 7])\n",
        "vector"
      ],
      "metadata": {
        "colab": {
          "base_uri": "https://localhost:8080/"
        },
        "id": "eT8olC4NgdME",
        "outputId": "1619ddc1-956c-4229-abf4-9428e8f7bc42"
      },
      "execution_count": null,
      "outputs": [
        {
          "output_type": "execute_result",
          "data": {
            "text/plain": [
              "tensor([7, 7])"
            ]
          },
          "metadata": {},
          "execution_count": 120
        }
      ]
    },
    {
      "cell_type": "code",
      "source": [
        "vector.ndim"
      ],
      "metadata": {
        "colab": {
          "base_uri": "https://localhost:8080/"
        },
        "id": "sZtHJa2zgnks",
        "outputId": "fdc3eb83-adc8-4998-b67c-ee081e538636"
      },
      "execution_count": null,
      "outputs": [
        {
          "output_type": "execute_result",
          "data": {
            "text/plain": [
              "1"
            ]
          },
          "metadata": {},
          "execution_count": 121
        }
      ]
    },
    {
      "cell_type": "code",
      "source": [
        "vector.shape"
      ],
      "metadata": {
        "colab": {
          "base_uri": "https://localhost:8080/"
        },
        "id": "3SYRBUF2grOH",
        "outputId": "b92237eb-f0e2-4eb3-94d4-188b10d5007b"
      },
      "execution_count": null,
      "outputs": [
        {
          "output_type": "execute_result",
          "data": {
            "text/plain": [
              "torch.Size([2])"
            ]
          },
          "metadata": {},
          "execution_count": 122
        }
      ]
    },
    {
      "cell_type": "code",
      "source": [
        "# MATRIX\n",
        "MATRIX = torch.tensor([[7, 8], [9, 10]])\n",
        "MATRIX"
      ],
      "metadata": {
        "colab": {
          "base_uri": "https://localhost:8080/"
        },
        "id": "UmqReZJ3gwTr",
        "outputId": "22dc88e0-6a48-42b4-fd20-f44e070ec6cc"
      },
      "execution_count": null,
      "outputs": [
        {
          "output_type": "execute_result",
          "data": {
            "text/plain": [
              "tensor([[ 7,  8],\n",
              "        [ 9, 10]])"
            ]
          },
          "metadata": {},
          "execution_count": 123
        }
      ]
    },
    {
      "cell_type": "code",
      "source": [
        "MATRIX.ndim"
      ],
      "metadata": {
        "colab": {
          "base_uri": "https://localhost:8080/"
        },
        "id": "mnHZSoyzg4xz",
        "outputId": "a0a83aa7-288f-4fd6-fa27-6bdae5be7918"
      },
      "execution_count": null,
      "outputs": [
        {
          "output_type": "execute_result",
          "data": {
            "text/plain": [
              "2"
            ]
          },
          "metadata": {},
          "execution_count": 124
        }
      ]
    },
    {
      "cell_type": "code",
      "source": [
        "MATRIX[0]"
      ],
      "metadata": {
        "colab": {
          "base_uri": "https://localhost:8080/"
        },
        "id": "EUK0Fiiwg749",
        "outputId": "66fa2e55-a8ca-4818-ceea-77a1d51a3cd4"
      },
      "execution_count": null,
      "outputs": [
        {
          "output_type": "execute_result",
          "data": {
            "text/plain": [
              "tensor([7, 8])"
            ]
          },
          "metadata": {},
          "execution_count": 125
        }
      ]
    },
    {
      "cell_type": "code",
      "source": [
        "MATRIX[1]"
      ],
      "metadata": {
        "colab": {
          "base_uri": "https://localhost:8080/"
        },
        "id": "0PZBJIV9g-Vx",
        "outputId": "b876ba5b-54f8-496f-daa9-bbda8cd85e18"
      },
      "execution_count": null,
      "outputs": [
        {
          "output_type": "execute_result",
          "data": {
            "text/plain": [
              "tensor([ 9, 10])"
            ]
          },
          "metadata": {},
          "execution_count": 126
        }
      ]
    },
    {
      "cell_type": "code",
      "source": [
        "MATRIX.shape"
      ],
      "metadata": {
        "colab": {
          "base_uri": "https://localhost:8080/"
        },
        "id": "mUdlCwvKhAyT",
        "outputId": "0db6d5f5-0b2a-4a5a-bf25-b7795833161c"
      },
      "execution_count": null,
      "outputs": [
        {
          "output_type": "execute_result",
          "data": {
            "text/plain": [
              "torch.Size([2, 2])"
            ]
          },
          "metadata": {},
          "execution_count": 127
        }
      ]
    },
    {
      "cell_type": "code",
      "source": [
        "# TENSOR\n",
        "\n",
        "TENSOR = torch.tensor([\n",
        "    [\n",
        "        [1, 2, 3],\n",
        "        [3, 6, 9],\n",
        "        [2, 4, 5]\n",
        "    ]\n",
        "])\n",
        "TENSOR\n"
      ],
      "metadata": {
        "colab": {
          "base_uri": "https://localhost:8080/"
        },
        "id": "Ok5Pyei1hCdC",
        "outputId": "8b1a6858-e1b1-4ef7-fd38-3de76bd8edaa"
      },
      "execution_count": null,
      "outputs": [
        {
          "output_type": "execute_result",
          "data": {
            "text/plain": [
              "tensor([[[1, 2, 3],\n",
              "         [3, 6, 9],\n",
              "         [2, 4, 5]]])"
            ]
          },
          "metadata": {},
          "execution_count": 128
        }
      ]
    },
    {
      "cell_type": "code",
      "source": [
        "TENSOR.ndim"
      ],
      "metadata": {
        "colab": {
          "base_uri": "https://localhost:8080/"
        },
        "id": "ASqrkMUmhRyc",
        "outputId": "0e0873d1-698a-4156-fcf1-2af23050356c"
      },
      "execution_count": null,
      "outputs": [
        {
          "output_type": "execute_result",
          "data": {
            "text/plain": [
              "3"
            ]
          },
          "metadata": {},
          "execution_count": 129
        }
      ]
    },
    {
      "cell_type": "code",
      "source": [
        "TENSOR.shape"
      ],
      "metadata": {
        "colab": {
          "base_uri": "https://localhost:8080/"
        },
        "id": "vTjEIc7VhTe3",
        "outputId": "ada94eb0-d10c-4ea1-95bb-de8b7aef6623"
      },
      "execution_count": null,
      "outputs": [
        {
          "output_type": "execute_result",
          "data": {
            "text/plain": [
              "torch.Size([1, 3, 3])"
            ]
          },
          "metadata": {},
          "execution_count": 130
        }
      ]
    },
    {
      "cell_type": "code",
      "source": [
        "TENSOR[0]"
      ],
      "metadata": {
        "colab": {
          "base_uri": "https://localhost:8080/"
        },
        "id": "JPXTEYc-hfWW",
        "outputId": "57ddd61d-ff7d-44d7-bf4e-526b2272a432"
      },
      "execution_count": null,
      "outputs": [
        {
          "output_type": "execute_result",
          "data": {
            "text/plain": [
              "tensor([[1, 2, 3],\n",
              "        [3, 6, 9],\n",
              "        [2, 4, 5]])"
            ]
          },
          "metadata": {},
          "execution_count": 131
        }
      ]
    },
    {
      "cell_type": "code",
      "source": [
        "TENSOR2 = torch.tensor([\n",
        "    [\n",
        "        [1, 2, 3, 4],\n",
        "        [4, 5, 6, 7],\n",
        "        [1, 2, 3, 4],\n",
        "        [1, 1, 1, 1],\n",
        "        [1, 2, 1, 1]\n",
        "    ],\n",
        "    [\n",
        "        [1, 1, 1, 1],\n",
        "        [4, 5, 6, 7],\n",
        "        [1, 2, 3, 4],\n",
        "        [1, 1, 1, 1],\n",
        "        [1, 2, 1, 1]\n",
        "    ]\n",
        "])\n",
        "TENSOR2"
      ],
      "metadata": {
        "colab": {
          "base_uri": "https://localhost:8080/"
        },
        "id": "z-OZEeHOhxAG",
        "outputId": "595a1be1-0404-424a-a01b-8ab7c70192eb"
      },
      "execution_count": null,
      "outputs": [
        {
          "output_type": "execute_result",
          "data": {
            "text/plain": [
              "tensor([[[1, 2, 3, 4],\n",
              "         [4, 5, 6, 7],\n",
              "         [1, 2, 3, 4],\n",
              "         [1, 1, 1, 1],\n",
              "         [1, 2, 1, 1]],\n",
              "\n",
              "        [[1, 1, 1, 1],\n",
              "         [4, 5, 6, 7],\n",
              "         [1, 2, 3, 4],\n",
              "         [1, 1, 1, 1],\n",
              "         [1, 2, 1, 1]]])"
            ]
          },
          "metadata": {},
          "execution_count": 132
        }
      ]
    },
    {
      "cell_type": "code",
      "source": [
        "TENSOR2.ndim # should be 3"
      ],
      "metadata": {
        "colab": {
          "base_uri": "https://localhost:8080/"
        },
        "id": "p0iP0-X3h_V4",
        "outputId": "644ecbc0-9f28-4841-fff4-e5e10606a07a"
      },
      "execution_count": null,
      "outputs": [
        {
          "output_type": "execute_result",
          "data": {
            "text/plain": [
              "3"
            ]
          },
          "metadata": {},
          "execution_count": 133
        }
      ]
    },
    {
      "cell_type": "code",
      "source": [
        "TENSOR2.shape # should be .Size([2, 5, 4])"
      ],
      "metadata": {
        "colab": {
          "base_uri": "https://localhost:8080/"
        },
        "id": "8vEyhNyQiBd_",
        "outputId": "6802174b-4aa1-46c7-d031-6b215dc5b686"
      },
      "execution_count": null,
      "outputs": [
        {
          "output_type": "execute_result",
          "data": {
            "text/plain": [
              "torch.Size([2, 5, 4])"
            ]
          },
          "metadata": {},
          "execution_count": 134
        }
      ]
    },
    {
      "cell_type": "code",
      "source": [
        "### Random tensors\n",
        "random_tensor = torch.rand(3, 4)\n",
        "random_tensor"
      ],
      "metadata": {
        "colab": {
          "base_uri": "https://localhost:8080/"
        },
        "id": "KJup9SSriij8",
        "outputId": "ccdaf126-109c-410a-fb70-affa3d71f323"
      },
      "execution_count": null,
      "outputs": [
        {
          "output_type": "execute_result",
          "data": {
            "text/plain": [
              "tensor([[0.3179, 0.0070, 0.7378, 0.8419],\n",
              "        [0.7696, 0.0768, 0.3819, 0.5286],\n",
              "        [0.8782, 0.9149, 0.6344, 0.2401]])"
            ]
          },
          "metadata": {},
          "execution_count": 135
        }
      ]
    },
    {
      "cell_type": "code",
      "source": [
        "random_tensor_2 = torch.rand(1)\n",
        "random_tensor_2"
      ],
      "metadata": {
        "colab": {
          "base_uri": "https://localhost:8080/"
        },
        "id": "zihHmx5ajC6W",
        "outputId": "db3a6f26-2caf-45cd-f2f4-f592f0e921d0"
      },
      "execution_count": null,
      "outputs": [
        {
          "output_type": "execute_result",
          "data": {
            "text/plain": [
              "tensor([0.6010])"
            ]
          },
          "metadata": {},
          "execution_count": 136
        }
      ]
    },
    {
      "cell_type": "code",
      "source": [
        "random_vector = torch.rand(2)\n",
        "random_vector"
      ],
      "metadata": {
        "colab": {
          "base_uri": "https://localhost:8080/"
        },
        "id": "XswNHNb4jNA2",
        "outputId": "03e35e49-b7e3-4567-8302-01615bcac3dc"
      },
      "execution_count": null,
      "outputs": [
        {
          "output_type": "execute_result",
          "data": {
            "text/plain": [
              "tensor([0.9059, 0.6538])"
            ]
          },
          "metadata": {},
          "execution_count": 137
        }
      ]
    },
    {
      "cell_type": "code",
      "source": [
        "random_scalar = torch.rand(1) # this is actually a 1 dimensional vector\n",
        "random_scalar\n",
        "random_scalar.ndim"
      ],
      "metadata": {
        "colab": {
          "base_uri": "https://localhost:8080/"
        },
        "id": "mjvhZC1fjPXy",
        "outputId": "01bbe2cf-8f42-418b-84a6-471a12e93846"
      },
      "execution_count": null,
      "outputs": [
        {
          "output_type": "execute_result",
          "data": {
            "text/plain": [
              "1"
            ]
          },
          "metadata": {},
          "execution_count": 138
        }
      ]
    },
    {
      "cell_type": "code",
      "source": [
        "my_scalar = torch.tensor(7)\n",
        "my_scalar\n",
        "my_scalar.ndim"
      ],
      "metadata": {
        "colab": {
          "base_uri": "https://localhost:8080/"
        },
        "id": "j_bEI-JxjT1e",
        "outputId": "edd2b072-4b2d-40f4-c955-e526433b3bb2"
      },
      "execution_count": null,
      "outputs": [
        {
          "output_type": "execute_result",
          "data": {
            "text/plain": [
              "0"
            ]
          },
          "metadata": {},
          "execution_count": 139
        }
      ]
    },
    {
      "cell_type": "code",
      "source": [
        "# Create a random tensor similar to shape to an image tensor\n",
        "\n",
        "random_image_size_tensor = torch.rand(size=(224, 224, 3)) # height, width, coloru channels (R, G, B)\n",
        "random_image_size_tensor.shape, random_image_size_tensor.ndim"
      ],
      "metadata": {
        "colab": {
          "base_uri": "https://localhost:8080/"
        },
        "id": "bwdNbKQpj5sU",
        "outputId": "a72deaf1-03a5-49e7-a21b-38565f8f75e9"
      },
      "execution_count": null,
      "outputs": [
        {
          "output_type": "execute_result",
          "data": {
            "text/plain": [
              "(torch.Size([224, 224, 3]), 3)"
            ]
          },
          "metadata": {},
          "execution_count": 140
        }
      ]
    },
    {
      "cell_type": "code",
      "source": [
        "t = torch.rand(224, 224, 3)\n",
        "t"
      ],
      "metadata": {
        "colab": {
          "base_uri": "https://localhost:8080/"
        },
        "id": "191DIqu_kXJ-",
        "outputId": "aac06326-699b-4339-8b6d-0db95a125cc9"
      },
      "execution_count": null,
      "outputs": [
        {
          "output_type": "execute_result",
          "data": {
            "text/plain": [
              "tensor([[[0.1368, 0.4523, 0.8685],\n",
              "         [0.8596, 0.4415, 0.7058],\n",
              "         [0.2141, 0.5340, 0.8030],\n",
              "         ...,\n",
              "         [0.0423, 0.4318, 0.7102],\n",
              "         [0.1994, 0.6585, 0.5402],\n",
              "         [0.6936, 0.9028, 0.5763]],\n",
              "\n",
              "        [[0.3213, 0.6927, 0.5044],\n",
              "         [0.0020, 0.5963, 0.1171],\n",
              "         [0.7135, 0.5771, 0.9722],\n",
              "         ...,\n",
              "         [0.5225, 0.0561, 0.5779],\n",
              "         [0.7006, 0.9501, 0.2556],\n",
              "         [0.2219, 0.5447, 0.8222]],\n",
              "\n",
              "        [[0.3703, 0.0096, 0.9933],\n",
              "         [0.2413, 0.6911, 0.0214],\n",
              "         [0.3571, 0.6142, 0.1642],\n",
              "         ...,\n",
              "         [0.6358, 0.5184, 0.8617],\n",
              "         [0.4968, 0.6325, 0.1496],\n",
              "         [0.9007, 0.2664, 0.4895]],\n",
              "\n",
              "        ...,\n",
              "\n",
              "        [[0.4972, 0.6983, 0.8094],\n",
              "         [0.6650, 0.0285, 0.0449],\n",
              "         [0.0430, 0.1778, 0.4163],\n",
              "         ...,\n",
              "         [0.0146, 0.2477, 0.9435],\n",
              "         [0.9830, 0.5150, 0.9469],\n",
              "         [0.8462, 0.6597, 0.1837]],\n",
              "\n",
              "        [[0.7328, 0.9187, 0.4656],\n",
              "         [0.4692, 0.8295, 0.0168],\n",
              "         [0.6823, 0.0981, 0.1105],\n",
              "         ...,\n",
              "         [0.5796, 0.0685, 0.1783],\n",
              "         [0.2060, 0.2774, 0.9330],\n",
              "         [0.1435, 0.5285, 0.1521]],\n",
              "\n",
              "        [[0.0988, 0.7122, 0.3904],\n",
              "         [0.5353, 0.8359, 0.8117],\n",
              "         [0.1612, 0.2921, 0.3715],\n",
              "         ...,\n",
              "         [0.8516, 0.6915, 0.5962],\n",
              "         [0.8857, 0.3212, 0.0781],\n",
              "         [0.1967, 0.1722, 0.4470]]])"
            ]
          },
          "metadata": {},
          "execution_count": 141
        }
      ]
    },
    {
      "cell_type": "code",
      "source": [
        "t1 = torch.rand(2, 2, 2)\n",
        "t1"
      ],
      "metadata": {
        "colab": {
          "base_uri": "https://localhost:8080/"
        },
        "id": "KCjItroikkss",
        "outputId": "f18275a1-d44b-4490-8e9c-d7985b49fb16"
      },
      "execution_count": null,
      "outputs": [
        {
          "output_type": "execute_result",
          "data": {
            "text/plain": [
              "tensor([[[0.3208, 0.7275],\n",
              "         [0.4999, 0.3771]],\n",
              "\n",
              "        [[0.6824, 0.1426],\n",
              "         [0.1354, 0.9685]]])"
            ]
          },
          "metadata": {},
          "execution_count": 142
        }
      ]
    },
    {
      "cell_type": "code",
      "source": [
        "zeroes_tensor = torch.zeros(3, 4)\n",
        "zeroes_tensor"
      ],
      "metadata": {
        "colab": {
          "base_uri": "https://localhost:8080/"
        },
        "id": "yglsmSDvk3Kh",
        "outputId": "148efdb4-89d9-43bf-9de4-afacc52b0c27"
      },
      "execution_count": null,
      "outputs": [
        {
          "output_type": "execute_result",
          "data": {
            "text/plain": [
              "tensor([[0., 0., 0., 0.],\n",
              "        [0., 0., 0., 0.],\n",
              "        [0., 0., 0., 0.]])"
            ]
          },
          "metadata": {},
          "execution_count": 143
        }
      ]
    },
    {
      "cell_type": "code",
      "source": [
        "ones_tensor = torch.ones(3, 4)\n",
        "ones_tensor\n",
        "ones_tensor.dtype"
      ],
      "metadata": {
        "colab": {
          "base_uri": "https://localhost:8080/"
        },
        "id": "GjBwjKyVlKuT",
        "outputId": "66f9ff3e-9308-47e2-bf49-4e1cc327a201"
      },
      "execution_count": null,
      "outputs": [
        {
          "output_type": "execute_result",
          "data": {
            "text/plain": [
              "torch.float32"
            ]
          },
          "metadata": {},
          "execution_count": 144
        }
      ]
    },
    {
      "cell_type": "code",
      "source": [
        "# range of tensors\n",
        "\n",
        "range_tensor = torch.arange(start=0, end=10, step=1)\n",
        "range_tensor"
      ],
      "metadata": {
        "colab": {
          "base_uri": "https://localhost:8080/"
        },
        "id": "qW4L4dpZlb-6",
        "outputId": "afc9d477-5026-45a0-8f91-7c24dff4fe6b"
      },
      "execution_count": null,
      "outputs": [
        {
          "output_type": "execute_result",
          "data": {
            "text/plain": [
              "tensor([0, 1, 2, 3, 4, 5, 6, 7, 8, 9])"
            ]
          },
          "metadata": {},
          "execution_count": 145
        }
      ]
    },
    {
      "cell_type": "code",
      "source": [
        "# tensors like\n",
        "ten_zeroes = torch.zeros_like(input=range_tensor)\n",
        "ten_zeroes\n",
        "\n",
        "# We get the shape of `range_tensor` and use `zeros_like` whcih returns a tensor of zeroes using the sahpe of `range_tensor`"
      ],
      "metadata": {
        "colab": {
          "base_uri": "https://localhost:8080/"
        },
        "id": "NvOlPHlrl3z4",
        "outputId": "4a6ad3e0-acbd-45a7-97e6-048ae06d6c96"
      },
      "execution_count": null,
      "outputs": [
        {
          "output_type": "execute_result",
          "data": {
            "text/plain": [
              "tensor([0, 0, 0, 0, 0, 0, 0, 0, 0, 0])"
            ]
          },
          "metadata": {},
          "execution_count": 146
        }
      ]
    },
    {
      "cell_type": "code",
      "source": [
        "one_to_idk = torch.arange(start=0, end=1001,step=33)\n",
        "one_to_idk"
      ],
      "metadata": {
        "colab": {
          "base_uri": "https://localhost:8080/"
        },
        "id": "Sh-VbbRtmZ7-",
        "outputId": "d9113fc3-a705-4260-eaf8-041a88eb9f9c"
      },
      "execution_count": null,
      "outputs": [
        {
          "output_type": "execute_result",
          "data": {
            "text/plain": [
              "tensor([  0,  33,  66,  99, 132, 165, 198, 231, 264, 297, 330, 363, 396, 429,\n",
              "        462, 495, 528, 561, 594, 627, 660, 693, 726, 759, 792, 825, 858, 891,\n",
              "        924, 957, 990])"
            ]
          },
          "metadata": {},
          "execution_count": 147
        }
      ]
    },
    {
      "cell_type": "code",
      "source": [
        "zeroes = torch.zeros_like(input=one_to_idk)\n",
        "zeroes"
      ],
      "metadata": {
        "colab": {
          "base_uri": "https://localhost:8080/"
        },
        "id": "CtHxFBK5mfNj",
        "outputId": "3d4954e6-74b8-4b72-c007-7b556221c56a"
      },
      "execution_count": null,
      "outputs": [
        {
          "output_type": "execute_result",
          "data": {
            "text/plain": [
              "tensor([0, 0, 0, 0, 0, 0, 0, 0, 0, 0, 0, 0, 0, 0, 0, 0, 0, 0, 0, 0, 0, 0, 0, 0,\n",
              "        0, 0, 0, 0, 0, 0, 0])"
            ]
          },
          "metadata": {},
          "execution_count": 148
        }
      ]
    },
    {
      "cell_type": "code",
      "source": [
        "# tensor Data types\n",
        "\n",
        "# Flaot 32 tensor\n",
        "\n",
        "float_32_tensor = torch.tensor([3.0, 6.0, 9.0],\n",
        "                               dtype=None, # type (e.g. torch.float16 or torch.float32)\n",
        "                               device=None, #\n",
        "                               requires_grad=False)\n",
        "float_32_tensor"
      ],
      "metadata": {
        "colab": {
          "base_uri": "https://localhost:8080/"
        },
        "id": "Nw_62aS_mj46",
        "outputId": "e2d67f48-3b4d-4881-e0c4-80d2982b19a3"
      },
      "execution_count": null,
      "outputs": [
        {
          "output_type": "execute_result",
          "data": {
            "text/plain": [
              "tensor([3., 6., 9.])"
            ]
          },
          "metadata": {},
          "execution_count": 149
        }
      ]
    },
    {
      "cell_type": "code",
      "source": [
        "float_32_tensor.dtype"
      ],
      "metadata": {
        "colab": {
          "base_uri": "https://localhost:8080/"
        },
        "id": "BStlknekmrAz",
        "outputId": "4fbbbc0c-50a8-454d-bbec-a23752480075"
      },
      "execution_count": null,
      "outputs": [
        {
          "output_type": "execute_result",
          "data": {
            "text/plain": [
              "torch.float32"
            ]
          },
          "metadata": {},
          "execution_count": 150
        }
      ]
    },
    {
      "cell_type": "code",
      "source": [
        "# Converting the float_32_tensor into a torch.float16\n",
        "float_16_tensor = float_32_tensor.type(torch.float16)\n",
        "float_16_tensor"
      ],
      "metadata": {
        "colab": {
          "base_uri": "https://localhost:8080/"
        },
        "id": "IG3XC4Emnwlg",
        "outputId": "328f774a-e168-4aa3-aadc-83a7c5be282c"
      },
      "execution_count": null,
      "outputs": [
        {
          "output_type": "execute_result",
          "data": {
            "text/plain": [
              "tensor([3., 6., 9.], dtype=torch.float16)"
            ]
          },
          "metadata": {},
          "execution_count": 151
        }
      ]
    },
    {
      "cell_type": "code",
      "source": [
        "float_16_tensor * float_32_tensor\n",
        "\n",
        "int_1_tensor = float_16_tensor.type(torch.int64)\n",
        "int_2_tensor = float_32_tensor.type(torch.int64)\n",
        "\n",
        "int_1_tensor * int_2_tensor"
      ],
      "metadata": {
        "colab": {
          "base_uri": "https://localhost:8080/"
        },
        "id": "WhUJFMVooBOu",
        "outputId": "b1f08c3a-be47-422b-af88-83a3363b275f"
      },
      "execution_count": null,
      "outputs": [
        {
          "output_type": "execute_result",
          "data": {
            "text/plain": [
              "tensor([ 9, 36, 81])"
            ]
          },
          "metadata": {},
          "execution_count": 152
        }
      ]
    },
    {
      "cell_type": "code",
      "source": [
        "int_32_tensor = torch.tensor([3, 6, 9], dtype=torch.int32)\n",
        "int_32_tensor"
      ],
      "metadata": {
        "colab": {
          "base_uri": "https://localhost:8080/"
        },
        "id": "G9fkyxI_39hl",
        "outputId": "106000f8-943c-4524-c30e-dfc0b8c7fd61"
      },
      "execution_count": null,
      "outputs": [
        {
          "output_type": "execute_result",
          "data": {
            "text/plain": [
              "tensor([3, 6, 9], dtype=torch.int32)"
            ]
          },
          "metadata": {},
          "execution_count": 153
        }
      ]
    },
    {
      "cell_type": "code",
      "source": [
        "float_32_tensor * int_32_tensor"
      ],
      "metadata": {
        "colab": {
          "base_uri": "https://localhost:8080/"
        },
        "id": "QoAH9Byc4Jh9",
        "outputId": "15405eb2-db61-4c69-d534-d73fa35eef88"
      },
      "execution_count": null,
      "outputs": [
        {
          "output_type": "execute_result",
          "data": {
            "text/plain": [
              "tensor([ 9., 36., 81.])"
            ]
          },
          "metadata": {},
          "execution_count": 154
        }
      ]
    },
    {
      "cell_type": "code",
      "source": [
        "float_32_tensor"
      ],
      "metadata": {
        "colab": {
          "base_uri": "https://localhost:8080/"
        },
        "id": "PaXH9Wpe4XXv",
        "outputId": "e62a2694-7286-45d2-a348-853cbd8054ce"
      },
      "execution_count": null,
      "outputs": [
        {
          "output_type": "execute_result",
          "data": {
            "text/plain": [
              "tensor([3., 6., 9.])"
            ]
          },
          "metadata": {},
          "execution_count": 155
        }
      ]
    },
    {
      "cell_type": "code",
      "source": [
        "## Getting information from tensors\n",
        "\n",
        "## data type == tensor.dtype\n",
        "## shape == tensor.shape\n",
        "## device = tensor.device"
      ],
      "metadata": {
        "id": "diaoQCR14aX8"
      },
      "execution_count": null,
      "outputs": []
    },
    {
      "cell_type": "code",
      "source": [
        "# Create a tensoor\n",
        "some_tensor = torch.rand(3, 4)\n",
        "some_tensor"
      ],
      "metadata": {
        "colab": {
          "base_uri": "https://localhost:8080/"
        },
        "id": "P8f78pHw4hg0",
        "outputId": "f8af1e11-7a33-4834-fea9-2976335f679d"
      },
      "execution_count": null,
      "outputs": [
        {
          "output_type": "execute_result",
          "data": {
            "text/plain": [
              "tensor([[0.7723, 0.7815, 0.9919, 0.8126],\n",
              "        [0.0839, 0.7773, 0.1102, 0.7309],\n",
              "        [0.8221, 0.0511, 0.5325, 0.9918]])"
            ]
          },
          "metadata": {},
          "execution_count": 157
        }
      ]
    },
    {
      "cell_type": "code",
      "source": [
        "print(some_tensor)\n",
        "print(f\"Data Type of tensor: {some_tensor.dtype}\")\n",
        "print(f\"Shape of tensor: {some_tensor.shape}\")\n",
        "print(f\"Device of tensor: {some_tensor.device}\")"
      ],
      "metadata": {
        "colab": {
          "base_uri": "https://localhost:8080/"
        },
        "id": "FwSl3Mmj4mHB",
        "outputId": "532185ba-f195-414d-b5e2-384b02d32852"
      },
      "execution_count": null,
      "outputs": [
        {
          "output_type": "stream",
          "name": "stdout",
          "text": [
            "tensor([[0.7723, 0.7815, 0.9919, 0.8126],\n",
            "        [0.0839, 0.7773, 0.1102, 0.7309],\n",
            "        [0.8221, 0.0511, 0.5325, 0.9918]])\n",
            "Data Type of tensor: torch.float32\n",
            "Shape of tensor: torch.Size([3, 4])\n",
            "Device of tensor: cpu\n"
          ]
        }
      ]
    },
    {
      "cell_type": "markdown",
      "source": [
        "### Manipulating tensors (operations)\n",
        "\n",
        "Tensor operations:\n",
        "* Addition\n",
        "* subtraction\n",
        "* Multiplication (element-wise)\n",
        "* Divison\n",
        "* Matrix multiplication"
      ],
      "metadata": {
        "id": "wBBeyXFC5JN9"
      }
    },
    {
      "cell_type": "code",
      "source": [
        "# Create a tensor\n",
        "tensor = torch.tensor([1, 2, 3])\n",
        "\n",
        "# Add 10 to it\n",
        "tensor + 100"
      ],
      "metadata": {
        "colab": {
          "base_uri": "https://localhost:8080/"
        },
        "id": "59TCjWDU5Pfx",
        "outputId": "6ae69443-b1a5-429a-f803-d618ee3224fe"
      },
      "execution_count": null,
      "outputs": [
        {
          "output_type": "execute_result",
          "data": {
            "text/plain": [
              "tensor([101, 102, 103])"
            ]
          },
          "metadata": {},
          "execution_count": 159
        }
      ]
    },
    {
      "cell_type": "code",
      "source": [
        "# Multiply by 10\n",
        "tensor * 10"
      ],
      "metadata": {
        "colab": {
          "base_uri": "https://localhost:8080/"
        },
        "id": "zq-ISauU5dAS",
        "outputId": "3b251f64-82bb-4b39-c059-7d6210eb37d6"
      },
      "execution_count": null,
      "outputs": [
        {
          "output_type": "execute_result",
          "data": {
            "text/plain": [
              "tensor([10, 20, 30])"
            ]
          },
          "metadata": {},
          "execution_count": 160
        }
      ]
    },
    {
      "cell_type": "code",
      "source": [
        "# Subtract 10\n",
        "tensor - 10"
      ],
      "metadata": {
        "colab": {
          "base_uri": "https://localhost:8080/"
        },
        "id": "FMjG7kV95iqt",
        "outputId": "774b1055-8ba1-4d44-c071-41c5a82e80e9"
      },
      "execution_count": null,
      "outputs": [
        {
          "output_type": "execute_result",
          "data": {
            "text/plain": [
              "tensor([-9, -8, -7])"
            ]
          },
          "metadata": {},
          "execution_count": 161
        }
      ]
    },
    {
      "cell_type": "code",
      "source": [
        "# Try out pytorch in-built functions\n",
        "torch.mul(tensor, 10)"
      ],
      "metadata": {
        "colab": {
          "base_uri": "https://localhost:8080/"
        },
        "id": "vxd7bWtF5kvt",
        "outputId": "4a73a11d-8fdc-4ab1-cc90-c539309c98c7"
      },
      "execution_count": null,
      "outputs": [
        {
          "output_type": "execute_result",
          "data": {
            "text/plain": [
              "tensor([10, 20, 30])"
            ]
          },
          "metadata": {},
          "execution_count": 162
        }
      ]
    },
    {
      "cell_type": "code",
      "source": [
        "tensor = torch.zeros(size=[1, 2, 3])\n",
        "tensor"
      ],
      "metadata": {
        "colab": {
          "base_uri": "https://localhost:8080/"
        },
        "id": "0zp4pQ-w5tNo",
        "outputId": "b0cab669-2836-4708-d30a-416c85aa02e3"
      },
      "execution_count": null,
      "outputs": [
        {
          "output_type": "execute_result",
          "data": {
            "text/plain": [
              "tensor([[[0., 0., 0.],\n",
              "         [0., 0., 0.]]])"
            ]
          },
          "metadata": {},
          "execution_count": 163
        }
      ]
    },
    {
      "cell_type": "code",
      "source": [
        "tensor = torch.tensor([1, 2, 3])\n",
        "tensor"
      ],
      "metadata": {
        "colab": {
          "base_uri": "https://localhost:8080/"
        },
        "id": "b-eNvWzS6A_O",
        "outputId": "340a4d89-6bb3-4ab4-abfe-1998889492f3"
      },
      "execution_count": null,
      "outputs": [
        {
          "output_type": "execute_result",
          "data": {
            "text/plain": [
              "tensor([1, 2, 3])"
            ]
          },
          "metadata": {},
          "execution_count": 164
        }
      ]
    },
    {
      "cell_type": "code",
      "source": [
        "tensor.ndim"
      ],
      "metadata": {
        "colab": {
          "base_uri": "https://localhost:8080/"
        },
        "id": "ZAi0ZhbD6FNB",
        "outputId": "fbd7d6df-d691-4181-c8c2-8ae29f2fa547"
      },
      "execution_count": null,
      "outputs": [
        {
          "output_type": "execute_result",
          "data": {
            "text/plain": [
              "1"
            ]
          },
          "metadata": {},
          "execution_count": 165
        }
      ]
    },
    {
      "cell_type": "code",
      "source": [
        "### Matrix Multiplication\n",
        "\n",
        "#### 1. Element-wise multiplication\n",
        "2 * tensor\n",
        "\n"
      ],
      "metadata": {
        "colab": {
          "base_uri": "https://localhost:8080/"
        },
        "id": "0jYUieUN6SKz",
        "outputId": "6ec1254c-0de1-4ddb-8ca7-02448617646d"
      },
      "execution_count": null,
      "outputs": [
        {
          "output_type": "execute_result",
          "data": {
            "text/plain": [
              "tensor([2, 4, 6])"
            ]
          },
          "metadata": {},
          "execution_count": 166
        }
      ]
    },
    {
      "cell_type": "code",
      "source": [
        "\n",
        "print(tensor, \"*\", tensor)\n",
        "print(tensor*tensor)"
      ],
      "metadata": {
        "colab": {
          "base_uri": "https://localhost:8080/"
        },
        "id": "jRzkMCW76zSv",
        "outputId": "70057136-5eb9-4ebf-8f45-06e8c9432190"
      },
      "execution_count": null,
      "outputs": [
        {
          "output_type": "stream",
          "name": "stdout",
          "text": [
            "tensor([1, 2, 3]) * tensor([1, 2, 3])\n",
            "tensor([1, 4, 9])\n"
          ]
        }
      ]
    },
    {
      "cell_type": "code",
      "source": [
        "#### 2. element-wise multiplication\n",
        "\n",
        "#### (a dot b)\n",
        "torch.matmul(tensor, tensor) # 1 + 4 + 9 = 14"
      ],
      "metadata": {
        "colab": {
          "base_uri": "https://localhost:8080/"
        },
        "id": "sdU8vt4E6b7t",
        "outputId": "dab5d767-987a-4c2f-efba-cd05dc76f070"
      },
      "execution_count": null,
      "outputs": [
        {
          "output_type": "execute_result",
          "data": {
            "text/plain": [
              "tensor(14)"
            ]
          },
          "metadata": {},
          "execution_count": 168
        }
      ]
    },
    {
      "cell_type": "code",
      "source": [
        "## Rules of Matirx Multiplication\n",
        "\n",
        "### 1. Inner Dimensions must match\n",
        "\n",
        "### 2. Resulting matrix has the shape of the outer dimensions\n",
        "\n",
        "### (2, 3) @ (3, 2) --> (2, 2)\n",
        "### (3, 2) @ (3, 2) ---> error cause inner dimensions don't match\n",
        "### (3, 2) @ (2, 3) --> (3, 3)\n",
        "### (2, 10) @ (10, 2) --> (10, 10)"
      ],
      "metadata": {
        "id": "aGYcr2e18hZ-"
      },
      "execution_count": null,
      "outputs": []
    },
    {
      "cell_type": "code",
      "source": [
        "torch.matmul(torch.rand(size=[3, 2]), torch.rand(size=[2, 3]))"
      ],
      "metadata": {
        "colab": {
          "base_uri": "https://localhost:8080/"
        },
        "id": "teQ7TPb18xaQ",
        "outputId": "68952bc4-aeb4-4951-88ca-4961470268d0"
      },
      "execution_count": null,
      "outputs": [
        {
          "output_type": "execute_result",
          "data": {
            "text/plain": [
              "tensor([[0.5248, 0.4191, 0.1123],\n",
              "        [0.3015, 0.2465, 0.0638],\n",
              "        [0.7497, 0.5471, 0.1671]])"
            ]
          },
          "metadata": {},
          "execution_count": 170
        }
      ]
    },
    {
      "cell_type": "code",
      "source": [
        "tensor_A = torch.tensor([\n",
        "    [1, 2],\n",
        "    [3, 4],\n",
        "    [5, 6]\n",
        "])\n",
        "\n",
        "tensor_B = torch.tensor([\n",
        "    [7, 10],\n",
        "    [8, 11],\n",
        "    [9, 12]\n",
        "])\n",
        "\n",
        "tensor_B.T.shape\n",
        "\n",
        "# torch.mm(tensor_A, tensor_B) # torch.mm is the same as torch.matmul"
      ],
      "metadata": {
        "colab": {
          "base_uri": "https://localhost:8080/"
        },
        "id": "bLWdAlgWTCtQ",
        "outputId": "d5251ea4-fcb3-49d0-8f2b-f2b6fe7a21f4"
      },
      "execution_count": null,
      "outputs": [
        {
          "output_type": "execute_result",
          "data": {
            "text/plain": [
              "torch.Size([2, 3])"
            ]
          },
          "metadata": {},
          "execution_count": 171
        }
      ]
    },
    {
      "cell_type": "code",
      "source": [
        "torch.mm(tensor_A, tensor_B.T)"
      ],
      "metadata": {
        "colab": {
          "base_uri": "https://localhost:8080/"
        },
        "id": "yOq3SlRkUL-k",
        "outputId": "3f53183a-bf54-4a72-84ff-aeb5ea17b42b"
      },
      "execution_count": null,
      "outputs": [
        {
          "output_type": "execute_result",
          "data": {
            "text/plain": [
              "tensor([[ 27,  30,  33],\n",
              "        [ 61,  68,  75],\n",
              "        [ 95, 106, 117]])"
            ]
          },
          "metadata": {},
          "execution_count": 172
        }
      ]
    },
    {
      "cell_type": "code",
      "source": [
        "x = torch.arange(0, 100, 10)\n",
        "x"
      ],
      "metadata": {
        "colab": {
          "base_uri": "https://localhost:8080/"
        },
        "id": "oz7d9mf0WAag",
        "outputId": "951cbe7c-c2fe-46f3-f45c-5b4620ee1786"
      },
      "execution_count": null,
      "outputs": [
        {
          "output_type": "execute_result",
          "data": {
            "text/plain": [
              "tensor([ 0, 10, 20, 30, 40, 50, 60, 70, 80, 90])"
            ]
          },
          "metadata": {},
          "execution_count": 173
        }
      ]
    },
    {
      "cell_type": "code",
      "source": [
        "torch.min(x)"
      ],
      "metadata": {
        "colab": {
          "base_uri": "https://localhost:8080/"
        },
        "id": "XYQlzxxFWFZ3",
        "outputId": "72cb590c-562f-4ac9-e7e3-223ea2e4a899"
      },
      "execution_count": null,
      "outputs": [
        {
          "output_type": "execute_result",
          "data": {
            "text/plain": [
              "tensor(0)"
            ]
          },
          "metadata": {},
          "execution_count": 174
        }
      ]
    },
    {
      "cell_type": "code",
      "source": [
        "x.min()"
      ],
      "metadata": {
        "colab": {
          "base_uri": "https://localhost:8080/"
        },
        "id": "m5UX_9XGWG5u",
        "outputId": "96350147-1495-4882-9ea9-68e2e9fd8c76"
      },
      "execution_count": null,
      "outputs": [
        {
          "output_type": "execute_result",
          "data": {
            "text/plain": [
              "tensor(0)"
            ]
          },
          "metadata": {},
          "execution_count": 175
        }
      ]
    },
    {
      "cell_type": "code",
      "source": [
        "torch.max(x) == x.max()"
      ],
      "metadata": {
        "colab": {
          "base_uri": "https://localhost:8080/"
        },
        "id": "a21JYETDWJLh",
        "outputId": "809569dc-e1ea-48ce-8eb4-9ccbe32792fd"
      },
      "execution_count": null,
      "outputs": [
        {
          "output_type": "execute_result",
          "data": {
            "text/plain": [
              "tensor(True)"
            ]
          },
          "metadata": {},
          "execution_count": 176
        }
      ]
    },
    {
      "cell_type": "code",
      "source": [
        "torch.mean(x.type(torch.float32))"
      ],
      "metadata": {
        "colab": {
          "base_uri": "https://localhost:8080/"
        },
        "id": "PGMVIGHOWLiq",
        "outputId": "5b332cb4-de68-4806-f869-e85e1ff4e702"
      },
      "execution_count": null,
      "outputs": [
        {
          "output_type": "execute_result",
          "data": {
            "text/plain": [
              "tensor(45.)"
            ]
          },
          "metadata": {},
          "execution_count": 177
        }
      ]
    },
    {
      "cell_type": "code",
      "source": [
        "torch.mean(x, dtype=torch.float32)"
      ],
      "metadata": {
        "colab": {
          "base_uri": "https://localhost:8080/"
        },
        "id": "33tk86PpWeQY",
        "outputId": "25ecd263-84b6-46ca-80bb-71129e010289"
      },
      "execution_count": null,
      "outputs": [
        {
          "output_type": "execute_result",
          "data": {
            "text/plain": [
              "tensor(45.)"
            ]
          },
          "metadata": {},
          "execution_count": 178
        }
      ]
    },
    {
      "cell_type": "code",
      "source": [
        "x.type(torch.float32).mean()"
      ],
      "metadata": {
        "colab": {
          "base_uri": "https://localhost:8080/"
        },
        "id": "fInXAkmjWipf",
        "outputId": "fb951701-4ec4-4def-e923-e32223422f4a"
      },
      "execution_count": null,
      "outputs": [
        {
          "output_type": "execute_result",
          "data": {
            "text/plain": [
              "tensor(45.)"
            ]
          },
          "metadata": {},
          "execution_count": 179
        }
      ]
    },
    {
      "cell_type": "code",
      "source": [
        "## Finding positioal min and max\n",
        "\n",
        "x.argmin() # find that index 0 is the minimum value"
      ],
      "metadata": {
        "colab": {
          "base_uri": "https://localhost:8080/"
        },
        "id": "HButs_duWy4S",
        "outputId": "f22cad88-13ec-49bb-fa5a-a20049a2c6a3"
      },
      "execution_count": null,
      "outputs": [
        {
          "output_type": "execute_result",
          "data": {
            "text/plain": [
              "tensor(0)"
            ]
          },
          "metadata": {},
          "execution_count": 180
        }
      ]
    },
    {
      "cell_type": "code",
      "source": [
        "x[x.argmax()]"
      ],
      "metadata": {
        "colab": {
          "base_uri": "https://localhost:8080/"
        },
        "id": "1iPtq0ViW-KI",
        "outputId": "f62180c5-af4a-4c02-ab38-7beb8dddf90d"
      },
      "execution_count": null,
      "outputs": [
        {
          "output_type": "execute_result",
          "data": {
            "text/plain": [
              "tensor(90)"
            ]
          },
          "metadata": {},
          "execution_count": 115
        }
      ]
    },
    {
      "cell_type": "code",
      "source": [
        "x = torch.arange(1, 10, dtype=torch.float32)\n",
        "x, x.shape"
      ],
      "metadata": {
        "colab": {
          "base_uri": "https://localhost:8080/"
        },
        "id": "XQ0wFkMsZupQ",
        "outputId": "c1507e54-3596-403a-baa3-76e9626609b7"
      },
      "execution_count": null,
      "outputs": [
        {
          "output_type": "execute_result",
          "data": {
            "text/plain": [
              "(tensor([1., 2., 3., 4., 5., 6., 7., 8., 9.]), torch.Size([9]))"
            ]
          },
          "metadata": {},
          "execution_count": 182
        }
      ]
    },
    {
      "cell_type": "code",
      "source": [
        "x_reshaped = x.reshape(1, 9)\n",
        "x_reshaped"
      ],
      "metadata": {
        "colab": {
          "base_uri": "https://localhost:8080/"
        },
        "id": "csQ8PTCIZ3sX",
        "outputId": "2aaf4f74-c276-4d70-9026-52f272c9e43a"
      },
      "execution_count": null,
      "outputs": [
        {
          "output_type": "execute_result",
          "data": {
            "text/plain": [
              "tensor([[1., 2., 3., 4., 5., 6., 7., 8., 9.]])"
            ]
          },
          "metadata": {},
          "execution_count": 186
        }
      ]
    },
    {
      "cell_type": "code",
      "source": [
        "my_tensor = torch.tensor([[1, 2, 3]])\n",
        "\n",
        "my_tensor.shape\n",
        "\n",
        "# now convert it to [3]\n",
        "\n",
        "my_tensor.reshape(3)"
      ],
      "metadata": {
        "colab": {
          "base_uri": "https://localhost:8080/"
        },
        "id": "gv9dd0jta980",
        "outputId": "c425d25e-d674-4765-d7f0-276ff84b8564"
      },
      "execution_count": null,
      "outputs": [
        {
          "output_type": "execute_result",
          "data": {
            "text/plain": [
              "tensor([1, 2, 3])"
            ]
          },
          "metadata": {},
          "execution_count": 190
        }
      ]
    },
    {
      "cell_type": "code",
      "source": [
        "z = x.view(1, 9)\n",
        "x, z, z.shape"
      ],
      "metadata": {
        "colab": {
          "base_uri": "https://localhost:8080/"
        },
        "id": "6pWrJEtXbgFp",
        "outputId": "714ea3b6-ddfc-43c0-9cf5-1a4fc3d75165"
      },
      "execution_count": null,
      "outputs": [
        {
          "output_type": "execute_result",
          "data": {
            "text/plain": [
              "(tensor([1., 2., 3., 4., 5., 6., 7., 8., 9.]),\n",
              " tensor([[1., 2., 3., 4., 5., 6., 7., 8., 9.]]),\n",
              " torch.Size([1, 9]))"
            ]
          },
          "metadata": {},
          "execution_count": 192
        }
      ]
    },
    {
      "cell_type": "code",
      "source": [
        "x = torch.tensor([[1, 2, 3]])\n",
        "z = x.view(3)\n",
        "z[0] = 1000\n",
        "\n",
        "print(x) # tensor([[1000, 2, 3]])\n",
        "print(z) # tensor([1000, 2, 3])"
      ],
      "metadata": {
        "colab": {
          "base_uri": "https://localhost:8080/"
        },
        "id": "cVm034V_b1As",
        "outputId": "af38c379-4281-46ce-8a64-6287d5b0edad"
      },
      "execution_count": null,
      "outputs": [
        {
          "output_type": "stream",
          "name": "stdout",
          "text": [
            "tensor([[1000,    2,    3]])\n",
            "tensor([1000,    2,    3])\n"
          ]
        }
      ]
    },
    {
      "cell_type": "code",
      "source": [
        "# Stack tensors on top of each other\n",
        "x_stacked = torch.stack([z, z, z, z], dim=0)\n",
        "x_stacked"
      ],
      "metadata": {
        "colab": {
          "base_uri": "https://localhost:8080/"
        },
        "id": "wbk2V3VAb41f",
        "outputId": "82007bcf-def8-41da-ddc8-e648d016c455"
      },
      "execution_count": null,
      "outputs": [
        {
          "output_type": "execute_result",
          "data": {
            "text/plain": [
              "tensor([[1000,    2,    3],\n",
              "        [1000,    2,    3],\n",
              "        [1000,    2,    3],\n",
              "        [1000,    2,    3]])"
            ]
          },
          "metadata": {},
          "execution_count": 198
        }
      ]
    },
    {
      "cell_type": "code",
      "source": [
        "# Squeeze\n",
        "## removes all single dimensions from a target tensor\n",
        "\n",
        "tensor1 = torch.tensor([[1, 2, 3]])\n",
        "print(f\"Unsqueezed tensor1: {tensor1}\")\n",
        "print(f\"Unsqueezed tensor1 shape: {tensor1.shape}\")\n",
        "print(f\"Squeezed tensor1: {tensor1.squeeze()}\")\n",
        "print(f\"Squeezed tensor1 shape: {tensor1.squeeze().shape}\")\n",
        "\n"
      ],
      "metadata": {
        "colab": {
          "base_uri": "https://localhost:8080/"
        },
        "id": "2sqZbO0Ac5Iv",
        "outputId": "a7da61d7-8dfe-49e3-8fda-b20b0553e0d3"
      },
      "execution_count": null,
      "outputs": [
        {
          "output_type": "stream",
          "name": "stdout",
          "text": [
            "Unsqueezed tensor1: tensor([[1, 2, 3]])\n",
            "Unsqueezed tensor1 shape: torch.Size([1, 3])\n",
            "Squeezed tensor1: tensor([1, 2, 3])\n",
            "Squeezed tensor1 shape: torch.Size([3])\n"
          ]
        }
      ]
    },
    {
      "cell_type": "code",
      "source": [
        "tensor1 = torch.tensor([1, 2, 3])\n",
        "print(f\"Tensor: {tensor1} - shape = {tensor1.shape}\")\n",
        "unsqueezed_tensor1 = tensor1.unsqueeze(dim=0)\n",
        "print(f\"Tensor unsqueezed at dim=0: {unsqueezed_tensor1} - shape = {unsqueezed_tensor1.shape}\")\n",
        "unsqueezed_tensor2 = unsqueezed_tensor1.unsqueeze(dim=2)\n",
        "print(f\"Tensor unsqueezed at dim=0: {unsqueezed_tensor2} - shape = {unsqueezed_tensor2.shape}\")"
      ],
      "metadata": {
        "colab": {
          "base_uri": "https://localhost:8080/"
        },
        "id": "MOFDcGyYeD9o",
        "outputId": "ef829c2a-ce32-4148-9c3b-7e06e9c8c995"
      },
      "execution_count": null,
      "outputs": [
        {
          "output_type": "stream",
          "name": "stdout",
          "text": [
            "Tensor: tensor([1, 2, 3]) - shape = torch.Size([3])\n",
            "Tensor unsqueezed at dim=0: tensor([[1, 2, 3]]) - shape = torch.Size([1, 3])\n",
            "Tensor unsqueezed at dim=0: tensor([[[1],\n",
            "         [2],\n",
            "         [3]]]) - shape = torch.Size([1, 3, 1])\n"
          ]
        }
      ]
    },
    {
      "cell_type": "code",
      "source": [
        "# torch.pernute rearranges dimensions\n",
        "\n",
        "tensor = torch.arange(0, 100)\n",
        "print(tensor.shape)\n",
        "new_tensor = tensor.reshape(2, 10, 5)\n",
        "print(new_tensor.shape)\n",
        "permuted = new_tensor.permute(2, 0, 1)\n",
        "print(permuted.shape)"
      ],
      "metadata": {
        "colab": {
          "base_uri": "https://localhost:8080/"
        },
        "id": "qUsVuqDniSt1",
        "outputId": "10e7de75-0f3a-4498-860f-bbc37cfeaa46"
      },
      "execution_count": null,
      "outputs": [
        {
          "output_type": "stream",
          "name": "stdout",
          "text": [
            "torch.Size([100])\n",
            "torch.Size([2, 10, 5])\n",
            "torch.Size([5, 2, 10])\n"
          ]
        }
      ]
    },
    {
      "cell_type": "code",
      "source": [
        "# Indexing\n",
        "\n",
        "tensor = torch.rand(1, 3, 3)\n",
        "tensor = tensor * 10\n",
        "tensor = tensor.type(torch.int64)\n",
        "tensor"
      ],
      "metadata": {
        "colab": {
          "base_uri": "https://localhost:8080/"
        },
        "id": "65ccCO4ymyni",
        "outputId": "1c5a6f9d-fa51-4b02-dad1-71da88b59136"
      },
      "execution_count": null,
      "outputs": [
        {
          "output_type": "execute_result",
          "data": {
            "text/plain": [
              "tensor([[[8, 7, 1],\n",
              "         [8, 5, 1],\n",
              "         [3, 7, 2]]])"
            ]
          },
          "metadata": {},
          "execution_count": 231
        }
      ]
    },
    {
      "cell_type": "code",
      "source": [
        "tensor = tensor.squeeze()\n",
        "tensor"
      ],
      "metadata": {
        "colab": {
          "base_uri": "https://localhost:8080/"
        },
        "id": "plTS3H_qnHw4",
        "outputId": "cf3bcaed-9822-4cf7-aa5e-5f98b227b408"
      },
      "execution_count": null,
      "outputs": [
        {
          "output_type": "execute_result",
          "data": {
            "text/plain": [
              "tensor([[8, 7, 1],\n",
              "        [8, 5, 1],\n",
              "        [3, 7, 2]])"
            ]
          },
          "metadata": {},
          "execution_count": 237
        }
      ]
    },
    {
      "cell_type": "code",
      "source": [
        "tensor[:, 1]"
      ],
      "metadata": {
        "colab": {
          "base_uri": "https://localhost:8080/"
        },
        "id": "mgdw0jnonZ9Y",
        "outputId": "432a464d-b5d6-4eae-df7a-1c7f927c922a"
      },
      "execution_count": null,
      "outputs": [
        {
          "output_type": "execute_result",
          "data": {
            "text/plain": [
              "tensor([7, 5, 7])"
            ]
          },
          "metadata": {},
          "execution_count": 239
        }
      ]
    },
    {
      "cell_type": "code",
      "source": [
        "# NumPy Array to Tensor\n",
        "\n",
        "array = np.arange(1.0, 8.0)\n",
        "array"
      ],
      "metadata": {
        "colab": {
          "base_uri": "https://localhost:8080/"
        },
        "id": "z2R-5l7xomMA",
        "outputId": "ac81a3df-38e0-4985-e14b-1668ebc41aaa"
      },
      "execution_count": null,
      "outputs": [
        {
          "output_type": "execute_result",
          "data": {
            "text/plain": [
              "array([1., 2., 3., 4., 5., 6., 7.])"
            ]
          },
          "metadata": {},
          "execution_count": 240
        }
      ]
    },
    {
      "cell_type": "code",
      "source": [
        "tensor = torch.from_numpy(array)\n",
        "array, tensor"
      ],
      "metadata": {
        "colab": {
          "base_uri": "https://localhost:8080/"
        },
        "id": "GwY_mb8poqbC",
        "outputId": "1bee71b3-9e79-4c10-fe92-20f3e9960500"
      },
      "execution_count": null,
      "outputs": [
        {
          "output_type": "execute_result",
          "data": {
            "text/plain": [
              "(array([1., 2., 3., 4., 5., 6., 7.]),\n",
              " tensor([1., 2., 3., 4., 5., 6., 7.], dtype=torch.float64))"
            ]
          },
          "metadata": {},
          "execution_count": 241
        }
      ]
    },
    {
      "cell_type": "code",
      "source": [
        "array = tensor.numpy()\n",
        "array"
      ],
      "metadata": {
        "colab": {
          "base_uri": "https://localhost:8080/"
        },
        "id": "62E7_Hs_pQEg",
        "outputId": "d8ab83ad-2b29-42f1-897a-d301205784a6"
      },
      "execution_count": null,
      "outputs": [
        {
          "output_type": "execute_result",
          "data": {
            "text/plain": [
              "array([1., 2., 3., 4., 5., 6., 7.])"
            ]
          },
          "metadata": {},
          "execution_count": 243
        }
      ]
    },
    {
      "cell_type": "code",
      "source": [
        "# controled RNG\n",
        "\n",
        "torch.manual_seed(42)\n",
        "tensor_1 = torch.rand(2, 2)\n",
        "print(tensor_1)\n",
        "\n",
        "torch.manual_seed(42)\n",
        "tensor_2 = torch.rand(2,2)\n",
        "print(tensor_2)\n",
        "\n",
        "print(tensor_1 == tensor_2)"
      ],
      "metadata": {
        "colab": {
          "base_uri": "https://localhost:8080/"
        },
        "id": "Y7DKMMPrrSCI",
        "outputId": "047cd9b8-f442-4084-a1c0-8c185edeee48"
      },
      "execution_count": null,
      "outputs": [
        {
          "output_type": "stream",
          "name": "stdout",
          "text": [
            "tensor([[0.8823, 0.9150],\n",
            "        [0.3829, 0.9593]])\n",
            "tensor([[0.8823, 0.9150],\n",
            "        [0.3829, 0.9593]])\n",
            "tensor([[True, True],\n",
            "        [True, True]])\n"
          ]
        }
      ]
    },
    {
      "cell_type": "code",
      "source": [
        "# GPUs = faster computation on hardware thanks to CUDA + NVIDIA + PyTorch working behind the scenes\n",
        "\n",
        "## Easiest - Use Google Colab (could use Pro for free GPU\n",
        "## Use Your Own GPU - takes a bit of setup and purchase GPU\n",
        "\n",
        "!nvidia-smi"
      ],
      "metadata": {
        "colab": {
          "base_uri": "https://localhost:8080/"
        },
        "id": "4rb65wc_rkqP",
        "outputId": "676177d4-8646-40a0-e778-6cef018b668a"
      },
      "execution_count": null,
      "outputs": [
        {
          "output_type": "stream",
          "name": "stdout",
          "text": [
            "/bin/bash: line 1: nvidia-smi: command not found\n"
          ]
        }
      ]
    },
    {
      "cell_type": "code",
      "source": [
        "# GPU access with PyTorch\n",
        "import torch\n",
        "torch.cuda.is_available()"
      ],
      "metadata": {
        "colab": {
          "base_uri": "https://localhost:8080/"
        },
        "id": "kVcVMfdnsjSo",
        "outputId": "7815eff7-34be-4ad0-f64c-850cf894de13"
      },
      "execution_count": null,
      "outputs": [
        {
          "output_type": "execute_result",
          "data": {
            "text/plain": [
              "True"
            ]
          },
          "metadata": {},
          "execution_count": 1
        }
      ]
    },
    {
      "cell_type": "code",
      "source": [
        "device = \"cuda\" if torch.cuda.is_available() else \"cpu\"\n",
        "print(torch.cuda.device_count)"
      ],
      "metadata": {
        "colab": {
          "base_uri": "https://localhost:8080/"
        },
        "id": "chDGHFB3sz5l",
        "outputId": "57f8d6fb-e4bf-4edf-a18a-ebe0bcb688e5"
      },
      "execution_count": null,
      "outputs": [
        {
          "output_type": "stream",
          "name": "stdout",
          "text": [
            "<function device_count at 0x788b81b7be20>\n"
          ]
        }
      ]
    },
    {
      "cell_type": "code",
      "source": [
        "# Putting tensors and models onto GPU\n",
        "tensor = torch.tensor([1,2,3])\n",
        "tensor_on_gpu = tensor.to(device)\n",
        "tensor_on_gpu"
      ],
      "metadata": {
        "colab": {
          "base_uri": "https://localhost:8080/"
        },
        "id": "Y7yxC6F6tLab",
        "outputId": "5cdec4c2-894d-492a-82be-d85eee75296a"
      },
      "execution_count": null,
      "outputs": [
        {
          "output_type": "execute_result",
          "data": {
            "text/plain": [
              "tensor([1, 2, 3], device='cuda:0')"
            ]
          },
          "metadata": {},
          "execution_count": 6
        }
      ]
    }
  ]
}